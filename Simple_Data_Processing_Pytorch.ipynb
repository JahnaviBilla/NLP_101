{
  "cells": [
    {
      "cell_type": "markdown",
      "id": "Q4vVUgxxDJD0",
      "metadata": {
        "id": "Q4vVUgxxDJD0"
      },
      "source": [
        "# <font color = dodgerred>**HW1 - 15 Points** </font>\n",
        "- **You have to submit two files for this part of the HW**\n",
        "  >(1) ipynb (colab notebook) and<br>\n",
        "  >(2) pdf file (pdf version of the colab file).**\n",
        "- **Files should be named as follows**:\n",
        ">FirstName_LastName_HW_1**\n"
      ]
    },
    {
      "cell_type": "code",
      "execution_count": 38,
      "id": "IsWkg1CufBwg",
      "metadata": {
        "id": "IsWkg1CufBwg"
      },
      "outputs": [],
      "source": [
        "import torch\n",
        "import time"
      ]
    },
    {
      "cell_type": "markdown",
      "id": "2Voz6l5RUZRh",
      "metadata": {
        "id": "2Voz6l5RUZRh"
      },
      "source": [
        "# <font color = dodgerred>**Q1 : Create Tensor (1/2 Point)**\n",
        " Create a torch Tensor of shape (5, 3) which is filled with zeros. Modify the tensor to set element (0, 2) to 10 and element (2, 0)  to 100."
      ]
    },
    {
      "cell_type": "code",
      "execution_count": 39,
      "id": "bI9MwTaamhis",
      "metadata": {
        "id": "bI9MwTaamhis"
      },
      "outputs": [],
      "source": [
        "my_tensor = torch.zeros(5, 3)"
      ]
    },
    {
      "cell_type": "code",
      "execution_count": 40,
      "id": "7QEV2uq-yqZK",
      "metadata": {
        "colab": {
          "base_uri": "https://localhost:8080/",
          "height": 0
        },
        "id": "7QEV2uq-yqZK",
        "outputId": "5e08368e-497f-46ee-8684-431552eed535"
      },
      "outputs": [
        {
          "output_type": "execute_result",
          "data": {
            "text/plain": [
              "torch.Size([5, 3])"
            ]
          },
          "metadata": {},
          "execution_count": 40
        }
      ],
      "source": [
        "my_tensor.shape"
      ]
    },
    {
      "cell_type": "code",
      "execution_count": 41,
      "id": "yAxzhRVGyr6c",
      "metadata": {
        "colab": {
          "base_uri": "https://localhost:8080/",
          "height": 0
        },
        "id": "yAxzhRVGyr6c",
        "outputId": "032eb0a3-75d3-40f7-e9ee-8cd94995ac3e"
      },
      "outputs": [
        {
          "output_type": "execute_result",
          "data": {
            "text/plain": [
              "tensor([[0., 0., 0.],\n",
              "        [0., 0., 0.],\n",
              "        [0., 0., 0.],\n",
              "        [0., 0., 0.],\n",
              "        [0., 0., 0.]])"
            ]
          },
          "metadata": {},
          "execution_count": 41
        }
      ],
      "source": [
        "my_tensor"
      ]
    },
    {
      "cell_type": "code",
      "execution_count": 42,
      "id": "FCM4GuyWylQV",
      "metadata": {
        "id": "FCM4GuyWylQV"
      },
      "outputs": [],
      "source": [
        "# Manually set the value at the first row and third column to 10,\n",
        "# and the value at the third row and first column to 100 in the tensor named \"my_tensor\".\n",
        "\n",
        "# CODE HERE\n",
        "my_tensor[0, 2]=10\n",
        "my_tensor[2, 0]=100"
      ]
    },
    {
      "cell_type": "code",
      "execution_count": 43,
      "id": "ZdEftwuPyyx9",
      "metadata": {
        "colab": {
          "base_uri": "https://localhost:8080/",
          "height": 0
        },
        "id": "ZdEftwuPyyx9",
        "outputId": "0d3eb4a6-cde5-4c83-8d52-07adbed768e6"
      },
      "outputs": [
        {
          "output_type": "execute_result",
          "data": {
            "text/plain": [
              "tensor([[  0.,   0.,  10.],\n",
              "        [  0.,   0.,   0.],\n",
              "        [100.,   0.,   0.],\n",
              "        [  0.,   0.,   0.],\n",
              "        [  0.,   0.,   0.]])"
            ]
          },
          "metadata": {},
          "execution_count": 43
        }
      ],
      "source": [
        "my_tensor"
      ]
    },
    {
      "cell_type": "markdown",
      "id": "6Eoa6rF80ZTa",
      "metadata": {
        "id": "6Eoa6rF80ZTa"
      },
      "source": [
        "# <font color = dodgerred>**Q2: Reshape tensor (1/2 Point)**\n",
        "You have following tensor as input:\n",
        "\n",
        "```x=torch.tensor([0, 1, 2, 3, 4, 5, 6, 7, 8, 9, 10, 11, 12, 13, 14, 15, 16, 17, 18, 19, 20, 21, 22, 23])```\n",
        "\n",
        "Using only reshaping functions (like view, reshape, transpose, permute), you need to get at the following tensor as output:\n",
        "\n",
        "```\n",
        "tensor([[ 0,  4,  8, 12, 16, 20],\n",
        "        [ 1,  5,  9, 13, 17, 21],\n",
        "        [ 2,  6, 10, 14, 18, 22],\n",
        "        [ 3,  7, 11, 15, 19, 23]])\n",
        "```\n",
        "\n"
      ]
    },
    {
      "cell_type": "code",
      "execution_count": 44,
      "id": "LDBQ6kYZ-JRV",
      "metadata": {
        "id": "LDBQ6kYZ-JRV"
      },
      "outputs": [],
      "source": [
        "x=torch.tensor([0, 1, 2, 3, 4, 5, 6, 7, 8, 9, 10, 11, 12, 13, 14, 15, 16, 17, 18, 19, 20, 21, 22, 23])"
      ]
    },
    {
      "cell_type": "code",
      "execution_count": 45,
      "id": "b6_SdFS-ke_x",
      "metadata": {
        "colab": {
          "base_uri": "https://localhost:8080/",
          "height": 0
        },
        "id": "b6_SdFS-ke_x",
        "outputId": "f1f18ac1-5661-4085-cdc0-0a43e79a00d7"
      },
      "outputs": [
        {
          "output_type": "execute_result",
          "data": {
            "text/plain": [
              "tensor([[ 0,  4,  8, 12, 16, 20],\n",
              "        [ 1,  5,  9, 13, 17, 21],\n",
              "        [ 2,  6, 10, 14, 18, 22],\n",
              "        [ 3,  7, 11, 15, 19, 23]])"
            ]
          },
          "metadata": {},
          "execution_count": 45
        }
      ],
      "source": [
        "x = x.reshape(6,4).T\n",
        "x"
      ]
    },
    {
      "cell_type": "markdown",
      "id": "dnw5qi7A4ysc",
      "metadata": {
        "id": "dnw5qi7A4ysc"
      },
      "source": [
        "# <font color = dodgerred>**Q3: Slice tensor (1Point)**\n",
        "\n",
        "- Slice the tensor x to get the following\n",
        ">- last row of x\n",
        ">- fourth column of x\n",
        ">- first three rows and first two columns - the shape of subtensor should be (3,2)\n",
        ">- odd valued rows and columns"
      ]
    },
    {
      "cell_type": "code",
      "execution_count": 46,
      "id": "STbUdF0J5IBD",
      "metadata": {
        "colab": {
          "base_uri": "https://localhost:8080/",
          "height": 0
        },
        "id": "STbUdF0J5IBD",
        "outputId": "21033884-29ce-4f4e-fee8-d4525bb70ced"
      },
      "outputs": [
        {
          "output_type": "execute_result",
          "data": {
            "text/plain": [
              "tensor([[ 1,  2,  3,  4,  5],\n",
              "        [ 6,  7,  8,  8, 10],\n",
              "        [11, 12, 13, 14, 15]])"
            ]
          },
          "metadata": {},
          "execution_count": 46
        }
      ],
      "source": [
        "x = torch.tensor([[1, 2, 3, 4, 5], [6, 7, 8, 8, 10], [11, 12, 13, 14, 15]])\n",
        "x"
      ]
    },
    {
      "cell_type": "code",
      "execution_count": 47,
      "id": "mgHPm0qP5ZU3",
      "metadata": {
        "colab": {
          "base_uri": "https://localhost:8080/",
          "height": 0
        },
        "id": "mgHPm0qP5ZU3",
        "outputId": "8539d55e-7047-49da-9e81-7164bac7ecc1"
      },
      "outputs": [
        {
          "output_type": "execute_result",
          "data": {
            "text/plain": [
              "torch.Size([3, 5])"
            ]
          },
          "metadata": {},
          "execution_count": 47
        }
      ],
      "source": [
        "x.shape"
      ]
    },
    {
      "cell_type": "code",
      "execution_count": 48,
      "id": "hzQRs79A5JGd",
      "metadata": {
        "colab": {
          "base_uri": "https://localhost:8080/",
          "height": 0
        },
        "id": "hzQRs79A5JGd",
        "outputId": "842f768f-54e5-4b04-cdcd-73f4a26c6271"
      },
      "outputs": [
        {
          "output_type": "execute_result",
          "data": {
            "text/plain": [
              "tensor([11, 12, 13, 14, 15])"
            ]
          },
          "metadata": {},
          "execution_count": 48
        }
      ],
      "source": [
        "# Student Task: Retrieve the last row of the tensor 'x'\n",
        "# Hint: Negative indexing can help you select rows or columns counting from the end of the tensor.\n",
        "# Think about how you can select all columns for the desired row.\n",
        "last_row = x[-1,:]\n",
        "last_row"
      ]
    },
    {
      "cell_type": "code",
      "execution_count": 49,
      "id": "-mb_Et866ZEW",
      "metadata": {
        "colab": {
          "base_uri": "https://localhost:8080/",
          "height": 0
        },
        "id": "-mb_Et866ZEW",
        "outputId": "d33b0053-5473-4d62-89bd-28ce8f9ef0ee"
      },
      "outputs": [
        {
          "output_type": "execute_result",
          "data": {
            "text/plain": [
              "tensor([ 4,  8, 14])"
            ]
          },
          "metadata": {},
          "execution_count": 49
        }
      ],
      "source": [
        "# Student Task: Retrieve the fourth column of the tensor 'x'\n",
        "# Hint: Pay attention to the indexing for both rows and columns.\n",
        "# Remember that indexing in Python starts from zero.\n",
        "fourth_column = x[:,3]\n",
        "fourth_column"
      ]
    },
    {
      "cell_type": "code",
      "execution_count": 50,
      "id": "c2VaG6Y16jsA",
      "metadata": {
        "colab": {
          "base_uri": "https://localhost:8080/",
          "height": 0
        },
        "id": "c2VaG6Y16jsA",
        "outputId": "3aeb641e-e1fb-418c-9852-67774431c59a"
      },
      "outputs": [
        {
          "output_type": "execute_result",
          "data": {
            "text/plain": [
              "tensor([[ 1,  2],\n",
              "        [ 6,  7],\n",
              "        [11, 12]])"
            ]
          },
          "metadata": {},
          "execution_count": 50
        }
      ],
      "source": [
        "# Student Task: Retrieve the first 3 rows and first 2 columns from the tensor 'x'.\n",
        "# Hint: Use slicing to extract the required subset of rows and columns.\n",
        "first_3_rows_2_columns = x[:3,:2]\n",
        "first_3_rows_2_columns"
      ]
    },
    {
      "cell_type": "code",
      "execution_count": 51,
      "id": "RHnSUpxs7O82",
      "metadata": {
        "colab": {
          "base_uri": "https://localhost:8080/",
          "height": 0
        },
        "id": "RHnSUpxs7O82",
        "outputId": "b2cb1967-f299-4aa9-afdc-0b6a09fb05c8",
        "collapsed": true
      },
      "outputs": [
        {
          "output_type": "execute_result",
          "data": {
            "text/plain": [
              "tensor([[ 1,  3,  5],\n",
              "        [11, 13, 15]])"
            ]
          },
          "metadata": {},
          "execution_count": 51
        }
      ],
      "source": [
        "# Student Task: Retrieve the rows and columns with odd-indexed positions from the tensor 'x'.\n",
        "# Hint: Use stride slicing to extract the required subset of rows and columns with odd indices.\n",
        "odd_valued_rows_columns = x[::2,::2]\n",
        "odd_valued_rows_columns"
      ]
    },
    {
      "cell_type": "markdown",
      "id": "uSj20OEuf6bf",
      "metadata": {
        "id": "uSj20OEuf6bf"
      },
      "source": [
        "#  <font color = dodgerred>**Q4 -Normalize Function (1/2 Points)**<font>\n",
        "\n",
        "Write the function that normalizes the columns of a matrix. You have to compute the mean and standard deviation of each column. Then for each element of the column, you subtract the mean and divide by the standard deviation."
      ]
    },
    {
      "cell_type": "code",
      "execution_count": 52,
      "id": "8L9JBFNilkWt",
      "metadata": {
        "id": "8L9JBFNilkWt"
      },
      "outputs": [],
      "source": [
        "# Given Data\n",
        "x = [[ 3,  60,  100, -100],\n",
        "     [ 2,  20,  600, -600],\n",
        "     [-5,  50,  900, -900]]"
      ]
    },
    {
      "cell_type": "code",
      "execution_count": 53,
      "id": "iRrhopVBl-0q",
      "metadata": {
        "id": "iRrhopVBl-0q"
      },
      "outputs": [],
      "source": [
        "# Convert to PyTorch Tensor and set to float\n",
        "X = torch.tensor(x)\n",
        "X= X.float()"
      ]
    },
    {
      "cell_type": "code",
      "execution_count": 54,
      "id": "S2MaocHxmEQJ",
      "metadata": {
        "colab": {
          "base_uri": "https://localhost:8080/",
          "height": 0
        },
        "id": "S2MaocHxmEQJ",
        "outputId": "ad7051b7-8923-4d47-bbef-80039f9642fb"
      },
      "outputs": [
        {
          "output_type": "stream",
          "name": "stdout",
          "text": [
            "torch.Size([3, 4])\n",
            "torch.float32\n"
          ]
        }
      ],
      "source": [
        "# Print shape and data type for verification\n",
        "print(X.shape)\n",
        "print(X.dtype)"
      ]
    },
    {
      "cell_type": "code",
      "execution_count": 55,
      "id": "rPgb1L9RmQAU",
      "metadata": {
        "colab": {
          "base_uri": "https://localhost:8080/",
          "height": 0
        },
        "id": "rPgb1L9RmQAU",
        "outputId": "61e309ac-a499-4880-922d-46ce87b44a9c"
      },
      "outputs": [
        {
          "output_type": "execute_result",
          "data": {
            "text/plain": [
              "tensor([  4.3589,  20.8167, 404.1452, 404.1452])"
            ]
          },
          "metadata": {},
          "execution_count": 55
        }
      ],
      "source": [
        "# Compute and display the mean and standard deviation of each column for reference\n",
        "X.mean(axis = 0)\n",
        "X.std(axis = 0)"
      ]
    },
    {
      "cell_type": "code",
      "execution_count": 56,
      "id": "qnM87Db1mqFH",
      "metadata": {
        "colab": {
          "base_uri": "https://localhost:8080/",
          "height": 0
        },
        "id": "qnM87Db1mqFH",
        "outputId": "397d6dcc-346e-4a8a-f32f-99fd8d053d69"
      },
      "outputs": [
        {
          "output_type": "execute_result",
          "data": {
            "text/plain": [
              "tensor([  4.3589,  20.8167, 404.1452, 404.1452])"
            ]
          },
          "metadata": {},
          "execution_count": 56
        }
      ],
      "source": [
        "X.std(axis = 0)"
      ]
    },
    {
      "cell_type": "markdown",
      "source": [
        "- Your task starts here\n",
        "- Your normalize_matrix function should take a PyTorch tensor x as input.\n",
        "- It should return a tensor where the columns are normalized.\n",
        "- After implementing your function, use the code provided to verify if the mean for each column in Z is close to zero and the standard deviation is 1."
      ],
      "metadata": {
        "id": "Yy2hehDnJHOq"
      },
      "id": "Yy2hehDnJHOq"
    },
    {
      "cell_type": "code",
      "execution_count": 57,
      "id": "mwq8qnqFlu9V",
      "metadata": {
        "id": "mwq8qnqFlu9V"
      },
      "outputs": [],
      "source": [
        "def normalize_matrix(x):\n",
        "  # Calculate the mean along each column (think carefully , you will take mean along axis = 0 or 1)\n",
        "  mean = x.mean(axis = 0)\n",
        "\n",
        "  # Calculate the standard deviation along each column\n",
        "  std = x.std(axis = 0)\n",
        "\n",
        "  # Normalize each element in the columns by subtracting the mean and dividing by the standard deviation\n",
        "  y = (x - mean) /std\n",
        "\n",
        "  return y  # Return the normalized matrix\n",
        "\n"
      ]
    },
    {
      "cell_type": "code",
      "execution_count": 58,
      "id": "m027Qcgwm9OL",
      "metadata": {
        "colab": {
          "base_uri": "https://localhost:8080/",
          "height": 0
        },
        "id": "m027Qcgwm9OL",
        "outputId": "a087e82c-aeb1-4ee9-a38b-d188bcd1331a"
      },
      "outputs": [
        {
          "output_type": "execute_result",
          "data": {
            "text/plain": [
              "tensor([[ 0.6882,  0.8006, -1.0722,  1.0722],\n",
              "        [ 0.4588, -1.1209,  0.1650, -0.1650],\n",
              "        [-1.1471,  0.3203,  0.9073, -0.9073]])"
            ]
          },
          "metadata": {},
          "execution_count": 58
        }
      ],
      "source": [
        "Z = normalize_matrix(X)\n",
        "Z"
      ]
    },
    {
      "cell_type": "code",
      "execution_count": 59,
      "id": "78-0D3KfnHel",
      "metadata": {
        "colab": {
          "base_uri": "https://localhost:8080/",
          "height": 0
        },
        "id": "78-0D3KfnHel",
        "outputId": "96f05456-3dcf-4287-e3ab-25fe43f7b809"
      },
      "outputs": [
        {
          "output_type": "execute_result",
          "data": {
            "text/plain": [
              "tensor([ 0.0000e+00,  4.9671e-08,  3.9736e-08, -3.9736e-08])"
            ]
          },
          "metadata": {},
          "execution_count": 59
        }
      ],
      "source": [
        "Z.mean(axis = 0)"
      ]
    },
    {
      "cell_type": "markdown",
      "metadata": {
        "id": "cc32848b"
      },
      "source": [
        "# <font color = 'dodgerred'>**Q5: In-place vs. Out-of-place Operations (1 Point)**\n",
        "\n",
        "1. Create a tensor `A` with values `[1, 2, 3]`.\n",
        "2. Perform an in-place addition (use `add_` method) of `5` to tensor `A`.\n",
        "3. Then, create another tensor `B` with values `[4, 5, 6]` and perform an out-of-place addition of `5`.\n",
        "\n",
        "**Print the memory addresses of `A` and `B` before and after the operations to demonstrate the difference in memory usage. Provide explanation**\n"
      ],
      "id": "cc32848b"
    },
    {
      "cell_type": "code",
      "execution_count": 60,
      "metadata": {
        "id": "19b3aaa5",
        "colab": {
          "base_uri": "https://localhost:8080/",
          "height": 0
        },
        "outputId": "918e12a4-aad4-4a7c-c38a-d3346f8db039"
      },
      "outputs": [
        {
          "output_type": "stream",
          "name": "stdout",
          "text": [
            "Original memory address of A: 134874740532192\n",
            "Memory address of A after in-place addition: 134874740532192\n",
            "A after in-place addition: tensor([6, 7, 8])\n",
            "Original memory address of B: 134874738591920\n",
            "Memory address of B after out-of-place addition: 134874738591760\n",
            "B after out-of-place addition: tensor([ 9, 10, 11])\n"
          ]
        }
      ],
      "source": [
        "A = torch.tensor([1, 2, 3])\n",
        "print('Original memory address of A:', id(A))\n",
        "A.add_(5)\n",
        "print('Memory address of A after in-place addition:', id(A))\n",
        "print('A after in-place addition:', A)\n",
        "\n",
        "B = torch.tensor([4, 5, 6])\n",
        "print('Original memory address of B:', id(B))\n",
        "B=B+5\n",
        "print('Memory address of B after out-of-place addition:', id(B))\n",
        "print('B after out-of-place addition:', B)\n"
      ],
      "id": "19b3aaa5"
    },
    {
      "cell_type": "markdown",
      "source": [
        "**Provide Explanation for above question here :**\n",
        "\n",
        "\n",
        "Here, for A, which is an in-place operation. The arithmetic operation is performed in the same location (memory address). It has re-written the initial tensor values with new values.\n",
        "\n",
        "For B, it is an out-of-place operation, a new copy with the results of the operation is created at a different location. The original location values are still there at the previous location.\n",
        "\n",
        "Both result in same output, but A is more memory efficient but not used for activities where we are needed to retrieve original values again."
      ],
      "metadata": {
        "id": "aXi2TsYVElqy"
      },
      "id": "aXi2TsYVElqy"
    },
    {
      "cell_type": "markdown",
      "metadata": {
        "id": "f57bb1a4"
      },
      "source": [
        "# <font color = 'dodgerred'>**Q6: Tensor Broadcasting (1 Point)**\n",
        "\n",
        "1. Create two tensors `X` with shape `(3, 1)` and `Y` with shape `(1, 3)`. Perform an addition operation on `X` and `Y`.\n",
        "2. Explain how broadcasting is applied in this operation by describing the shape changes that occur internally."
      ],
      "id": "f57bb1a4"
    },
    {
      "cell_type": "code",
      "execution_count": 61,
      "metadata": {
        "id": "699f9bd9",
        "colab": {
          "base_uri": "https://localhost:8080/",
          "height": 0
        },
        "outputId": "3f2e1af5-d83b-4043-c1d7-5f50981cd4e1"
      },
      "outputs": [
        {
          "output_type": "stream",
          "name": "stdout",
          "text": [
            "Original shapes: torch.Size([3, 1]) torch.Size([1, 3])\n",
            "Result: tensor([[2., 3., 4.],\n",
            "        [2., 3., 4.],\n",
            "        [2., 3., 4.]])\n",
            "Result shape: torch.Size([3, 3])\n"
          ]
        }
      ],
      "source": [
        "X = torch.ones(3,1)\n",
        "Y = torch.tensor([[1,2,3]])\n",
        "print('Original shapes:', X.shape, Y.shape)\n",
        "result = X + Y\n",
        "print('Result:', result)\n",
        "print('Result shape:', result.shape)\n"
      ],
      "id": "699f9bd9"
    },
    {
      "cell_type": "markdown",
      "source": [
        "**Provide Explanation for above question here :**\n",
        "\n",
        "In broadcasting, smaller-sized tensor is broadcasted to match the dimensions of the larger-sized tensor along the dimensions where they differ so that they have compatible shapes for the arithmetic operation.\n",
        "\n",
        "X is expanded along the column dimension whose value is 1 to make it as 3*3 matrix and Y is expanded along the row dimension whose value is 1 to make it as 3*3 matrix.\n",
        "\n",
        "Here, broadcasting was able to happen because each tensor has at least one dimension and starting at the trailing dimension, one of the X, Y dimensions are euqal to 1.\n",
        "\n",
        "\n",
        "The expanded X is\n",
        "[1,1,1\n",
        "1,1,1\n",
        "1,1,1]\n",
        "\n",
        "and expanded Y is\n",
        "\n",
        "[1,2,3\n",
        "1,2,3\n",
        "1,2,3]\n",
        "\n",
        "and they are added."
      ],
      "metadata": {
        "id": "IblSVvPhE4-E"
      },
      "id": "IblSVvPhE4-E"
    },
    {
      "cell_type": "markdown",
      "metadata": {
        "id": "e1f2667e"
      },
      "source": [
        "# <font color = 'dodgerred'>**Q7: Linear Algebra Operations (1 Point)**\n",
        "\n",
        "1. Create two matrices `M1` and `M2` of compatible shapes for matrix multiplication. Perform the multiplication and print the result.\n",
        "2. Then, create two vectors `V1` and `V2` and compute their dot product.\n"
      ],
      "id": "e1f2667e"
    },
    {
      "cell_type": "code",
      "execution_count": 62,
      "metadata": {
        "colab": {
          "base_uri": "https://localhost:8080/",
          "height": 0
        },
        "id": "d45aed18",
        "outputId": "859d4117-76eb-45df-8e97-17cbe636b558"
      },
      "outputs": [
        {
          "output_type": "stream",
          "name": "stdout",
          "text": [
            "Matrix multiplication result: tensor([[ 90, 100, 110],\n",
            "        [240, 275, 310]])\n",
            "Dot product: tensor(50.)\n"
          ]
        }
      ],
      "source": [
        "M1 = torch.arange(0, 10).reshape(2, 5)\n",
        "M2 = torch.arange(0, 15).reshape(5, 3)\n",
        "mat_multiplication = torch.mm(M1,M2)\n",
        "print('Matrix multiplication result:', mat_multiplication)\n",
        "\n",
        "V1 = torch.Tensor([1,2,3,4])\n",
        "V2 = torch.Tensor([3,4,5,6])\n",
        "dot_product =  torch.dot(V1,V2)\n",
        "print('Dot product:', dot_product)\n"
      ],
      "id": "d45aed18"
    },
    {
      "cell_type": "markdown",
      "metadata": {
        "id": "fe24a961"
      },
      "source": [
        "# <font color = 'dodgerred'>**Q8: Manipulating Tensor Shapes (1 Point)**\n",
        "\n",
        "Given a tensor `T` with shape `(2, 3, 4)`, demonstrate how to\n",
        "1. reshape it to `(3, 8)` using view,\n",
        "2. reshape it to `(4, 2, 3` using reshape,\n",
        "3. transpose the first and last dimensions using permute.\n",
        "4. explain what is the difference between reshape and view"
      ],
      "id": "fe24a961"
    },
    {
      "cell_type": "code",
      "execution_count": 63,
      "metadata": {
        "id": "0644b861",
        "colab": {
          "base_uri": "https://localhost:8080/",
          "height": 0
        },
        "outputId": "2aeaa545-e2b1-448a-8159-340274b2de31"
      },
      "outputs": [
        {
          "output_type": "stream",
          "name": "stdout",
          "text": [
            "T_view shape: torch.Size([3, 8])\n",
            "T_reshape shape: torch.Size([4, 2, 3])\n",
            "T_permute shape: torch.Size([4, 3, 2])\n"
          ]
        }
      ],
      "source": [
        "T = torch.rand(2, 3, 4)\n",
        "T_view =  T.view(3, 8)\n",
        "print('T_view shape:', T_view.shape)\n",
        "\n",
        "T_reshape =  T.reshape(4, 2, 3)\n",
        "print('T_reshape shape:', T_reshape.shape)\n",
        "\n",
        "T_permute =  T.permute(2,1,0)\n",
        "print('T_permute shape:', T_permute.shape)"
      ],
      "id": "0644b861"
    },
    {
      "cell_type": "markdown",
      "source": [
        "**Provide Explanation for above question here :**\n",
        "\n",
        "Both view and reshape are used for changing the shape of the tensor without effecting the elements present.\n",
        "\n",
        "View is like an inplace operation. It does not create a copy and will perform fast and memory efficient computions. It can be operated only on contiguous tensor.\n",
        "\n",
        "Reshape may or may not share the same memory. Reshape can be performed on both contiguous or non-contiguous tensor."
      ],
      "metadata": {
        "id": "Lb-861xsFXHN"
      },
      "id": "Lb-861xsFXHN"
    },
    {
      "cell_type": "markdown",
      "metadata": {
        "id": "1d5c7b62"
      },
      "source": [
        "# <font color = 'dodgerred'>**Q9: Tensor Concatenation and Stacking (1 Point)**\n",
        "\n",
        "Create tensors `C1` and `C2` both with shape (2, 3).\n",
        "1. Concatenate them along dimension 0 and then along dimension 1. Print the shape of the resulting tensor.\n",
        "2. Afterwards, stack the same tensors alomng dimension 0  and print the shape of the resulting tensor.\n",
        "3. What is the difference between stacking and concatinating."
      ],
      "id": "1d5c7b62"
    },
    {
      "cell_type": "code",
      "execution_count": 64,
      "metadata": {
        "id": "69e2f7e0",
        "colab": {
          "base_uri": "https://localhost:8080/",
          "height": 0
        },
        "outputId": "c776be03-f4f5-4833-dada-5ae32f29b410"
      },
      "outputs": [
        {
          "output_type": "stream",
          "name": "stdout",
          "text": [
            "Concatenated along dimension 0: torch.Size([4, 3])\n",
            "Concatenated along dimension 1: torch.Size([2, 6])\n",
            "Stacked tensor shape: torch.Size([2, 2, 3])\n"
          ]
        }
      ],
      "source": [
        "C1 = torch.rand(2, 3)\n",
        "C2 = torch.rand(2, 3)\n",
        "concatenated_dim0 =  torch.cat((C1, C2), dim=0)\n",
        "print('Concatenated along dimension 0:', concatenated_dim0.shape)\n",
        "\n",
        "concatenated_dim1 =  torch.cat((C1, C2), dim=1)\n",
        "print('Concatenated along dimension 1:', concatenated_dim1.shape)\n",
        "\n",
        "stacked =  torch.stack((C1,C2))\n",
        "print('Stacked tensor shape:', stacked.shape)\n"
      ],
      "id": "69e2f7e0"
    },
    {
      "cell_type": "markdown",
      "source": [
        "**Explain the diffrence between concatinating and stacking here**\n",
        "\n",
        "Concatenation is appending a tensor along a dimension and they become one tensor/matrix. The resulting tensor will have same number of dimensions with varying dimension size (added) in the concatenated dimension.\n",
        "\n",
        "The tensor must have the same shape except in the concetatenating dimension during concatenation.\n",
        "\n",
        "Stacking a tensor is appending both tensors as individual tensors. It increases the number of dimensions present.\n"
      ],
      "metadata": {
        "id": "kmKpP5xBCCgt"
      },
      "id": "kmKpP5xBCCgt"
    },
    {
      "cell_type": "markdown",
      "metadata": {
        "id": "0d0ed971"
      },
      "source": [
        "# <font color = 'dodgerred'>**Q10: Advanced Indexing and Slicing (1 Point)**\n",
        "\n",
        "1. Given a tensor `D` with shape (6, 6), extract elements that are greater than 0.5.\n",
        "2. Then, extract the second and fourth rows from `D`.\n",
        "3. Finally, extract a sub-tensor from the top-left 3x3 block."
      ],
      "id": "0d0ed971"
    },
    {
      "cell_type": "code",
      "execution_count": 65,
      "metadata": {
        "id": "df969523",
        "colab": {
          "base_uri": "https://localhost:8080/",
          "height": 0
        },
        "outputId": "bdc16641-fdd7-46eb-e172-bb0544d0ca72"
      },
      "outputs": [
        {
          "output_type": "stream",
          "name": "stdout",
          "text": [
            "Elements greater than 0.5:\n",
            " tensor([0.7104, 0.9464, 0.7890, 0.7886, 0.5895, 0.7539, 0.9103, 0.6440, 0.7071,\n",
            "        0.6581, 0.8913, 0.5315, 0.6542, 0.6532, 0.9147, 0.9497, 0.6666, 0.9811,\n",
            "        0.7025])\n",
            "\n",
            "Second and fourth rows:\n",
            " tensor([[0.7539, 0.1952, 0.0050, 0.3068, 0.1165, 0.9103],\n",
            "        [0.5315, 0.1587, 0.6542, 0.3278, 0.6532, 0.3958]])\n",
            "\n",
            "Top-left 3x3 block:\n",
            "  tensor([[0.7104, 0.9464, 0.7890],\n",
            "        [0.7539, 0.1952, 0.0050],\n",
            "        [0.6440, 0.7071, 0.6581]])\n"
          ]
        }
      ],
      "source": [
        "D = torch.rand(6, 6)\n",
        "print('Elements greater than 0.5:\\n',  D[D>0.5])\n",
        "\n",
        "second_fourth_rows =  D[[1,3],:]\n",
        "print('\\nSecond and fourth rows:\\n', second_fourth_rows)\n",
        "\n",
        "top_left_3x3 =  D[0:3,0:3]\n",
        "print('\\nTop-left 3x3 block:\\n ', top_left_3x3)\n"
      ],
      "id": "df969523"
    },
    {
      "cell_type": "markdown",
      "metadata": {
        "id": "c081cf3b"
      },
      "source": [
        "# <font color = 'dodgerred'>**Q11: Tensor Mathematical Operations (1 Point)**\n",
        "\n",
        "1. Create a tensor `G` with values from 0 to π in steps of π/4.\n",
        "2. Compute and print the sine, cosine, and tangent logarithm and the exponential of `G`."
      ],
      "id": "c081cf3b"
    },
    {
      "cell_type": "code",
      "execution_count": 66,
      "metadata": {
        "id": "4c22b354",
        "colab": {
          "base_uri": "https://localhost:8080/",
          "height": 0
        },
        "outputId": "a295c716-759b-45d3-fd48-6bd9eb5823f4"
      },
      "outputs": [
        {
          "output_type": "stream",
          "name": "stdout",
          "text": [
            "G: tensor([0.0000, 0.7854, 1.5708, 2.3562, 3.1416])\n",
            "Sine of G: tensor([ 0.0000e+00,  7.0711e-01,  1.0000e+00,  7.0711e-01, -8.7423e-08])\n",
            "Cosine of G: tensor([ 1.0000e+00,  7.0711e-01, -4.3711e-08, -7.0711e-01, -1.0000e+00])\n",
            "Tangent of G: tensor([ 0.0000e+00,  1.0000e+00, -2.2877e+07, -1.0000e+00,  8.7423e-08])\n",
            "Natural logarithm of G: tensor([   -inf, -0.2416,  0.4516,  0.8570,  1.1447])\n",
            "Exponential of G: tensor([ 1.0000,  2.1933,  4.8105, 10.5507, 23.1407])\n"
          ]
        }
      ],
      "source": [
        "G = torch.tensor([i*torch.pi/4 for i in range(5)])\n",
        "print('G:', G)\n",
        "print('Sine of G:',  torch.sin(G))\n",
        "print('Cosine of G:',  torch.cos(G))\n",
        "print('Tangent of G:',  torch.tan(G))\n",
        "print('Natural logarithm of G:',  torch.log(G))\n",
        "print('Exponential of G:',  torch.exp(G))\n"
      ],
      "id": "4c22b354"
    },
    {
      "cell_type": "markdown",
      "metadata": {
        "id": "629eb94b"
      },
      "source": [
        "# <font color = 'dodgerred'>Q12: **Tensor Reduction Operations (1 Point)**\n",
        "\n",
        "1. Create a 3x2 tensor `H`.\n",
        "2. Compute the sum of `H`. Print the result and shape after taking sun.\n",
        "3. Then, perform the same operations along dimension 0 and dimension 1, printing the results and shapes.\n",
        "4. What do you observe? How the shape changes?"
      ],
      "id": "629eb94b"
    },
    {
      "cell_type": "code",
      "execution_count": 67,
      "metadata": {
        "id": "729d7275",
        "colab": {
          "base_uri": "https://localhost:8080/",
          "height": 0
        },
        "outputId": "8e2954d4-f3e6-4eaa-d8c8-cf51150ac684"
      },
      "outputs": [
        {
          "output_type": "stream",
          "name": "stdout",
          "text": [
            "H: tensor([[0.6790, 0.9155],\n",
            "        [0.2418, 0.1591],\n",
            "        [0.7653, 0.2979]])\n",
            "\n",
            "Shape of original Tensor H torch.Size([3, 2])\n",
            "\n",
            "Sum of H: tensor(3.0586)\n",
            "Shape after Sum of H: torch.Size([])\n",
            "\n",
            "Sum of H along dimension 0: tensor([1.6861, 1.3725])\n",
            "Shape after sum of H along dimension 0: torch.Size([2])\n",
            "\n",
            "Sum of H along dimension 1: tensor([1.5945, 0.4009, 1.0632])\n",
            "Shape after sum of H along dimension 1: torch.Size([3])\n"
          ]
        }
      ],
      "source": [
        "H = torch.rand(3, 2)\n",
        "print('H:', H, end = \"\\n\\n\")\n",
        "print('Shape of original Tensor H', H.shape, end = \"\\n\\n\")\n",
        "\n",
        "print('Sum of H:',  H.sum())\n",
        "print('Shape after Sum of H:',  H.sum().shape,  end = \"\\n\\n\")\n",
        "\n",
        "print('Sum of H along dimension 0:',  H.sum(dim=0))\n",
        "print('Shape after sum of H along dimension 0:', H.sum(dim=0).shape ,  end = \"\\n\\n\")\n",
        "\n",
        "print('Sum of H along dimension 1:', H.sum(dim=1))\n",
        "print('Shape after sum of H along dimension 1:',  H.sum(dim=1).shape)\n"
      ],
      "id": "729d7275"
    },
    {
      "cell_type": "markdown",
      "source": [
        "**Provide your observations on shape changes here**\n",
        "\n",
        "H.sum has returned a scalar value by summing all the elements in the tensor.\n",
        "\n",
        "dim = 0 is summing along the rows, has resulted in the sum of elements of each column. Hence, dimension is the number of columns.\n",
        "\n",
        "dim = 1 is summing along the columns, has resulted in the sum of elements of each row. Hence, dimension is the number of rows.\n"
      ],
      "metadata": {
        "id": "hfmDz2OLb8M2"
      },
      "id": "hfmDz2OLb8M2"
    },
    {
      "cell_type": "markdown",
      "metadata": {
        "id": "4a156a3a"
      },
      "source": [
        "# <font color = 'dodgerred'>**Q13: Working with Tensor Data Types (1 Point)**\n",
        "\n",
        "1. Create a tensor `I` of data type float with values `[1.0, 2.0, 3.0]`.\n",
        "2. Convert `I` to data type int and print the result.\n",
        "3. Explain in which scenarios it's necessary to be cautious about the data type of tensors."
      ],
      "id": "4a156a3a"
    },
    {
      "cell_type": "code",
      "execution_count": 68,
      "metadata": {
        "colab": {
          "base_uri": "https://localhost:8080/",
          "height": 0
        },
        "id": "af427555",
        "outputId": "81ed0784-6fc9-4e29-8437-937cd4f7c699"
      },
      "outputs": [
        {
          "output_type": "stream",
          "name": "stdout",
          "text": [
            "I: tensor([1., 2., 3.])\n",
            "I converted to int: tensor([1, 2, 3], dtype=torch.int32)\n"
          ]
        }
      ],
      "source": [
        "# Solution for Q16\n",
        "I =  torch.tensor([1.0, 2.0, 3.0])\n",
        "print('I:', I)\n",
        "I_int =  I.type(dtype=torch.int)\n",
        "print('I converted to int:', I_int)"
      ],
      "id": "af427555"
    },
    {
      "cell_type": "markdown",
      "source": [
        "**Your explanations here**\n",
        "\n",
        "It is necessary to be cautious about the data type of tensors when we want to optimize the memory and in large data cases where memory efficiency is important.\n",
        "\n",
        "Also, Where precision is important. If we want to round down or compute till the smallest decimal value based on the application area we are working on.\n"
      ],
      "metadata": {
        "id": "9yyx5WtweGNP"
      },
      "id": "9yyx5WtweGNP"
    },
    {
      "cell_type": "markdown",
      "metadata": {
        "id": "2TU6l0nC3EfW"
      },
      "source": [
        "# <font color = 'dodgerred'>**Q14. Speedtest for vectorization 1.5 Points** </font>\n",
        "\n",
        "Your goal is to measure the speed of linear algebra operations for different levels of vectorization.\n",
        "\n",
        "1. Construct two matrices $A$ and $B$ with Gaussian random entries of size $1024 \\times 1024$.\n",
        "1. Compute $C = A B$ using matrix-matrix operations and report the time. (Hint: Use torch.mm)\n",
        "1. Compute $C = A B$, treating $A$ as a matrix but computing the result for each column of $B$ one at a time. Report the time. (hint use torch.mv inside a for loop)\n",
        "1. Compute $C = A B$, treating $A$ and $B$ as collections of vectors. Report the time. (Hint: use torch.dot inside nested for loop)"
      ],
      "id": "2TU6l0nC3EfW"
    },
    {
      "cell_type": "code",
      "execution_count": 69,
      "metadata": {
        "id": "wkKjtX0HH2wz"
      },
      "outputs": [],
      "source": [
        "## Solution 1\n",
        "torch.manual_seed(42) # dod not chnage this\n",
        "A = torch.randn(1024,1024)\n",
        "B = torch.randn(1024,1024)"
      ],
      "id": "wkKjtX0HH2wz"
    },
    {
      "cell_type": "code",
      "execution_count": 70,
      "metadata": {
        "id": "kSMH_j5OD2ZB",
        "colab": {
          "base_uri": "https://localhost:8080/",
          "height": 0
        },
        "outputId": "293eeb9d-a2cb-45a7-ee69-eb37e20ebfb4"
      },
      "outputs": [
        {
          "output_type": "stream",
          "name": "stdout",
          "text": [
            "Matrix by matrix: 0.03574228286743164 seconds\n"
          ]
        }
      ],
      "source": [
        "## Solution 2\n",
        "start=time.time()\n",
        "\n",
        "C = torch.mm(A,B)\n",
        "\n",
        "print(\"Matrix by matrix: \" + str(time.time()-start) + \" seconds\")"
      ],
      "id": "kSMH_j5OD2ZB"
    },
    {
      "cell_type": "code",
      "execution_count": 71,
      "metadata": {
        "id": "-tU8yGBP-Crk",
        "colab": {
          "base_uri": "https://localhost:8080/",
          "height": 0
        },
        "outputId": "daa9897b-de22-4991-c21c-7c6f1ce8f947"
      },
      "outputs": [
        {
          "output_type": "stream",
          "name": "stdout",
          "text": [
            "Matrix by vector: 0.30179882049560547 seconds\n"
          ]
        }
      ],
      "source": [
        "## Solution 3\n",
        "C= torch.empty(1024,1024)\n",
        "start = time.time()\n",
        "\n",
        "for i in range(1024):\n",
        "  C[:,i]=torch.mv(A,B[:,i])\n",
        "\n",
        "print(\"Matrix by vector: \" + str(time.time()-start) + \" seconds\")"
      ],
      "id": "-tU8yGBP-Crk"
    },
    {
      "cell_type": "code",
      "execution_count": 72,
      "metadata": {
        "id": "MFgJCFf6DUFK",
        "colab": {
          "base_uri": "https://localhost:8080/",
          "height": 0
        },
        "outputId": "6414ab28-f959-4080-dd8c-7fbbc4368b05"
      },
      "outputs": [
        {
          "output_type": "stream",
          "name": "stdout",
          "text": [
            "vector by vector: 25.868030309677124 seconds\n"
          ]
        }
      ],
      "source": [
        "## Solution 4\n",
        "C= torch.empty(1024,1024)\n",
        "start = time.time()\n",
        "\n",
        "for i in range(1024):\n",
        "  for j in range(1024):\n",
        "    C[i,j] = torch.dot(A[i],B[:,j])\n",
        "\n",
        "print(\"vector by vector: \" + str(time.time()-start) + \" seconds\")"
      ],
      "id": "MFgJCFf6DUFK"
    },
    {
      "cell_type": "markdown",
      "metadata": {
        "id": "TtYsJM4mJNdE"
      },
      "source": [
        "# <font color = 'dodgerred'>**Q15 : Redo Question 14 by using GPU - 1.5 Points**"
      ],
      "id": "TtYsJM4mJNdE"
    },
    {
      "cell_type": "markdown",
      "metadata": {
        "id": "fxJ1UlTf3Efb"
      },
      "source": [
        "<font size = 4, color = 'dodgerred'> **Using GPUs**\n",
        "\n",
        "How to use GPUs in Google Colab<br>\n",
        "In Google Colab -- Go to Runtime Tab at top -- select change runtime type -- for hardware accelartor choose GPU"
      ],
      "id": "fxJ1UlTf3Efb"
    },
    {
      "cell_type": "code",
      "execution_count": 73,
      "metadata": {
        "id": "_6ilpofMIe1e",
        "colab": {
          "base_uri": "https://localhost:8080/",
          "height": 0
        },
        "outputId": "6e27add3-ed47-4916-d7af-99abe18b148f"
      },
      "outputs": [
        {
          "output_type": "stream",
          "name": "stdout",
          "text": [
            "cuda:0\n"
          ]
        }
      ],
      "source": [
        "# Check if GPU is availaible\n",
        "device = torch.device('cuda:0' if torch.cuda.is_available() else 'cpu')\n",
        "print(device)"
      ],
      "id": "_6ilpofMIe1e"
    },
    {
      "cell_type": "code",
      "execution_count": 74,
      "metadata": {
        "id": "4XMhjifbJcu0"
      },
      "outputs": [],
      "source": [
        "## Solution 1\n",
        "torch.manual_seed(42)\n",
        "A= torch.randn((1024, 1024),device=device)\n",
        "B= torch.randn((1024, 1024),device=device)"
      ],
      "id": "4XMhjifbJcu0"
    },
    {
      "cell_type": "code",
      "execution_count": 75,
      "metadata": {
        "id": "pn-ZKI7sK9Oh",
        "colab": {
          "base_uri": "https://localhost:8080/",
          "height": 0
        },
        "outputId": "eae81813-20ce-4c64-eb1d-c303e94b3fe8"
      },
      "outputs": [
        {
          "output_type": "stream",
          "name": "stdout",
          "text": [
            "Matrix by matrix: 0.00033164024353027344 seconds\n"
          ]
        }
      ],
      "source": [
        "## Solution 2\n",
        "start=time.time()\n",
        "\n",
        "C = torch.mm(A,B)\n",
        "\n",
        "print(\"Matrix by matrix: \" + str(time.time()-start) + \" seconds\")"
      ],
      "id": "pn-ZKI7sK9Oh"
    },
    {
      "cell_type": "code",
      "execution_count": 76,
      "metadata": {
        "id": "GcHPGEitLL8i",
        "colab": {
          "base_uri": "https://localhost:8080/",
          "height": 0
        },
        "outputId": "7dc1b904-f51c-49b9-919e-bf8acae1a5e6"
      },
      "outputs": [
        {
          "output_type": "stream",
          "name": "stdout",
          "text": [
            "Matrix by vector: 0.04912614822387695 seconds\n"
          ]
        }
      ],
      "source": [
        "## Solution 3\n",
        "C= torch.empty(1024,1024, device = device)\n",
        "start = time.time()\n",
        "\n",
        "for i in range(1024):\n",
        "  C[:,i]=torch.mv(A,B[:,i])\n",
        "\n",
        "print(\"Matrix by vector: \" + str(time.time()-start) + \" seconds\")"
      ],
      "id": "GcHPGEitLL8i"
    },
    {
      "cell_type": "code",
      "execution_count": 77,
      "metadata": {
        "id": "wZ5LWSa2Lrdw",
        "colab": {
          "base_uri": "https://localhost:8080/",
          "height": 0
        },
        "outputId": "e5301169-ba64-42b6-d1f9-7e1cab2b7dd4"
      },
      "outputs": [
        {
          "output_type": "stream",
          "name": "stdout",
          "text": [
            "vector by vector: 45.2331748008728 seconds\n"
          ]
        }
      ],
      "source": [
        "## Solution 4\n",
        "C= torch.empty(1024,1024, device = device)\n",
        "start = time.time()\n",
        "\n",
        "for i in range(1024):\n",
        "  for j in range(1024):\n",
        "    C[i,j]=torch.dot(A[i,:],B[:,j])\n",
        "\n",
        "print(\"vector by vector: \" + str(time.time()-start) + \" seconds\")"
      ],
      "id": "wZ5LWSa2Lrdw"
    }
  ],
  "metadata": {
    "accelerator": "GPU",
    "colab": {
      "provenance": [],
      "gpuType": "T4",
      "toc_visible": true
    },
    "kernelspec": {
      "display_name": "Python 3",
      "name": "python3"
    },
    "language_info": {
      "codemirror_mode": {
        "name": "ipython",
        "version": 3
      },
      "file_extension": ".py",
      "mimetype": "text/x-python",
      "name": "python",
      "nbconvert_exporter": "python",
      "pygments_lexer": "ipython3",
      "version": "3.9.13"
    }
  },
  "nbformat": 4,
  "nbformat_minor": 5
}
