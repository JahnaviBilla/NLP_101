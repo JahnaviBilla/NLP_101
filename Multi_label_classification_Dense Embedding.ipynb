{
  "nbformat": 4,
  "nbformat_minor": 0,
  "metadata": {
    "colab": {
      "provenance": [],
      "toc_visible": true,
      "gpuType": "T4"
    },
    "kernelspec": {
      "name": "python3",
      "display_name": "Python 3"
    },
    "language_info": {
      "name": "python"
    },
    "accelerator": "GPU"
  },
  "cells": [
    {
      "cell_type": "code",
      "source": [
        "!pip install torchinfo"
      ],
      "metadata": {
        "id": "F3BRMCpXZGVK",
        "colab": {
          "base_uri": "https://localhost:8080/"
        },
        "outputId": "6ca8e503-9352-4664-dcb3-26c287086d74"
      },
      "execution_count": 318,
      "outputs": [
        {
          "output_type": "stream",
          "name": "stdout",
          "text": [
            "Requirement already satisfied: torchinfo in /usr/local/lib/python3.10/dist-packages (1.8.0)\n"
          ]
        }
      ]
    },
    {
      "cell_type": "code",
      "source": [
        "!pip install torchmetrics"
      ],
      "metadata": {
        "id": "po6lY_C8RVH2",
        "colab": {
          "base_uri": "https://localhost:8080/"
        },
        "outputId": "092ccd9b-9afb-43b5-b08c-42371a23e5a7"
      },
      "execution_count": 319,
      "outputs": [
        {
          "output_type": "stream",
          "name": "stdout",
          "text": [
            "Requirement already satisfied: torchmetrics in /usr/local/lib/python3.10/dist-packages (1.3.1)\n",
            "Requirement already satisfied: numpy>1.20.0 in /usr/local/lib/python3.10/dist-packages (from torchmetrics) (1.25.2)\n",
            "Requirement already satisfied: packaging>17.1 in /usr/local/lib/python3.10/dist-packages (from torchmetrics) (23.2)\n",
            "Requirement already satisfied: torch>=1.10.0 in /usr/local/lib/python3.10/dist-packages (from torchmetrics) (2.1.0+cu121)\n",
            "Requirement already satisfied: lightning-utilities>=0.8.0 in /usr/local/lib/python3.10/dist-packages (from torchmetrics) (0.10.1)\n",
            "Requirement already satisfied: setuptools in /usr/local/lib/python3.10/dist-packages (from lightning-utilities>=0.8.0->torchmetrics) (67.7.2)\n",
            "Requirement already satisfied: typing-extensions in /usr/local/lib/python3.10/dist-packages (from lightning-utilities>=0.8.0->torchmetrics) (4.10.0)\n",
            "Requirement already satisfied: filelock in /usr/local/lib/python3.10/dist-packages (from torch>=1.10.0->torchmetrics) (3.13.1)\n",
            "Requirement already satisfied: sympy in /usr/local/lib/python3.10/dist-packages (from torch>=1.10.0->torchmetrics) (1.12)\n",
            "Requirement already satisfied: networkx in /usr/local/lib/python3.10/dist-packages (from torch>=1.10.0->torchmetrics) (3.2.1)\n",
            "Requirement already satisfied: jinja2 in /usr/local/lib/python3.10/dist-packages (from torch>=1.10.0->torchmetrics) (3.1.3)\n",
            "Requirement already satisfied: fsspec in /usr/local/lib/python3.10/dist-packages (from torch>=1.10.0->torchmetrics) (2023.6.0)\n",
            "Requirement already satisfied: triton==2.1.0 in /usr/local/lib/python3.10/dist-packages (from torch>=1.10.0->torchmetrics) (2.1.0)\n",
            "Requirement already satisfied: MarkupSafe>=2.0 in /usr/local/lib/python3.10/dist-packages (from jinja2->torch>=1.10.0->torchmetrics) (2.1.5)\n",
            "Requirement already satisfied: mpmath>=0.19 in /usr/local/lib/python3.10/dist-packages (from sympy->torch>=1.10.0->torchmetrics) (1.3.0)\n"
          ]
        }
      ]
    },
    {
      "cell_type": "code",
      "execution_count": 320,
      "metadata": {
        "id": "c88Rf1DUBV8V"
      },
      "outputs": [],
      "source": [
        "# Importing generic Libraries\n",
        "import numpy as np\n",
        "import pandas as pd\n",
        "import sys\n",
        "\n",
        "# Printing: Import the pprint function from the pprint module for formatted output of text\n",
        "from pprint import pprint"
      ]
    },
    {
      "cell_type": "code",
      "source": [
        "# Import homework related libraries\n",
        "## Dataload\n",
        "from pathlib import Path\n",
        "import joblib\n",
        "\n",
        "## data processing libaries\n",
        "from ast import literal_eval#to convert list elements to integer\n",
        "\n",
        "## sklearn libraries\n",
        "### preprocessing\n",
        "from sklearn.preprocessing import MultiLabelBinarizer\n",
        "### split\n",
        "from sklearn.model_selection import train_test_split\n",
        "\n",
        "# Importing PyTorch library for tensor computations and neural network modules\n",
        "import torch\n",
        "import torch.nn as nn\n",
        "\n",
        "import torch.optim as optim\n",
        "from torch.optim import AdamW\n",
        "\n",
        "# For working with textual data vocabularies and for displaying model summaries\n",
        "from torchtext.vocab import vocab\n",
        "from torchinfo import summary\n",
        "\n",
        "# to create vocab\n",
        "from collections import Counter\n",
        "\n",
        "# For creating lightweight attribute classes and for partial function application\n",
        "from functools import partial\n",
        "\n",
        "# for the random number fixing\n",
        "import random\n",
        "\n",
        "# Import HammingDistance from torchmetrics\n",
        "# HammingDistance is useful for evaluating multi-label classification problems.\n",
        "from torchmetrics import HammingDistance\n",
        "\n",
        "#for clipping\n",
        "from torch.nn.utils import clip_grad_value_\n",
        "\n",
        "# For plotting and visualization\n",
        "import matplotlib.pyplot as plt\n",
        "import seaborn as sns\n",
        "\n",
        "# For filesystem path handling, generating and displaying confusion matrices, and date-time manipulations\n",
        "from pathlib import Path\n",
        "from sklearn.metrics import multilabel_confusion_matrix\n",
        "from datetime import datetime\n"
      ],
      "metadata": {
        "id": "Iyqd6-M-CIm7"
      },
      "execution_count": 321,
      "outputs": []
    },
    {
      "cell_type": "markdown",
      "source": [
        "## Data Load"
      ],
      "metadata": {
        "id": "cWQxb_dYBmjz"
      }
    },
    {
      "cell_type": "code",
      "source": [
        "if 'google.colab' in str(get_ipython()):\n",
        "  from google.colab import drive\n",
        "  drive.mount('/content/drive',force_remount=True)\n",
        "\n",
        "  basepath = '/content/drive/MyDrive/NLP/Data_Folder'\n",
        "  sys.path.append(basepath)\n",
        "else:\n",
        "  basepath = 'C:/Users/billa/Documents/UTD/Sem 5/NLP/Data_Folder'\n",
        "  sys.path.append(basepath)"
      ],
      "metadata": {
        "colab": {
          "base_uri": "https://localhost:8080/"
        },
        "id": "mviRuM6qBiqT",
        "outputId": "b2808182-14cf-40cb-e9dc-f6004803118a"
      },
      "execution_count": 322,
      "outputs": [
        {
          "output_type": "stream",
          "name": "stdout",
          "text": [
            "Mounted at /content/drive\n"
          ]
        }
      ]
    },
    {
      "cell_type": "code",
      "source": [
        "sys.path"
      ],
      "metadata": {
        "colab": {
          "base_uri": "https://localhost:8080/"
        },
        "id": "W-lYn37jX5a5",
        "outputId": "c20dcd17-d460-40d5-f7ac-511eb7f45f07"
      },
      "execution_count": 323,
      "outputs": [
        {
          "output_type": "execute_result",
          "data": {
            "text/plain": [
              "['/content',\n",
              " '/env/python',\n",
              " '/usr/lib/python310.zip',\n",
              " '/usr/lib/python3.10',\n",
              " '/usr/lib/python3.10/lib-dynload',\n",
              " '',\n",
              " '/usr/local/lib/python3.10/dist-packages',\n",
              " '/usr/lib/python3/dist-packages',\n",
              " '/usr/local/lib/python3.10/dist-packages/IPython/extensions',\n",
              " '/root/.ipython',\n",
              " '/content/drive/MyDrive/NLP/Data_Folder',\n",
              " '/content/drive/MyDrive/NLP/Data_Folder',\n",
              " '/content/drive/MyDrive/NLP/Data_Folder',\n",
              " '/content/drive/MyDrive/NLP/Data_Folder',\n",
              " '/content/drive/MyDrive/NLP/Data_Folder',\n",
              " '/content/drive/MyDrive/NLP/Data_Folder',\n",
              " '/content/drive/MyDrive/NLP/Data_Folder']"
            ]
          },
          "metadata": {},
          "execution_count": 323
        }
      ]
    },
    {
      "cell_type": "code",
      "source": [
        "base_folder = Path(basepath)\n",
        "data_folder = base_folder/'datasets/Multilabel'\n",
        "model_folder = base_folder /'Models/Multilabel'"
      ],
      "metadata": {
        "id": "yZ52cI8xHNst"
      },
      "execution_count": 324,
      "outputs": []
    },
    {
      "cell_type": "code",
      "source": [
        "multilabel_file = data_folder/ 'df_multilabel_hw_cleaned.joblib'\n",
        "df = joblib.load(multilabel_file)"
      ],
      "metadata": {
        "id": "nWsu69SPZvWx"
      },
      "execution_count": 325,
      "outputs": []
    },
    {
      "cell_type": "code",
      "source": [
        "df.dropna(inplace=True)"
      ],
      "metadata": {
        "id": "s38zKyJhYBhj"
      },
      "execution_count": 326,
      "outputs": []
    },
    {
      "cell_type": "markdown",
      "source": [
        "### Y_var datatype"
      ],
      "metadata": {
        "id": "zIOD0obgcqmy"
      }
    },
    {
      "cell_type": "code",
      "source": [
        "df.head()"
      ],
      "metadata": {
        "colab": {
          "base_uri": "https://localhost:8080/",
          "height": 206
        },
        "id": "BtG2C7ziasOk",
        "outputId": "d297b0a5-9e64-4382-cbea-1263b83b659c"
      },
      "execution_count": 327,
      "outputs": [
        {
          "output_type": "execute_result",
          "data": {
            "text/plain": [
              "                                        cleaned_text               Tags  \\\n",
              "0  asp query stre dropdown webpage follow control...         c# asp.net   \n",
              "1  run javascript code server java code want run ...    java javascript   \n",
              "2  linq sql throw exception row find change hi li...         c# asp.net   \n",
              "3  run python script php server run nginx web ser...         php python   \n",
              "4  advice write function m try write function res...  javascript jquery   \n",
              "\n",
              "  Tag_Number  \n",
              "0     [0, 9]  \n",
              "1     [1, 3]  \n",
              "2     [0, 9]  \n",
              "3     [2, 7]  \n",
              "4     [3, 5]  "
            ],
            "text/html": [
              "\n",
              "  <div id=\"df-d2dbfc22-f011-4c9c-9916-e0a68b732ae2\" class=\"colab-df-container\">\n",
              "    <div>\n",
              "<style scoped>\n",
              "    .dataframe tbody tr th:only-of-type {\n",
              "        vertical-align: middle;\n",
              "    }\n",
              "\n",
              "    .dataframe tbody tr th {\n",
              "        vertical-align: top;\n",
              "    }\n",
              "\n",
              "    .dataframe thead th {\n",
              "        text-align: right;\n",
              "    }\n",
              "</style>\n",
              "<table border=\"1\" class=\"dataframe\">\n",
              "  <thead>\n",
              "    <tr style=\"text-align: right;\">\n",
              "      <th></th>\n",
              "      <th>cleaned_text</th>\n",
              "      <th>Tags</th>\n",
              "      <th>Tag_Number</th>\n",
              "    </tr>\n",
              "  </thead>\n",
              "  <tbody>\n",
              "    <tr>\n",
              "      <th>0</th>\n",
              "      <td>asp query stre dropdown webpage follow control...</td>\n",
              "      <td>c# asp.net</td>\n",
              "      <td>[0, 9]</td>\n",
              "    </tr>\n",
              "    <tr>\n",
              "      <th>1</th>\n",
              "      <td>run javascript code server java code want run ...</td>\n",
              "      <td>java javascript</td>\n",
              "      <td>[1, 3]</td>\n",
              "    </tr>\n",
              "    <tr>\n",
              "      <th>2</th>\n",
              "      <td>linq sql throw exception row find change hi li...</td>\n",
              "      <td>c# asp.net</td>\n",
              "      <td>[0, 9]</td>\n",
              "    </tr>\n",
              "    <tr>\n",
              "      <th>3</th>\n",
              "      <td>run python script php server run nginx web ser...</td>\n",
              "      <td>php python</td>\n",
              "      <td>[2, 7]</td>\n",
              "    </tr>\n",
              "    <tr>\n",
              "      <th>4</th>\n",
              "      <td>advice write function m try write function res...</td>\n",
              "      <td>javascript jquery</td>\n",
              "      <td>[3, 5]</td>\n",
              "    </tr>\n",
              "  </tbody>\n",
              "</table>\n",
              "</div>\n",
              "    <div class=\"colab-df-buttons\">\n",
              "\n",
              "  <div class=\"colab-df-container\">\n",
              "    <button class=\"colab-df-convert\" onclick=\"convertToInteractive('df-d2dbfc22-f011-4c9c-9916-e0a68b732ae2')\"\n",
              "            title=\"Convert this dataframe to an interactive table.\"\n",
              "            style=\"display:none;\">\n",
              "\n",
              "  <svg xmlns=\"http://www.w3.org/2000/svg\" height=\"24px\" viewBox=\"0 -960 960 960\">\n",
              "    <path d=\"M120-120v-720h720v720H120Zm60-500h600v-160H180v160Zm220 220h160v-160H400v160Zm0 220h160v-160H400v160ZM180-400h160v-160H180v160Zm440 0h160v-160H620v160ZM180-180h160v-160H180v160Zm440 0h160v-160H620v160Z\"/>\n",
              "  </svg>\n",
              "    </button>\n",
              "\n",
              "  <style>\n",
              "    .colab-df-container {\n",
              "      display:flex;\n",
              "      gap: 12px;\n",
              "    }\n",
              "\n",
              "    .colab-df-convert {\n",
              "      background-color: #E8F0FE;\n",
              "      border: none;\n",
              "      border-radius: 50%;\n",
              "      cursor: pointer;\n",
              "      display: none;\n",
              "      fill: #1967D2;\n",
              "      height: 32px;\n",
              "      padding: 0 0 0 0;\n",
              "      width: 32px;\n",
              "    }\n",
              "\n",
              "    .colab-df-convert:hover {\n",
              "      background-color: #E2EBFA;\n",
              "      box-shadow: 0px 1px 2px rgba(60, 64, 67, 0.3), 0px 1px 3px 1px rgba(60, 64, 67, 0.15);\n",
              "      fill: #174EA6;\n",
              "    }\n",
              "\n",
              "    .colab-df-buttons div {\n",
              "      margin-bottom: 4px;\n",
              "    }\n",
              "\n",
              "    [theme=dark] .colab-df-convert {\n",
              "      background-color: #3B4455;\n",
              "      fill: #D2E3FC;\n",
              "    }\n",
              "\n",
              "    [theme=dark] .colab-df-convert:hover {\n",
              "      background-color: #434B5C;\n",
              "      box-shadow: 0px 1px 3px 1px rgba(0, 0, 0, 0.15);\n",
              "      filter: drop-shadow(0px 1px 2px rgba(0, 0, 0, 0.3));\n",
              "      fill: #FFFFFF;\n",
              "    }\n",
              "  </style>\n",
              "\n",
              "    <script>\n",
              "      const buttonEl =\n",
              "        document.querySelector('#df-d2dbfc22-f011-4c9c-9916-e0a68b732ae2 button.colab-df-convert');\n",
              "      buttonEl.style.display =\n",
              "        google.colab.kernel.accessAllowed ? 'block' : 'none';\n",
              "\n",
              "      async function convertToInteractive(key) {\n",
              "        const element = document.querySelector('#df-d2dbfc22-f011-4c9c-9916-e0a68b732ae2');\n",
              "        const dataTable =\n",
              "          await google.colab.kernel.invokeFunction('convertToInteractive',\n",
              "                                                    [key], {});\n",
              "        if (!dataTable) return;\n",
              "\n",
              "        const docLinkHtml = 'Like what you see? Visit the ' +\n",
              "          '<a target=\"_blank\" href=https://colab.research.google.com/notebooks/data_table.ipynb>data table notebook</a>'\n",
              "          + ' to learn more about interactive tables.';\n",
              "        element.innerHTML = '';\n",
              "        dataTable['output_type'] = 'display_data';\n",
              "        await google.colab.output.renderOutput(dataTable, element);\n",
              "        const docLink = document.createElement('div');\n",
              "        docLink.innerHTML = docLinkHtml;\n",
              "        element.appendChild(docLink);\n",
              "      }\n",
              "    </script>\n",
              "  </div>\n",
              "\n",
              "\n",
              "<div id=\"df-800e3b61-0ce9-4eb1-90ec-3e5b5ae77eb0\">\n",
              "  <button class=\"colab-df-quickchart\" onclick=\"quickchart('df-800e3b61-0ce9-4eb1-90ec-3e5b5ae77eb0')\"\n",
              "            title=\"Suggest charts\"\n",
              "            style=\"display:none;\">\n",
              "\n",
              "<svg xmlns=\"http://www.w3.org/2000/svg\" height=\"24px\"viewBox=\"0 0 24 24\"\n",
              "     width=\"24px\">\n",
              "    <g>\n",
              "        <path d=\"M19 3H5c-1.1 0-2 .9-2 2v14c0 1.1.9 2 2 2h14c1.1 0 2-.9 2-2V5c0-1.1-.9-2-2-2zM9 17H7v-7h2v7zm4 0h-2V7h2v10zm4 0h-2v-4h2v4z\"/>\n",
              "    </g>\n",
              "</svg>\n",
              "  </button>\n",
              "\n",
              "<style>\n",
              "  .colab-df-quickchart {\n",
              "      --bg-color: #E8F0FE;\n",
              "      --fill-color: #1967D2;\n",
              "      --hover-bg-color: #E2EBFA;\n",
              "      --hover-fill-color: #174EA6;\n",
              "      --disabled-fill-color: #AAA;\n",
              "      --disabled-bg-color: #DDD;\n",
              "  }\n",
              "\n",
              "  [theme=dark] .colab-df-quickchart {\n",
              "      --bg-color: #3B4455;\n",
              "      --fill-color: #D2E3FC;\n",
              "      --hover-bg-color: #434B5C;\n",
              "      --hover-fill-color: #FFFFFF;\n",
              "      --disabled-bg-color: #3B4455;\n",
              "      --disabled-fill-color: #666;\n",
              "  }\n",
              "\n",
              "  .colab-df-quickchart {\n",
              "    background-color: var(--bg-color);\n",
              "    border: none;\n",
              "    border-radius: 50%;\n",
              "    cursor: pointer;\n",
              "    display: none;\n",
              "    fill: var(--fill-color);\n",
              "    height: 32px;\n",
              "    padding: 0;\n",
              "    width: 32px;\n",
              "  }\n",
              "\n",
              "  .colab-df-quickchart:hover {\n",
              "    background-color: var(--hover-bg-color);\n",
              "    box-shadow: 0 1px 2px rgba(60, 64, 67, 0.3), 0 1px 3px 1px rgba(60, 64, 67, 0.15);\n",
              "    fill: var(--button-hover-fill-color);\n",
              "  }\n",
              "\n",
              "  .colab-df-quickchart-complete:disabled,\n",
              "  .colab-df-quickchart-complete:disabled:hover {\n",
              "    background-color: var(--disabled-bg-color);\n",
              "    fill: var(--disabled-fill-color);\n",
              "    box-shadow: none;\n",
              "  }\n",
              "\n",
              "  .colab-df-spinner {\n",
              "    border: 2px solid var(--fill-color);\n",
              "    border-color: transparent;\n",
              "    border-bottom-color: var(--fill-color);\n",
              "    animation:\n",
              "      spin 1s steps(1) infinite;\n",
              "  }\n",
              "\n",
              "  @keyframes spin {\n",
              "    0% {\n",
              "      border-color: transparent;\n",
              "      border-bottom-color: var(--fill-color);\n",
              "      border-left-color: var(--fill-color);\n",
              "    }\n",
              "    20% {\n",
              "      border-color: transparent;\n",
              "      border-left-color: var(--fill-color);\n",
              "      border-top-color: var(--fill-color);\n",
              "    }\n",
              "    30% {\n",
              "      border-color: transparent;\n",
              "      border-left-color: var(--fill-color);\n",
              "      border-top-color: var(--fill-color);\n",
              "      border-right-color: var(--fill-color);\n",
              "    }\n",
              "    40% {\n",
              "      border-color: transparent;\n",
              "      border-right-color: var(--fill-color);\n",
              "      border-top-color: var(--fill-color);\n",
              "    }\n",
              "    60% {\n",
              "      border-color: transparent;\n",
              "      border-right-color: var(--fill-color);\n",
              "    }\n",
              "    80% {\n",
              "      border-color: transparent;\n",
              "      border-right-color: var(--fill-color);\n",
              "      border-bottom-color: var(--fill-color);\n",
              "    }\n",
              "    90% {\n",
              "      border-color: transparent;\n",
              "      border-bottom-color: var(--fill-color);\n",
              "    }\n",
              "  }\n",
              "</style>\n",
              "\n",
              "  <script>\n",
              "    async function quickchart(key) {\n",
              "      const quickchartButtonEl =\n",
              "        document.querySelector('#' + key + ' button');\n",
              "      quickchartButtonEl.disabled = true;  // To prevent multiple clicks.\n",
              "      quickchartButtonEl.classList.add('colab-df-spinner');\n",
              "      try {\n",
              "        const charts = await google.colab.kernel.invokeFunction(\n",
              "            'suggestCharts', [key], {});\n",
              "      } catch (error) {\n",
              "        console.error('Error during call to suggestCharts:', error);\n",
              "      }\n",
              "      quickchartButtonEl.classList.remove('colab-df-spinner');\n",
              "      quickchartButtonEl.classList.add('colab-df-quickchart-complete');\n",
              "    }\n",
              "    (() => {\n",
              "      let quickchartButtonEl =\n",
              "        document.querySelector('#df-800e3b61-0ce9-4eb1-90ec-3e5b5ae77eb0 button');\n",
              "      quickchartButtonEl.style.display =\n",
              "        google.colab.kernel.accessAllowed ? 'block' : 'none';\n",
              "    })();\n",
              "  </script>\n",
              "</div>\n",
              "\n",
              "    </div>\n",
              "  </div>\n"
            ],
            "application/vnd.google.colaboratory.intrinsic+json": {
              "type": "dataframe",
              "variable_name": "df",
              "summary": "{\n  \"name\": \"df\",\n  \"rows\": 47427,\n  \"fields\": [\n    {\n      \"column\": \"cleaned_text\",\n      \"properties\": {\n        \"dtype\": \"string\",\n        \"num_unique_values\": 36481,\n        \"samples\": [\n          \"fadein invisible list item jquery unordered list lis invisible display begin want specific li visible js function try $ list li nth child(1)\\\").fadein work ul visible begin code > li      display   < ul class=\\\"hide id=\\\"my list >      < li>1</li >      < li>2</li >      < li>3</li > < /ul >   try answer question feel free stab\",\n          \"deploy project server create website excel file mail d information mail d fetch excel file excel file send mail automatically mail d design subject cc bcc content create project export excel file fetch mail d ms access database send email automatically design deploy project ftp.i know create help regard padmapriya s  \",\n          \"custom keypad button functional app finish scoreboard app   user longclick score currently dialog box appear show edittext field ok cancel button   user click edittext field keypad appear number user type new score click edittext field show new value dialog box user click ok save enter value textview show current score problem feel cumbersome   like happen   user longclick score keypad appear user enter new score user click ok keypad disappear value save textview update current score   order accomplish think thing   create new class extend view new android understand option replace edittext dialog new xml file design like keypad   option 2   figure probably easy design xml layout call   user longclick file inflate dialog ok cancel   far good   know code button action thought figure setup onclick listener button layout   figure button go perform exact function   basically text button case 0 9 append textview keypad   user click ok save textview current score textview help point right direction accomplish screenshot textview number   xml code < xml version=\\\"1.0 encoding=\\\"utf-8 > < gridlayout xmlns apk res android android layout_width=\\\"wrap_content android layout_height=\\\"wrap_content android layout_gravity=\\\"fill android columncount=\\\"3 >   < textview      android id=\\\"@+id textview1      android layout_columnspan=\\\"3      android layout_gravity=\\\"fill      android gravity=\\\"right|center_vertical      android textsize=\\\"24sp >   < button android text=\\\"1 >   < button android text=\\\"2 >   < button android text=\\\"3 > < button android text=\\\"4 > < button android text=\\\"5 > < button android text=\\\"6 > < button android text=\\\"7 > < button android text=\\\"8 > < button android text=\\\"9 >   < button      android layout_columnspan=\\\"3      android layout_gravity=\\\"fill      android gravity=\\\"center      android text=\\\"0 >   \"\n        ],\n        \"semantic_type\": \"\",\n        \"description\": \"\"\n      }\n    },\n    {\n      \"column\": \"Tags\",\n      \"properties\": {\n        \"dtype\": \"category\",\n        \"num_unique_values\": 176,\n        \"samples\": [\n          \"javascript asp.net\",\n          \"c# asp.net jquery\",\n          \"c# java python\"\n        ],\n        \"semantic_type\": \"\",\n        \"description\": \"\"\n      }\n    },\n    {\n      \"column\": \"Tag_Number\",\n      \"properties\": {\n        \"dtype\": \"category\",\n        \"num_unique_values\": 176,\n        \"samples\": [\n          \"[3, 9]\",\n          \"[0, 9, 5]\",\n          \"[0, 1, 7]\"\n        ],\n        \"semantic_type\": \"\",\n        \"description\": \"\"\n      }\n    }\n  ]\n}"
            }
          },
          "metadata": {},
          "execution_count": 327
        }
      ]
    },
    {
      "cell_type": "code",
      "source": [
        "X = df['cleaned_text']\n",
        "y = df['Tag_Number'].apply(literal_eval)\n",
        "\n",
        "mlb = MultiLabelBinarizer()\n",
        "y = mlb.fit_transform(y)\n",
        "\n",
        "print(type(y) , y.shape, y[:6,:])\n",
        "print(type(X) , X.shape, X.head(6))"
      ],
      "metadata": {
        "id": "THLhrfhAfAAH",
        "colab": {
          "base_uri": "https://localhost:8080/"
        },
        "outputId": "13b43171-bc4e-4454-a516-e93938280fd1"
      },
      "execution_count": 328,
      "outputs": [
        {
          "output_type": "stream",
          "name": "stdout",
          "text": [
            "<class 'numpy.ndarray'> (47427, 10) [[1 0 0 0 0 0 0 0 0 1]\n",
            " [0 1 0 1 0 0 0 0 0 0]\n",
            " [1 0 0 0 0 0 0 0 0 1]\n",
            " [0 0 1 0 0 0 0 1 0 0]\n",
            " [0 0 0 1 0 1 0 0 0 0]\n",
            " [0 0 0 1 0 1 0 0 0 0]]\n",
            "<class 'pandas.core.series.Series'> (47427,) 0    asp query stre dropdown webpage follow control...\n",
            "1    run javascript code server java code want run ...\n",
            "2    linq sql throw exception row find change hi li...\n",
            "3    run python script php server run nginx web ser...\n",
            "4    advice write function m try write function res...\n",
            "5    jquery auto resize function cause jump browser...\n",
            "Name: cleaned_text, dtype: object\n"
          ]
        }
      ]
    },
    {
      "cell_type": "code",
      "source": [
        "# train_val_test split = 60%_20%_20%\n",
        "X_train, X_temp, y_train, y_temp = train_test_split(X, y, test_size=0.4, random_state=42, shuffle = True)\n",
        "X_valid, X_test, y_valid, y_test = train_test_split(X_temp, y_temp, test_size=0.5, random_state=42, shuffle = True)\n",
        "\n",
        "# Print the shapes of the resulting sets\n",
        "print(\"Training set shapes - X_train: {}, y_train: {}\".format(X_train.shape, y_train.shape))\n",
        "print(\"Validation set shapes - X_valid: {}, y_valid: {}\".format(X_valid.shape, y_valid.shape))\n",
        "print(\"Test set shapes - X_test: {}, y_test: {}\".format(X_test.shape, y_test.shape))"
      ],
      "metadata": {
        "id": "lnuu7IgqezJ4",
        "colab": {
          "base_uri": "https://localhost:8080/"
        },
        "outputId": "d64f0015-5829-43d0-9e16-529321eceebd"
      },
      "execution_count": 329,
      "outputs": [
        {
          "output_type": "stream",
          "name": "stdout",
          "text": [
            "Training set shapes - X_train: (28456,), y_train: (28456, 10)\n",
            "Validation set shapes - X_valid: (9485,), y_valid: (9485, 10)\n",
            "Test set shapes - X_test: (9486,), y_test: (9486, 10)\n"
          ]
        }
      ]
    },
    {
      "cell_type": "markdown",
      "source": [
        "## Part A (Neural Network in PyTorch using Dense Embeddings)"
      ],
      "metadata": {
        "id": "Q5MRdtZXZt5G"
      }
    },
    {
      "cell_type": "markdown",
      "source": [
        "### create customdataset class"
      ],
      "metadata": {
        "id": "FAbOjv02lGmQ"
      }
    },
    {
      "cell_type": "code",
      "source": [
        "class CustomDataset(torch.utils.data.Dataset):\n",
        "    \"\"\"\n",
        "    Custom Dataset class for loading IMDB reviews and labels.\n",
        "\n",
        "    Attributes:\n",
        "        X (numpy.ndarray): Feature data, an array of texts.\n",
        "        y (list or array-like): Target labels.\n",
        "    \"\"\"\n",
        "\n",
        "    def __init__(self, X, y):\n",
        "        \"\"\"\n",
        "        Initialize the dataset with feature and target data.\n",
        "\n",
        "        Args:\n",
        "            X (list or array-like): The feature data (texts).\n",
        "            y (list or array-like): The target labels.\n",
        "        \"\"\"\n",
        "        # Storing feature data (texts)\n",
        "        self.X = np.array(X)\n",
        "\n",
        "        # Storing the target labels\n",
        "        self.y =y\n",
        "\n",
        "    def __len__(self):\n",
        "        \"\"\"\n",
        "        Return the number of samples in the dataset.\n",
        "\n",
        "        Returns:\n",
        "            int: The total number of samples.\n",
        "        \"\"\"\n",
        "        return len(self.X)\n",
        "\n",
        "    def __getitem__(self, idx):\n",
        "        \"\"\"\n",
        "        Fetch and return a single sample from the dataset at the given index.\n",
        "\n",
        "        Args:\n",
        "            idx (int): Index of the sample to fetch.\n",
        "\n",
        "        Returns:\n",
        "            tuple: A tuple containing the label and the text for the sample.\n",
        "        \"\"\"\n",
        "        # Retrieve the text and corresponding label from the dataset using the index\n",
        "        texts = self.X[idx]\n",
        "        labels = self.y[idx]\n",
        "\n",
        "        # Packing them into a tuple before returning\n",
        "        sample = (labels, texts)\n",
        "\n",
        "        return sample"
      ],
      "metadata": {
        "id": "N37JoXm4lGHf"
      },
      "execution_count": 330,
      "outputs": []
    },
    {
      "cell_type": "code",
      "source": [
        "# Create an instance of the CustomDataset class for the training set\n",
        "# This uses the cleaned training data and corresponding labels\n",
        "trainset = CustomDataset(X_train, y_train)\n",
        "\n",
        "# Create an instance of the CustomDataset class for the validation set\n",
        "# This uses the cleaned validation data and corresponding labels\n",
        "validset = CustomDataset(X_valid, y_valid)\n",
        "\n",
        "# Create an instance of the CustomDataset class for the test set\n",
        "# This uses the cleaned test data and corresponding labels\n",
        "testset = CustomDataset(X_test, y_test)"
      ],
      "metadata": {
        "id": "auvlT1vqS_Z4"
      },
      "execution_count": 331,
      "outputs": []
    },
    {
      "cell_type": "code",
      "source": [
        "# Access the text of the sixth sample in the training dataset\n",
        "# notice the difference between the outputs of 2 pprint.\n",
        "pprint(trainset[5])\n",
        "print()\n",
        "text_of_sixth_sample = trainset[5][1]\n",
        "\n",
        "# Use pprint to print the text of the sixth sample with a specified width of 80 characters for better readability\n",
        "pprint(text_of_sixth_sample)\n",
        "\n",
        "type(text_of_sixth_sample)\n"
      ],
      "metadata": {
        "colab": {
          "base_uri": "https://localhost:8080/"
        },
        "id": "tjKBAbnLTNWh",
        "outputId": "5598be0a-0b4c-4961-8d6a-8211a32f9ab0"
      },
      "execution_count": 332,
      "outputs": [
        {
          "output_type": "stream",
          "name": "stdout",
          "text": [
            "(array([0, 1, 0, 0, 1, 0, 0, 0, 0, 0]),\n",
            " 'pass dymanic tablelayout xml form linearlayout create dynamic tablelayout '\n",
            " 'source java class(dynamictablelayout.java code public class '\n",
            " 'dynamictablelayout extend activity    override protect void oncreate(bundle '\n",
            " 'savedinstancestate      todo auto generate method stub      '\n",
            " 'super.oncreate(savedinstancestate       tablelayout layout = new '\n",
            " 'tablelayout      layout.setlayoutparams new tablelayout '\n",
            " 'layoutparams(4,3       tablelayout layoutparams rowlp = new tablelayout '\n",
            " 'layoutparams              viewgroup layoutparams fill_parent              '\n",
            " 'viewgroup layoutparams fill_parent              1.0f       '\n",
            " 'rowlp.setmargins(6 0 0,0       tablerow layoutparams celllp = new tablerow '\n",
            " 'layoutparams              viewgroup layoutparams fill_parent              '\n",
            " 'viewgroup layoutparams fill_parent              1.0f       '\n",
            " 'celllp.setmargins(6,0 0 0       layout.setpadding(3,1,1,1       int f=0 f<=6 '\n",
            " 'f++           tablerow tr = new tablerow(this          '\n",
            " 'tr.setbackgroundcolor(color black         tr.setpadding(1,1,1,1          '\n",
            " 'tablerow layoutparams llp = new tablerow layoutparams(layoutparams '\n",
            " 'fill_parent layoutparams fill_parent         llp.setmargins(2 0 0 '\n",
            " '0             int c=0 c<=3 c++              linearlayout cell = new '\n",
            " 'linearlayout(this             cell.setbackgroundcolor(color '\n",
            " 'white             cell.setlayoutparams(llp);//2px border right '\n",
            " 'cell               textview b = new textview              '\n",
            " 'b.settext(\"sample              b.settextsize(10.0f               '\n",
            " 'b.setpadding(0 0 0 0               cell.addview(b              '\n",
            " 'tr.addview(cell celllp                    layout.addview(tr '\n",
            " 'rowlp              super.setcontentview(layout   code      < xml '\n",
            " 'version=\"1.0 encoding=\"utf-8 > < linearlayout   xmlns apk res android   '\n",
            " 'android orientation=\"vertical    android layout_width=\"match_parent    '\n",
            " 'android layout_height=\"match_parent >     < linearlayout     android '\n",
            " 'id=\"@+id linear1    android layout_width=\"fill_parent    android '\n",
            " 'layout_height=\"wrap_content    android background=\"@drawable '\n",
            " 'bottom_black_pane    android orientation=\"horizontal >       < '\n",
            " 'textview       android id=\"@+id textview1      android '\n",
            " 'layout_width=\"fill_parent      android layout_height=\"wrap_content      '\n",
            " 'android text=\"color range      android gravity=\"center      android '\n",
            " 'textsize=\"20dp      android textcolor=\"#ffffff        android '\n",
            " 'paddingtop=\"10dp\"/ >        < /linearlayout >     < linearlayout   android '\n",
            " 'id=\"@+id linear2 android layout_width=\"fill_parent android '\n",
            " 'layout_height=\"wrap_content >       < imageview android id=\"@+id '\n",
            " 'imageview1      android src=\"@drawable palette      android '\n",
            " 'layout_width=\"wrap_content      android layout_height=\"wrap_content >       '\n",
            " '< /imageview > < /linearlayout >   < linearlayout   android id=\"@+id linear2 '\n",
            " 'android layout_width=\"fill_parent android layout_height=\"wrap_content > < '\n",
            " '/linearlayout >   < linearlayout   android id=\"@+id linear3 android '\n",
            " 'layout_height=\"wrap_content android background=\"@drawable '\n",
            " 'bottom_black_pane   android layout_width=\"wrap_content >   < linearlayout   '\n",
            " 'android layout_height=\"wrap_content android orientation=\"horizontal   '\n",
            " 'android weightsum=\"1 android layout_width=\"355dp >   < button   android '\n",
            " 'id=\"@+id btn1 android layout_width=\"30dp android text=\"all   android '\n",
            " 'paddingtop=\"10dp android layout_height=\"wrap_content   android '\n",
            " 'textcolor=\"#ffffff android background=\"#000000 android >   < button android '\n",
            " 'layout_width=\"30dp      android layout_weight=\"0.18      android '\n",
            " 'textcolor=\"#ffffff      android background=\"#000000      android '\n",
            " 'paddingtop=\"10dp      android id=\"@+id btn2       android '\n",
            " 'layout_height=\"wrap_content       android text=\"virbate\"></button >   < '\n",
            " 'button   android id=\"@+id btn2 android layout_width=\"30dp android '\n",
            " 'text=\"warm   android textcolor=\"#ffffff android paddingtop=\"10dp android '\n",
            " 'background=\"#000000 android layout_height=\"wrap_content   android >   < '\n",
            " 'button   android id=\"@+id btn2 android layout_width=\"40dp android '\n",
            " 'text=\"fresh   android textcolor=\"#ffffff android paddingtop=\"10dp android '\n",
            " 'background=\"#000000 android layout_height=\"wrap_content   android >   < '\n",
            " 'button   android id=\"@+id btn2 android layout_width=\"40dp android '\n",
            " 'text=\"calm   android textcolor=\"#ffffff android paddingtop=\"10dp android '\n",
            " 'background=\"#000000 android layout_height=\"wrap_content   android >   < '\n",
            " '/linearlayout > < /linearlayout >   < scrollview   android id=\"@+id '\n",
            " 'scrollview01 android layout_width=\"fill_parent android scrollbars=\"vertical '\n",
            " 'android layout_height=\"fill_parent >       < horizontalscrollview android '\n",
            " 'id=\"@+id horizon          android layout_width=\"wrap_content          '\n",
            " 'android layout_height=\"wrap_content >   < linearlayout android id=\"@+id '\n",
            " 'list_parent    android layout_height=\"fill_parent    android '\n",
            " 'layout_width=\"fill_parent    android orientation=\"horizontal     android '\n",
            " 'weightsum=\"1 >    < /linearlayout > < /horizontalscrollview > < /scrollview '\n",
            " '>    < /linearlayout >   main class code d public class '\n",
            " 'duluxcolorgridactivity extend activity call activity create override public '\n",
            " 'void oncreate(bundle savedinstancestate      '\n",
            " 'super.oncreate(savedinstancestate      setcontentview(r.layout.main        '\n",
            " 'integrate layout want integrate dynamic layout layout field linearlayout id '\n",
            " '= list_parent declare help solve problem < linearlayout android id=\"@+id '\n",
            " 'list_parent    android layout_height=\"fill_parent    android '\n",
            " 'layout_width=\"fill_parent    android orientation=\"horizontal     android '\n",
            " 'weightsum=\"1 >    < /linearlayout >  ')\n",
            "\n",
            "('pass dymanic tablelayout xml form linearlayout create dynamic tablelayout '\n",
            " 'source java class(dynamictablelayout.java code public class '\n",
            " 'dynamictablelayout extend activity    override protect void oncreate(bundle '\n",
            " 'savedinstancestate      todo auto generate method stub      '\n",
            " 'super.oncreate(savedinstancestate       tablelayout layout = new '\n",
            " 'tablelayout      layout.setlayoutparams new tablelayout '\n",
            " 'layoutparams(4,3       tablelayout layoutparams rowlp = new tablelayout '\n",
            " 'layoutparams              viewgroup layoutparams fill_parent              '\n",
            " 'viewgroup layoutparams fill_parent              1.0f       '\n",
            " 'rowlp.setmargins(6 0 0,0       tablerow layoutparams celllp = new tablerow '\n",
            " 'layoutparams              viewgroup layoutparams fill_parent              '\n",
            " 'viewgroup layoutparams fill_parent              1.0f       '\n",
            " 'celllp.setmargins(6,0 0 0       layout.setpadding(3,1,1,1       int f=0 f<=6 '\n",
            " 'f++           tablerow tr = new tablerow(this          '\n",
            " 'tr.setbackgroundcolor(color black         tr.setpadding(1,1,1,1          '\n",
            " 'tablerow layoutparams llp = new tablerow layoutparams(layoutparams '\n",
            " 'fill_parent layoutparams fill_parent         llp.setmargins(2 0 0 '\n",
            " '0             int c=0 c<=3 c++              linearlayout cell = new '\n",
            " 'linearlayout(this             cell.setbackgroundcolor(color '\n",
            " 'white             cell.setlayoutparams(llp);//2px border right '\n",
            " 'cell               textview b = new textview              '\n",
            " 'b.settext(\"sample              b.settextsize(10.0f               '\n",
            " 'b.setpadding(0 0 0 0               cell.addview(b              '\n",
            " 'tr.addview(cell celllp                    layout.addview(tr '\n",
            " 'rowlp              super.setcontentview(layout   code      < xml '\n",
            " 'version=\"1.0 encoding=\"utf-8 > < linearlayout   xmlns apk res android   '\n",
            " 'android orientation=\"vertical    android layout_width=\"match_parent    '\n",
            " 'android layout_height=\"match_parent >     < linearlayout     android '\n",
            " 'id=\"@+id linear1    android layout_width=\"fill_parent    android '\n",
            " 'layout_height=\"wrap_content    android background=\"@drawable '\n",
            " 'bottom_black_pane    android orientation=\"horizontal >       < '\n",
            " 'textview       android id=\"@+id textview1      android '\n",
            " 'layout_width=\"fill_parent      android layout_height=\"wrap_content      '\n",
            " 'android text=\"color range      android gravity=\"center      android '\n",
            " 'textsize=\"20dp      android textcolor=\"#ffffff        android '\n",
            " 'paddingtop=\"10dp\"/ >        < /linearlayout >     < linearlayout   android '\n",
            " 'id=\"@+id linear2 android layout_width=\"fill_parent android '\n",
            " 'layout_height=\"wrap_content >       < imageview android id=\"@+id '\n",
            " 'imageview1      android src=\"@drawable palette      android '\n",
            " 'layout_width=\"wrap_content      android layout_height=\"wrap_content >       '\n",
            " '< /imageview > < /linearlayout >   < linearlayout   android id=\"@+id linear2 '\n",
            " 'android layout_width=\"fill_parent android layout_height=\"wrap_content > < '\n",
            " '/linearlayout >   < linearlayout   android id=\"@+id linear3 android '\n",
            " 'layout_height=\"wrap_content android background=\"@drawable '\n",
            " 'bottom_black_pane   android layout_width=\"wrap_content >   < linearlayout   '\n",
            " 'android layout_height=\"wrap_content android orientation=\"horizontal   '\n",
            " 'android weightsum=\"1 android layout_width=\"355dp >   < button   android '\n",
            " 'id=\"@+id btn1 android layout_width=\"30dp android text=\"all   android '\n",
            " 'paddingtop=\"10dp android layout_height=\"wrap_content   android '\n",
            " 'textcolor=\"#ffffff android background=\"#000000 android >   < button android '\n",
            " 'layout_width=\"30dp      android layout_weight=\"0.18      android '\n",
            " 'textcolor=\"#ffffff      android background=\"#000000      android '\n",
            " 'paddingtop=\"10dp      android id=\"@+id btn2       android '\n",
            " 'layout_height=\"wrap_content       android text=\"virbate\"></button >   < '\n",
            " 'button   android id=\"@+id btn2 android layout_width=\"30dp android '\n",
            " 'text=\"warm   android textcolor=\"#ffffff android paddingtop=\"10dp android '\n",
            " 'background=\"#000000 android layout_height=\"wrap_content   android >   < '\n",
            " 'button   android id=\"@+id btn2 android layout_width=\"40dp android '\n",
            " 'text=\"fresh   android textcolor=\"#ffffff android paddingtop=\"10dp android '\n",
            " 'background=\"#000000 android layout_height=\"wrap_content   android >   < '\n",
            " 'button   android id=\"@+id btn2 android layout_width=\"40dp android '\n",
            " 'text=\"calm   android textcolor=\"#ffffff android paddingtop=\"10dp android '\n",
            " 'background=\"#000000 android layout_height=\"wrap_content   android >   < '\n",
            " '/linearlayout > < /linearlayout >   < scrollview   android id=\"@+id '\n",
            " 'scrollview01 android layout_width=\"fill_parent android scrollbars=\"vertical '\n",
            " 'android layout_height=\"fill_parent >       < horizontalscrollview android '\n",
            " 'id=\"@+id horizon          android layout_width=\"wrap_content          '\n",
            " 'android layout_height=\"wrap_content >   < linearlayout android id=\"@+id '\n",
            " 'list_parent    android layout_height=\"fill_parent    android '\n",
            " 'layout_width=\"fill_parent    android orientation=\"horizontal     android '\n",
            " 'weightsum=\"1 >    < /linearlayout > < /horizontalscrollview > < /scrollview '\n",
            " '>    < /linearlayout >   main class code d public class '\n",
            " 'duluxcolorgridactivity extend activity call activity create override public '\n",
            " 'void oncreate(bundle savedinstancestate      '\n",
            " 'super.oncreate(savedinstancestate      setcontentview(r.layout.main        '\n",
            " 'integrate layout want integrate dynamic layout layout field linearlayout id '\n",
            " '= list_parent declare help solve problem < linearlayout android id=\"@+id '\n",
            " 'list_parent    android layout_height=\"fill_parent    android '\n",
            " 'layout_width=\"fill_parent    android orientation=\"horizontal     android '\n",
            " 'weightsum=\"1 >    < /linearlayout >  ')\n"
          ]
        },
        {
          "output_type": "execute_result",
          "data": {
            "text/plain": [
              "str"
            ]
          },
          "metadata": {},
          "execution_count": 332
        }
      ]
    },
    {
      "cell_type": "code",
      "source": [
        "# Access the label of the second sample in the training dataset\n",
        "# 'trainset[1]' fetches the sixth sample (since indexing starts at 0), and '[0]' accesses the label of this sample\n",
        "label_of_sixth_sample = trainset[5][0]\n",
        "label_of_sixth_sample"
      ],
      "metadata": {
        "colab": {
          "base_uri": "https://localhost:8080/"
        },
        "id": "qSgVEEsUUd_W",
        "outputId": "5294d17d-8895-4e7a-b6a3-d603de0a98aa"
      },
      "execution_count": 333,
      "outputs": [
        {
          "output_type": "execute_result",
          "data": {
            "text/plain": [
              "array([0, 1, 0, 0, 1, 0, 0, 0, 0, 0])"
            ]
          },
          "metadata": {},
          "execution_count": 333
        }
      ]
    },
    {
      "cell_type": "markdown",
      "source": [
        "### Create Vocab"
      ],
      "metadata": {
        "id": "vqnq0uYhUjUP"
      }
    },
    {
      "cell_type": "code",
      "source": [
        "def get_vocab(dataset, min_freq=1):\n",
        "    \"\"\"\n",
        "    Generate a vocabulary from a dataset.\n",
        "\n",
        "    Args:\n",
        "        dataset (list of tuple): List of tuples where each tuple contains a label and a text.\n",
        "        min_freq (int): The minimum frequency for a token to be included in the vocabulary.\n",
        "\n",
        "    Returns:\n",
        "        torchtext.vocab.Vocab: Vocabulary object.\n",
        "    \"\"\"\n",
        "    # Initialize a counter object to hold token frequencies\n",
        "    counter = Counter()\n",
        "\n",
        "    # Update the counter with tokens from each text in the dataset\n",
        "    for (label, text) in dataset:\n",
        "        counter.update(text.split())\n",
        "\n",
        "    # Create a vocabulary using the counter object\n",
        "    # Tokens that appear fewer times than `min_freq` are excluded\n",
        "    my_vocab = vocab(counter, min_freq=min_freq)\n",
        "\n",
        "    # Insert a '<unk>' token at index 0 to represent unknown words\n",
        "    my_vocab.insert_token('<unk>', 0)\n",
        "\n",
        "    # Set the default index to 0\n",
        "    # This ensures that any unknown word will be mapped to '<unk>'\n",
        "    my_vocab.set_default_index(0)\n",
        "\n",
        "    return my_vocab"
      ],
      "metadata": {
        "id": "djLct7DgUlHg"
      },
      "execution_count": 334,
      "outputs": []
    },
    {
      "cell_type": "code",
      "source": [
        "df_vocab = get_vocab(trainset, min_freq=2)"
      ],
      "metadata": {
        "id": "v0WltwmNUiMX"
      },
      "execution_count": 335,
      "outputs": []
    },
    {
      "cell_type": "code",
      "source": [
        "len(df_vocab)"
      ],
      "metadata": {
        "colab": {
          "base_uri": "https://localhost:8080/"
        },
        "id": "oPbxIYdcKfp5",
        "outputId": "a9080440-a54a-44e4-d232-5516293bd0ba"
      },
      "execution_count": 336,
      "outputs": [
        {
          "output_type": "execute_result",
          "data": {
            "text/plain": [
              "90287"
            ]
          },
          "metadata": {},
          "execution_count": 336
        }
      ]
    },
    {
      "cell_type": "markdown",
      "source": [
        "### Collate_fn"
      ],
      "metadata": {
        "id": "jh7rM1O2OC5y"
      }
    },
    {
      "cell_type": "code",
      "source": [
        "# Creating a function that will be used to get the indices of words from vocab\n",
        "def tokenizer(x, vocab):\n",
        "    \"\"\"Converts text to a list of indices using a vocabulary dictionary\"\"\"\n",
        "    return [vocab[token] for token in x.split()]"
      ],
      "metadata": {
        "id": "8BEbcbFwOakp"
      },
      "execution_count": 337,
      "outputs": []
    },
    {
      "cell_type": "code",
      "source": [
        "def collate_batch(batch, my_vocab):\n",
        "    \"\"\"\n",
        "    Collates a batch of samples into tensors of labels, texts, and offsets.\n",
        "\n",
        "    Parameters:\n",
        "        batch (list): A list of tuples, each containing a label and a text.\n",
        "\n",
        "    Returns:\n",
        "        tuple: A tuple containing three tensors:\n",
        "               - Labels tensor\n",
        "               - Concatenated texts tensor\n",
        "               - Offsets tensor indicating the start positions of each text in the concatenated tensor\n",
        "    \"\"\"\n",
        "    # Unpack the batch into separate lists for labels and texts\n",
        "    labels, texts = zip(*batch)\n",
        "\n",
        "    # Convert the list of labels into a tensor of dtype int32\n",
        "    labels = np.array(labels)\n",
        "    labels = torch.tensor(labels, dtype=torch.float32)\n",
        "\n",
        "    # Convert the list of texts into a list of lists; each inner list contains the vocabulary indices for a text\n",
        "    list_of_list_of_indices = [tokenizer(text, my_vocab) for text in texts]\n",
        "\n",
        "    # Concatenate all text indices into a single tensor\n",
        "    indices = torch.cat([torch.tensor(i, dtype=torch.int64) for i in list_of_list_of_indices])\n",
        "\n",
        "    # Compute the offsets for each text in the concatenated tensor\n",
        "    offsets = [0] + [len(i) for i in list_of_list_of_indices]\n",
        "    offsets = torch.tensor(offsets[:-1]).cumsum(dim=0)\n",
        "\n",
        "    return (indices, offsets), labels"
      ],
      "metadata": {
        "id": "2ePslnG6Ob3h"
      },
      "execution_count": 338,
      "outputs": []
    },
    {
      "cell_type": "markdown",
      "source": [
        "### Collate _Function check"
      ],
      "metadata": {
        "id": "e9E0kiGyOqqB"
      }
    },
    {
      "cell_type": "code",
      "source": [
        "batch_size = 2\n",
        "collate_partial = partial(collate_batch, my_vocab = df_vocab)\n",
        "check_loader = torch.utils.data.DataLoader(dataset=trainset,\n",
        "                                           batch_size=batch_size,\n",
        "                                           shuffle=True,\n",
        "                                           collate_fn=collate_partial,\n",
        "                                           )"
      ],
      "metadata": {
        "id": "yPFdTnuoOxDY"
      },
      "execution_count": 339,
      "outputs": []
    },
    {
      "cell_type": "markdown",
      "source": [
        "### Create simpleMLP model as defied in homework."
      ],
      "metadata": {
        "id": "upZWjwP2cfWN"
      }
    },
    {
      "cell_type": "code",
      "source": [
        "class SimpleMLP(nn.Module):\n",
        "    def __init__(self, vocab_size, embedding_dim, hidden_dim1, hidden_dim2, drop_prob1, drop_prob2, num_outputs):\n",
        "        super().__init__()\n",
        "\n",
        "        # EmbeddingBag_layer->Linear <hidden_layer>->ReLU->Dropout->Batchnorm ->Linear<hidden_layer>->ReLU->Dropout->BatchNorm->Linear(output)\n",
        "\n",
        "        # Embedding layer\n",
        "        self.embedding_bag = nn.EmbeddingBag(vocab_size, embedding_dim)\n",
        "\n",
        "        # First Linear layer\n",
        "        self.linear1 = nn.Linear(embedding_dim, hidden_dim1)\n",
        "        # Batch normalization for first linear layer\n",
        "        self.batchnorm1 = nn.BatchNorm1d(num_features=hidden_dim1)\n",
        "        # Dropout for first linear layer\n",
        "        self.dropout1 = nn.Dropout(p=drop_prob1)\n",
        "\n",
        "        # Second Linear layer\n",
        "        self.linear2 = nn.Linear(hidden_dim1, hidden_dim2)\n",
        "        # Batch normalization for second linear layer\n",
        "        self.batchnorm2 = nn.BatchNorm1d(num_features=hidden_dim2)\n",
        "        # Dropout for second linear layer\n",
        "        self.dropout2 = nn.Dropout(p=drop_prob2)\n",
        "\n",
        "        # Final Linear layer\n",
        "        self.linear3 = nn.Linear(hidden_dim2, num_outputs)\n",
        "\n",
        "    def forward(self, input_tuple):\n",
        "        indices, offsets = input_tuple\n",
        "\n",
        "        # Pass data through the embedding layer\n",
        "        x = self.embedding_bag(indices, offsets)\n",
        "\n",
        "        # First linear layer followed by ReLU,Dropout and BatchNorm\n",
        "        x = self.linear1(x)\n",
        "        x = nn.ReLU()(x)\n",
        "        x = self.dropout1(x)\n",
        "        x = self.batchnorm1(x)\n",
        "\n",
        "        # Second linear layer followed by ReLU, Dropout and BatchNorm\n",
        "        x = self.linear2(x)\n",
        "        x = nn.ReLU()(x)\n",
        "        x = self.dropout2(x)\n",
        "        x = self.batchnorm2(x)\n",
        "\n",
        "        # Final linear layer\n",
        "        x = self.linear3(x)\n",
        "\n",
        "        return x"
      ],
      "metadata": {
        "id": "YVn_ZgvHZzn8"
      },
      "execution_count": 340,
      "outputs": []
    },
    {
      "cell_type": "code",
      "source": [
        "# Define the device\n",
        "device = torch.device('cuda:0' if torch.cuda.is_available() else 'cpu')\n",
        "\n",
        "# Define the sequential model\n",
        "# this will invoke the __init__() function of the model\n",
        "model = SimpleMLP(vocab_size=7 , embedding_dim=10, hidden_dim1=5, hidden_dim2=3, drop_prob1=0.5, drop_prob2=0.5, num_outputs=2)\n",
        "\n",
        "# Move the model to the device\n",
        "model = model.to(device)\n",
        "\n",
        "# Generate some dummy input data and offsets, and move them to the device\n",
        "data = torch.tensor([1, 2, 4, 5, 4], dtype = torch.int32).to(device)\n",
        "offsets = torch.tensor([0, 2, 4], dtype = torch.int32).to(device)\n",
        "\n",
        "# Generate summary\n",
        "summary(model, input_data=[(data, offsets)], device=device, depth =10, verbose = False)"
      ],
      "metadata": {
        "id": "9oUvMisShTsv",
        "colab": {
          "base_uri": "https://localhost:8080/"
        },
        "outputId": "322e2f7c-9315-49c3-84c8-53b1f5dbcad0"
      },
      "execution_count": 341,
      "outputs": [
        {
          "output_type": "execute_result",
          "data": {
            "text/plain": [
              "==========================================================================================\n",
              "Layer (type:depth-idx)                   Output Shape              Param #\n",
              "==========================================================================================\n",
              "SimpleMLP                                [3, 2]                    --\n",
              "├─EmbeddingBag: 1-1                      [3, 10]                   70\n",
              "├─Linear: 1-2                            [3, 5]                    55\n",
              "├─Dropout: 1-3                           [3, 5]                    --\n",
              "├─BatchNorm1d: 1-4                       [3, 5]                    10\n",
              "├─Linear: 1-5                            [3, 3]                    18\n",
              "├─Dropout: 1-6                           [3, 3]                    --\n",
              "├─BatchNorm1d: 1-7                       [3, 3]                    6\n",
              "├─Linear: 1-8                            [3, 2]                    8\n",
              "==========================================================================================\n",
              "Total params: 167\n",
              "Trainable params: 167\n",
              "Non-trainable params: 0\n",
              "Total mult-adds (M): 0.00\n",
              "==========================================================================================\n",
              "Input size (MB): 0.00\n",
              "Forward/backward pass size (MB): 0.00\n",
              "Params size (MB): 0.00\n",
              "Estimated Total Size (MB): 0.00\n",
              "=========================================================================================="
            ]
          },
          "metadata": {},
          "execution_count": 341
        }
      ]
    },
    {
      "cell_type": "code",
      "source": [
        "output = model((data, offsets))\n",
        "\n",
        "print(output)"
      ],
      "metadata": {
        "id": "ZFLgAkZhcXrU",
        "colab": {
          "base_uri": "https://localhost:8080/"
        },
        "outputId": "2d8f2436-30ad-4d3f-e082-2ae84c0c4dc2"
      },
      "execution_count": 342,
      "outputs": [
        {
          "output_type": "stream",
          "name": "stdout",
          "text": [
            "tensor([[-0.1993, -0.0654],\n",
            "        [ 0.6982, -0.1628],\n",
            "        [-0.2060, -0.8700]], grad_fn=<AddmmBackward0>)\n"
          ]
        }
      ]
    },
    {
      "cell_type": "markdown",
      "source": [
        "### Functions to train and evaluate Models"
      ],
      "metadata": {
        "id": "_zaR_VGkcZKN"
      }
    },
    {
      "cell_type": "markdown",
      "source": [
        "#### Step Function"
      ],
      "metadata": {
        "id": "fiyT4UxKJ42I"
      }
    },
    {
      "cell_type": "code",
      "source": [
        "def step(inputs, targets, model, device, loss_function=None, optimizer=None, clip_value=None):\n",
        "    \"\"\"\n",
        "    Performs a forward and backward pass for a given batch of inputs and targets.\n",
        "\n",
        "    Parameters:\n",
        "    - inputs (torch.Tensor): The input data for the model.\n",
        "    - targets (torch.Tensor): The true labels for the input data.\n",
        "    - model (torch.nn.Module): The neural network model.\n",
        "    - device (torch.device): The computing device (CPU or GPU).\n",
        "    - loss_function (torch.nn.Module, optional): The loss function to use.\n",
        "    - optimizer (torch.optim.Optimizer, optional): The optimizer to update model parameters.\n",
        "\n",
        "    Returns:\n",
        "    - loss (float): The computed loss value (only if loss_function is not None).\n",
        "    - outputs (torch.Tensor): The predictions from the model.\n",
        "    - correct (int): The number of correctly classified samples in the batch.\n",
        "    \"\"\"\n",
        "\n",
        "    # Move the model and data to the device\n",
        "    model = model.to(device)\n",
        "    inputs = tuple(input_tensor.to(device) for input_tensor in inputs)\n",
        "    targets = targets.to(device)\n",
        "\n",
        "    # Step 1: Forward pass to get the model's predictions\n",
        "    outputs = model(inputs)\n",
        "    predicted = (outputs>0.5).float()\n",
        "\n",
        "    # Step 2: Compute the loss using the provided loss function\n",
        "    if loss_function:\n",
        "        loss = loss_function(outputs, targets)\n",
        "\n",
        "    # Step 3 and 4: Perform backward pass and update model parameters if an optimizer is provided\n",
        "    if optimizer:\n",
        "        optimizer.zero_grad()\n",
        "        loss.backward()\n",
        "        clip_grad_value_(model.parameters(), clip_value=CLIP_VALUE)\n",
        "        optimizer.step()\n",
        "\n",
        "    # Return relevant metrics\n",
        "    if loss_function:\n",
        "        return loss, outputs, predicted\n",
        "    else:\n",
        "        return None, outputs, predicted"
      ],
      "metadata": {
        "id": "N3cCjttGJ3Ee"
      },
      "execution_count": 343,
      "outputs": []
    },
    {
      "cell_type": "markdown",
      "source": [
        "#### Train_Epoch()"
      ],
      "metadata": {
        "id": "UzhdlNMNKBoa"
      }
    },
    {
      "cell_type": "code",
      "source": [
        "def train_epoch(train_loader, model, device, loss_function, optimizer):\n",
        "    \"\"\"\n",
        "    Trains the model for one epoch using the provided data loader and updates the model parameters.\n",
        "\n",
        "    Parameters:\n",
        "    - train_loader (torch.utils.data.DataLoader): DataLoader object for the training set.\n",
        "    - model (torch.nn.Module): The neural network model to be trained.\n",
        "    - device (torch.device): The computing device (CPU or GPU).\n",
        "    - loss_function (torch.nn.Module): The loss function to use for training.\n",
        "    - optimizer (torch.optim.Optimizer): The optimizer to update model parameters.\n",
        "\n",
        "    Returns:\n",
        "    - train_loss (float): Average training loss for the epoch.\n",
        "    - train_acc (float): Training accuracy for the epoch.\n",
        "    \"\"\"\n",
        "\n",
        "    train_hamming_distance = HammingDistance(task=\"multilabel\", num_labels=10).to(device)\n",
        "    # Set the model to training mode\n",
        "    model.train()\n",
        "\n",
        "    # Initialize variables to track running training loss and correct predictions\n",
        "    running_train_loss = 0.0\n",
        "\n",
        "    # Iterate over all batches in the training data\n",
        "    for inputs, targets in train_loader:\n",
        "        # Perform a forward and backward pass, updating model parameters\n",
        "        loss, _, predict = step(inputs, targets, model, device, loss_function, optimizer)\n",
        "\n",
        "        # Update running loss and correct predictions counter\n",
        "        running_train_loss += loss.item()\n",
        "        train_hamming_distance.update(predict, targets)\n",
        "\n",
        "\n",
        "    # Compute average loss and accuracy for the entire training set\n",
        "    train_loss = running_train_loss / len(train_loader)\n",
        "    hamming_dist = train_hamming_distance.compute()\n",
        "\n",
        "    return train_loss, hamming_dist"
      ],
      "metadata": {
        "id": "eP3MXn2BKATB"
      },
      "execution_count": 344,
      "outputs": []
    },
    {
      "cell_type": "markdown",
      "source": [
        "#### val_epoch()"
      ],
      "metadata": {
        "id": "WEqcZmJpKIxV"
      }
    },
    {
      "cell_type": "code",
      "source": [
        "def val_epoch(valid_loader, model, device, loss_function):\n",
        "    \"\"\"\n",
        "    Validates the model for one epoch using the provided data loader.\n",
        "\n",
        "    Parameters:\n",
        "    - valid_loader (torch.utils.data.DataLoader): DataLoader object for the validation set.\n",
        "    - model (torch.nn.Module): The neural network model to be validated.\n",
        "    - device (torch.device): The computing device (CPU or GPU).\n",
        "    - loss_function (torch.nn.Module): The loss function to evaluate the model.\n",
        "\n",
        "    Returns:\n",
        "    - val_loss (float): Average validation loss for the epoch.\n",
        "    - val_acc (float): Validation accuracy for the epoch.\n",
        "    \"\"\"\n",
        "    val_hamming_distance = HammingDistance(task=\"multilabel\", num_labels=10).to(device)\n",
        "\n",
        "    # Set the model to evaluation mode\n",
        "    model.eval()\n",
        "\n",
        "    # Initialize variables to track running validation loss and correct predictions\n",
        "    running_val_loss = 0.0\n",
        "\n",
        "    # Disable gradient computation\n",
        "    with torch.no_grad():\n",
        "        # Iterate over all batches in the validation data\n",
        "        for inputs, targets in valid_loader:\n",
        "            # Perform a forward pass to get loss and number of correct predictions\n",
        "            loss,_, predict = step(inputs, targets, model, device, loss_function, optimizer=None)\n",
        "\n",
        "            # Update running loss and correct predictions counter\n",
        "            running_val_loss += loss.item()\n",
        "            val_hamming_distance.update(predict, targets)\n",
        "\n",
        "    # Compute average loss and accuracy for the entire validation set\n",
        "    val_loss = running_val_loss / len(valid_loader)\n",
        "    hamming_dist = val_hamming_distance.compute()\n",
        "\n",
        "    return val_loss, hamming_dist"
      ],
      "metadata": {
        "id": "dmKb3U5CKIGh"
      },
      "execution_count": 345,
      "outputs": []
    },
    {
      "cell_type": "markdown",
      "source": [
        "#### train() function"
      ],
      "metadata": {
        "id": "ON8Aqe7CKUpO"
      }
    },
    {
      "cell_type": "code",
      "source": [
        "def train(train_loader, valid_loader, model, optimizer, loss_function, epochs, device, patience):\n",
        "    \"\"\"\n",
        "    Trains and validates the model, and returns history of train and validation metrics.\n",
        "\n",
        "    Parameters:\n",
        "    - train_loader (torch.utils.data.DataLoader): DataLoader for the training set.\n",
        "    - valid_loader (torch.utils.data.DataLoader): DataLoader for the validation set.\n",
        "    - model (torch.nn.Module): Neural network model to train.\n",
        "    - optimizer (torch.optim.Optimizer): Optimizer algorithm.\n",
        "    - loss_function (torch.nn.Module): Loss function to evaluate the model.\n",
        "    - epochs (int): Number of epochs to train the model.\n",
        "    - device (torch.device): The computing device (CPU or GPU).\n",
        "\n",
        "    Returns:\n",
        "    - train_loss_history (list): History of training loss for each epoch.\n",
        "    - train_acc_history (list): History of training accuracy for each epoch.\n",
        "    - valid_loss_history (list): History of validation loss for each epoch.\n",
        "    - valid_acc_history (list): History of validation accuracy for each epoch.\n",
        "    \"\"\"\n",
        "\n",
        "    # Initialize lists to store metrics for each epoch\n",
        "    train_loss_history = []\n",
        "    valid_loss_history = []\n",
        "    train_hamm_history = []\n",
        "    valid_hamm_history = []\n",
        "\n",
        "    # Initialize variables for early stopping\n",
        "    best_valid_loss = float('inf')\n",
        "    current_patience = 0\n",
        "\n",
        "    # Loop over the number of specified epochs\n",
        "    for epoch in range(epochs):\n",
        "        # Train model on training data and capture metrics\n",
        "        train_loss, train_hamm = train_epoch(train_loader, model, device, loss_function, optimizer)\n",
        "\n",
        "        # Validate model on validation data and capture metrics\n",
        "        valid_loss, valid_hamm = val_epoch(valid_loader, model, device, loss_function)\n",
        "\n",
        "        # Store metrics for this epoch\n",
        "        train_loss_history.append(train_loss)\n",
        "        train_hamm_history.append(train_hamm)\n",
        "        valid_loss_history.append(valid_loss)\n",
        "        valid_hamm_history.append(valid_hamm)\n",
        "\n",
        "        # Output epoch-level summary\n",
        "        print(f\"Epoch {epoch+1}/{epochs}\")\n",
        "        print(f\"Train Loss: {train_loss:.4f} | Train hamming distance: {train_hamm}\")\n",
        "        print(f\"Valid Loss: {valid_loss:.4f} | Valid hamming distance: {valid_hamm}\")\n",
        "        print()\n",
        "\n",
        "        if valid_loss < best_valid_loss:\n",
        "            best_valid_loss = valid_loss\n",
        "            current_patience = 0  # Reset patience counter since validation loss improved\n",
        "        else:\n",
        "            current_patience += 1  # Increment patience counter\n",
        "\n",
        "        # Check for early stopping\n",
        "        if current_patience >= patience:\n",
        "            print(f'Early stopping after {epoch + 1} epochs.')\n",
        "            break\n",
        "\n",
        "    return train_loss_history, train_hamm_history, valid_loss_history, valid_hamm_history"
      ],
      "metadata": {
        "id": "6o90ZEvQKNQq"
      },
      "execution_count": 346,
      "outputs": []
    },
    {
      "cell_type": "markdown",
      "source": [
        "### Train"
      ],
      "metadata": {
        "id": "TC4mc0MDL0vM"
      }
    },
    {
      "cell_type": "markdown",
      "source": [
        "#### Hyperparameters"
      ],
      "metadata": {
        "id": "Zx1AYY75L59C"
      }
    },
    {
      "cell_type": "code",
      "source": [
        "# model Parameters\n",
        "EMBED_DIM=300\n",
        "VOCAB_SIZE=len(df_vocab)\n",
        "HIDDEN_DIM1=200\n",
        "HIDDEN_DIM2=100\n",
        "DROP_PROB1=0.5\n",
        "DROP_PROB2=0.5\n",
        "NUM_OUTPUTS=10\n",
        "\n",
        "# training\n",
        "EPOCHS=5\n",
        "BATCH_SIZE=128\n",
        "LEARNING_RATE=0.001\n",
        "WEIGHT_DECAY=0.000\n",
        "CLIP_TYPE = 'Value'\n",
        "CLIP_VALUE = 10\n",
        "PATIENCE = 5"
      ],
      "metadata": {
        "id": "b-IO_YwPKaB2"
      },
      "execution_count": 347,
      "outputs": []
    },
    {
      "cell_type": "markdown",
      "source": [
        "#### Training Configuration"
      ],
      "metadata": {
        "id": "qRgODPoSPzy4"
      }
    },
    {
      "cell_type": "code",
      "source": [
        "# Fixing the seed value for reproducibility across runs\n",
        "SEED = 2345\n",
        "random.seed(SEED)                     # Set seed for Python's 'random' module\n",
        "np.random.seed(SEED)                  # Set seed for NumPy's random number generation\n",
        "torch.manual_seed(SEED)               # Set seed for PyTorch's CPU operations\n",
        "torch.cuda.manual_seed(SEED)          # Set seed for PyTorch's CUDA (GPU) operations\n",
        "torch.backends.cudnn.deterministic = True  # Ensure deterministic behavior in CuDNN\n",
        "\n",
        "# Define collate function with a fixed vocabulary using the 'partial' function\n",
        "collate_fn = partial(collate_batch, my_vocab=df_vocab)\n",
        "\n",
        "# Data Loaders for training, validation, and test sets\n",
        "# These loaders handle batching, shuffling, and data processing using the custom collate function\n",
        "train_loader = torch.utils.data.DataLoader(trainset, batch_size = BATCH_SIZE, shuffle=True,\n",
        "                                           collate_fn=collate_fn, num_workers=4)\n",
        "valid_loader = torch.utils.data.DataLoader(validset, batch_size=BATCH_SIZE, shuffle=False,\n",
        "                                           collate_fn=collate_fn, num_workers=4)\n",
        "test_loader = torch.utils.data.DataLoader(testset, batch_size=BATCH_SIZE, shuffle=False,\n",
        "                                          collate_fn=collate_fn, num_workers=4)\n",
        "\n",
        "# Define the loss function for the model, using cross-entropy loss\n",
        "loss_function = nn.BCEWithLogitsLoss()\n",
        "\n",
        "# Define the model with specified hyperparameters\n",
        "model_df = SimpleMLP(vocab_size=VOCAB_SIZE,\n",
        "                       embedding_dim=EMBED_DIM,\n",
        "                       hidden_dim1=HIDDEN_DIM1,\n",
        "                       hidden_dim2=HIDDEN_DIM2,\n",
        "                       drop_prob1=DROP_PROB1,\n",
        "                       drop_prob2=DROP_PROB2,\n",
        "                       num_outputs=NUM_OUTPUTS)\n",
        "\n",
        "# Initialize the optimizer for training, using AdamW optimizer with specified learning rate\n",
        "optimizer = torch.optim.AdamW(model_df.parameters(), lr=LEARNING_RATE, weight_decay = WEIGHT_DECAY)\n",
        "\n",
        "# Define the device for model training (use CUDA if available, else CPU)\n",
        "device = torch.device('cuda:0' if torch.cuda.is_available() else 'cpu')\n"
      ],
      "metadata": {
        "id": "d-tT53akPypY",
        "colab": {
          "base_uri": "https://localhost:8080/"
        },
        "outputId": "8aa7d505-dc71-4ce8-dfd2-2e7423fb8612"
      },
      "execution_count": 348,
      "outputs": [
        {
          "output_type": "stream",
          "name": "stderr",
          "text": [
            "/usr/local/lib/python3.10/dist-packages/torch/utils/data/dataloader.py:557: UserWarning: This DataLoader will create 4 worker processes in total. Our suggested max number of worker in current system is 2, which is smaller than what this DataLoader is going to create. Please be aware that excessive worker creation might get DataLoader running slow or even freeze, lower the worker number to avoid potential slowness/freeze if necessary.\n",
            "  warnings.warn(_create_warning_msg(\n"
          ]
        }
      ]
    },
    {
      "cell_type": "markdown",
      "source": [
        "#### Sanity Check"
      ],
      "metadata": {
        "id": "7aG1BlGmXKzW"
      }
    },
    {
      "cell_type": "code",
      "source": [
        "for inputs, targets in train_loader:\n",
        "    # Move inputs and targets to the CPU.\n",
        "    inputs = tuple(input_tensor.to(device) for input_tensor in inputs)\n",
        "    targets = targets.to(device)\n",
        "    model_df = model_df.to(device)\n",
        "    model_df.eval()\n",
        "    # Forward pass\n",
        "    with torch.no_grad():  # Ensure no gradients are calculated since this is evaluation.\n",
        "        output = model_df(inputs)\n",
        "        loss = loss_function(output, targets)\n",
        "        print(f'Actual loss: {loss.item()}')\n",
        "    break\n",
        "\n",
        "print(f'Expected Theoretical loss: {np.log(2)}')"
      ],
      "metadata": {
        "colab": {
          "base_uri": "https://localhost:8080/"
        },
        "id": "FdNH2EWXW-4l",
        "outputId": "987794b0-2376-4941-f0bb-18a4cbd2cf6d"
      },
      "execution_count": 349,
      "outputs": [
        {
          "output_type": "stream",
          "name": "stdout",
          "text": [
            "Actual loss: 0.6894478797912598\n",
            "Expected Theoretical loss: 0.6931471805599453\n"
          ]
        }
      ]
    },
    {
      "cell_type": "markdown",
      "source": [
        "#### Training"
      ],
      "metadata": {
        "id": "lv9DUHECc8GR"
      }
    },
    {
      "cell_type": "code",
      "source": [
        "# Call the train function to train the model\n",
        "train_losses, train_hamm, valid_losses, valid_hamm = train(\n",
        "    train_loader, valid_loader, model_df, optimizer, loss_function, EPOCHS, device, PATIENCE\n",
        ")\n",
        "\n"
      ],
      "metadata": {
        "colab": {
          "base_uri": "https://localhost:8080/"
        },
        "id": "wDGNQFRUJwWV",
        "outputId": "dfa82f8b-212a-48c9-cb81-b977d6029009"
      },
      "execution_count": 350,
      "outputs": [
        {
          "output_type": "stream",
          "name": "stdout",
          "text": [
            "Epoch 1/5\n",
            "Train Loss: 0.3883 | Train hamming distance: 0.11299550533294678\n",
            "Valid Loss: 0.1723 | Valid hamming distance: 0.06363731622695923\n",
            "\n",
            "Epoch 2/5\n",
            "Train Loss: 0.1679 | Train hamming distance: 0.061814725399017334\n",
            "Valid Loss: 0.1392 | Valid hamming distance: 0.052430152893066406\n",
            "\n",
            "Epoch 3/5\n",
            "Train Loss: 0.1357 | Train hamming distance: 0.050737977027893066\n",
            "Valid Loss: 0.1246 | Valid hamming distance: 0.04666316509246826\n",
            "\n",
            "Epoch 4/5\n",
            "Train Loss: 0.1176 | Train hamming distance: 0.04392045736312866\n",
            "Valid Loss: 0.1176 | Valid hamming distance: 0.0432894229888916\n",
            "\n",
            "Epoch 5/5\n",
            "Train Loss: 0.1038 | Train hamming distance: 0.03871941566467285\n",
            "Valid Loss: 0.1115 | Valid hamming distance: 0.040685296058654785\n",
            "\n"
          ]
        }
      ]
    },
    {
      "cell_type": "code",
      "source": [
        "# # Iterate over each tensor in the list and move them to CPU\n",
        "# train_hamm = [hamm for hamm in train_hamm]\n",
        "# valid_hamm = [hamm for hamm in valid_hamm]"
      ],
      "metadata": {
        "id": "4D9aVm7KuzFR"
      },
      "execution_count": 351,
      "outputs": []
    },
    {
      "cell_type": "markdown",
      "source": [
        "### Plot losses and metrics"
      ],
      "metadata": {
        "id": "rXmEjJ4pv8U8"
      }
    },
    {
      "cell_type": "code",
      "source": [
        "def plot_history(train_losses, train_metrics, val_losses=None, val_metrics=None):\n",
        "    \"\"\"\n",
        "    Plot training and validation loss and metrics over epochs.\n",
        "\n",
        "    Args:\n",
        "        train_losses (list): List of training losses for each epoch.\n",
        "        train_metrics (list): List of training metrics (e.g., accuracy) for each epoch.\n",
        "        val_losses (list, optional): List of validation losses for each epoch.\n",
        "        val_metrics (list, optional): List of validation metrics for each epoch.\n",
        "\n",
        "    Returns:\n",
        "        None\n",
        "    \"\"\"\n",
        "    # Determine the number of epochs based on the length of train_losses\n",
        "    epochs = range(1, len(train_losses) + 1)\n",
        "\n",
        "    # Plotting training and validation losses\n",
        "    plt.figure()\n",
        "    plt.plot(epochs, train_losses, label=\"Train\")  # Plot training losses\n",
        "    if val_losses:  # Check if validation losses are provided\n",
        "        plt.plot(epochs, val_losses, label=\"Validation\")  # Plot validation losses\n",
        "    plt.xlabel(\"Epochs\")\n",
        "    plt.ylabel(\"Loss\")\n",
        "    plt.legend()\n",
        "    plt.show()\n",
        "\n",
        "    # Plotting training and validation metrics\n",
        "    if train_metrics[0] is not None:  # Check if training metrics are available\n",
        "        plt.figure()\n",
        "        plt.plot(epochs, train_metrics, label=\"Train\")  # Plot training metrics\n",
        "        if val_metrics:  # Check if validation metrics are provided\n",
        "            plt.plot(epochs, val_metrics, label=\"Validation\")  # Plot validation metrics\n",
        "        plt.xlabel(\"Epochs\")\n",
        "        plt.ylabel(\"hamm\")\n",
        "        plt.legend()\n",
        "        plt.show()"
      ],
      "metadata": {
        "id": "fRMO98S_p2fB"
      },
      "execution_count": 352,
      "outputs": []
    },
    {
      "cell_type": "code",
      "source": [
        "plot_history(train_losses, train_hamm, valid_losses, valid_hamm)"
      ],
      "metadata": {
        "colab": {
          "base_uri": "https://localhost:8080/",
          "height": 884
        },
        "id": "Jt74nlfowKHR",
        "outputId": "a59fcbf0-582e-4e37-f162-e17ccaa5acba"
      },
      "execution_count": 353,
      "outputs": [
        {
          "output_type": "display_data",
          "data": {
            "text/plain": [
              "<Figure size 640x480 with 1 Axes>"
            ],
            "image/png": "[encoded data removed]"
          },
          "metadata": {}
        },
        {
          "output_type": "display_data",
          "data": {
            "text/plain": [
              "<Figure size 640x480 with 1 Axes>"
            ],
            "image/png": "[encoded data removed]"
          },
          "metadata": {}
        }
      ]
    },
    {
      "cell_type": "markdown",
      "source": [
        "### Model checkpointing"
      ],
      "metadata": {
        "id": "HKQrOhtcvmSa"
      }
    },
    {
      "cell_type": "code",
      "source": [
        "# Get the current timestamp in the format \"YYYY-MM-DD_HH-MM-SS\"\n",
        "timestamp = datetime.now().strftime(\"%Y-%m-%d_%H-%M-%S\")\n",
        "\n",
        "# Define a suffix for the file name\n",
        "suffix = 'hw4_a'\n",
        "\n",
        "# Combine the timestamp and suffix to create the file path\n",
        "path = model_folder / f'{timestamp}_{suffix}.pt'\n",
        "path"
      ],
      "metadata": {
        "colab": {
          "base_uri": "https://localhost:8080/"
        },
        "id": "P6ZbErdhvcoI",
        "outputId": "085d0bdd-7e6b-44fd-ffd6-206a5ae66ec2"
      },
      "execution_count": 354,
      "outputs": [
        {
          "output_type": "execute_result",
          "data": {
            "text/plain": [
              "PosixPath('/content/drive/MyDrive/NLP/Data_Folder/Models/Multilabel/2024-03-04_05-44-32_hw4_a.pt')"
            ]
          },
          "metadata": {},
          "execution_count": 354
        }
      ]
    },
    {
      "cell_type": "code",
      "source": [
        "# Save the model's state dictionary to the specified file path\n",
        "torch.save(model_df.state_dict(), path)\n"
      ],
      "metadata": {
        "id": "juxVtCCZvrjo"
      },
      "execution_count": 355,
      "outputs": []
    },
    {
      "cell_type": "markdown",
      "source": [
        "### Confusion Matrix\n",
        "\n",
        "For detailed understanding of the performance of the model"
      ],
      "metadata": {
        "id": "N0dZx0pwwCWP"
      }
    },
    {
      "cell_type": "code",
      "source": [
        "def get_acc_pred(data_loader, model, device):\n",
        "    \"\"\"\n",
        "    Function to get predictions and accuracy for a given data using a trained model\n",
        "    Input: data iterator, model, device\n",
        "    Output: predictions and accuracy for the given dataset\n",
        "    \"\"\"\n",
        "    train_hamming_distance = HammingDistance(task = \"multilabel\", num_labels = 10).to(device)\n",
        "    # Create empty tensors to store predictions and actual labels\n",
        "    predictions = torch.Tensor().to(device)\n",
        "    y = torch.Tensor().to(device)\n",
        "    model = model.to(device)\n",
        "\n",
        "   # Set model to evaluation mode\n",
        "    model.eval()\n",
        "\n",
        "\n",
        "    running_correct = 0\n",
        "    # Iterate over batches from data iterator\n",
        "    with torch.no_grad():\n",
        "        for inputs, targets in data_loader:\n",
        "            # Process the batch to get the loss, outputs, and correct predictions\n",
        "            inputs = tuple(input_tensor.to(device) for input_tensor in inputs)\n",
        "            targets = targets.to(device)\n",
        "            _, outputs,_ = step(inputs, targets, model,\n",
        "                              device, loss_function=None, optimizer=None)\n",
        "\n",
        "            # Choose the label with maximum probability\n",
        "            # Choose the label with maximum probability\n",
        "            y_pred = (outputs > 0).float()\n",
        "\n",
        "            # Add the predicted labels and actual labels to their respective tensors\n",
        "            predictions = torch.cat((predictions, y_pred))\n",
        "            train_hamming_distance.update(y_pred, targets)\n",
        "            y = torch.cat((y, targets.to(device)))\n",
        "\n",
        "    # Calculate hamming distance by comparing the predicted and actual labels\n",
        "    hamming_distance = train_hamming_distance.compute()\n",
        "\n",
        "    # Return tuple containing predictions and accuracy\n",
        "    return predictions, y, hamming_distance"
      ],
      "metadata": {
        "id": "ZapLQdANvuMU"
      },
      "execution_count": 356,
      "outputs": []
    },
    {
      "cell_type": "code",
      "source": [
        "# Get the prediction and accuracy\n",
        "predictions_train, y_train, hamming_distance_train = get_acc_pred(train_loader, model_df,device)\n",
        "predictions_valid, y_valid, hamming_distance_valid = get_acc_pred(valid_loader, model_df,device)\n",
        "predictions_test, y_test, hamming_distance_test= get_acc_pred(test_loader, model_df, device)"
      ],
      "metadata": {
        "id": "G7Y_4_XCwJp-"
      },
      "execution_count": 357,
      "outputs": []
    },
    {
      "cell_type": "code",
      "source": [
        "# Print Hamming distance\n",
        "print('train hamming distance', hamming_distance_train)\n",
        "print('Valid hamming distance', hamming_distance_valid)\n",
        "print('test hamming distance', hamming_distance_test)"
      ],
      "metadata": {
        "colab": {
          "base_uri": "https://localhost:8080/"
        },
        "id": "atefPMWywNZ3",
        "outputId": "e63547ac-decb-4678-cb84-79f2fdfd388e"
      },
      "execution_count": 358,
      "outputs": [
        {
          "output_type": "stream",
          "name": "stdout",
          "text": [
            "train hamming distance tensor(0.0256)\n",
            "Valid hamming distance tensor(0.0396)\n",
            "test hamming distance tensor(0.0420)\n"
          ]
        }
      ]
    },
    {
      "cell_type": "code",
      "source": [
        "multilabel_confusion_matrix(y_true=y_train.cpu(), y_pred=predictions_train.cpu())"
      ],
      "metadata": {
        "colab": {
          "base_uri": "https://localhost:8080/"
        },
        "id": "EUngDDRmwP1g",
        "outputId": "39996cc9-d7ed-45a4-a261-b82fe47d83b4"
      },
      "execution_count": 371,
      "outputs": [
        {
          "output_type": "execute_result",
          "data": {
            "text/plain": [
              "array([[[21853,   389],\n",
              "        [  783,  5431]],\n",
              "\n",
              "       [[23325,   129],\n",
              "        [  386,  4616]],\n",
              "\n",
              "       [[24895,   144],\n",
              "        [  769,  2648]],\n",
              "\n",
              "       [[10853,  1123],\n",
              "        [  576, 15904]],\n",
              "\n",
              "       [[23833,    26],\n",
              "        [  243,  4354]],\n",
              "\n",
              "       [[12870,   510],\n",
              "        [  485, 14591]],\n",
              "\n",
              "       [[27978,    53],\n",
              "        [  255,   170]],\n",
              "\n",
              "       [[28107,    17],\n",
              "        [  255,    77]],\n",
              "\n",
              "       [[28272,     2],\n",
              "        [  182,     0]],\n",
              "\n",
              "       [[20630,   333],\n",
              "        [  628,  6865]]])"
            ]
          },
          "metadata": {},
          "execution_count": 371
        }
      ]
    },
    {
      "cell_type": "code",
      "source": [
        "multilabel_confusion_matrix(y_true=y_valid.cpu(), y_pred=predictions_valid.cpu())"
      ],
      "metadata": {
        "colab": {
          "base_uri": "https://localhost:8080/"
        },
        "id": "KPU2t6mVwSQg",
        "outputId": "7130643f-3be2-47bf-91a5-1a31923dec00"
      },
      "execution_count": 372,
      "outputs": [
        {
          "output_type": "execute_result",
          "data": {
            "text/plain": [
              "array([[[7153,  218],\n",
              "        [ 389, 1725]],\n",
              "\n",
              "       [[7785,   81],\n",
              "        [ 201, 1418]],\n",
              "\n",
              "       [[8237,   85],\n",
              "        [ 334,  829]],\n",
              "\n",
              "       [[3424,  601],\n",
              "        [ 261, 5199]],\n",
              "\n",
              "       [[7967,   36],\n",
              "        [ 159, 1323]],\n",
              "\n",
              "       [[4132,  325],\n",
              "        [ 230, 4798]],\n",
              "\n",
              "       [[9304,   16],\n",
              "        [  91,   74]],\n",
              "\n",
              "       [[9352,    8],\n",
              "        [ 106,   19]],\n",
              "\n",
              "       [[9422,    2],\n",
              "        [  61,    0]],\n",
              "\n",
              "       [[6832,  182],\n",
              "        [ 368, 2103]]])"
            ]
          },
          "metadata": {},
          "execution_count": 372
        }
      ]
    },
    {
      "cell_type": "code",
      "source": [
        "multilabel_confusion_matrix(y_true=y_test.cpu(), y_pred=predictions_test.cpu())"
      ],
      "metadata": {
        "colab": {
          "base_uri": "https://localhost:8080/"
        },
        "id": "BeULE4tQ4fm-",
        "outputId": "ed19c72a-f927-462c-b1e6-dd4757291584"
      },
      "execution_count": 373,
      "outputs": [
        {
          "output_type": "execute_result",
          "data": {
            "text/plain": [
              "array([[[7151,  212],\n",
              "        [ 442, 1681]],\n",
              "\n",
              "       [[7728,   72],\n",
              "        [ 237, 1449]],\n",
              "\n",
              "       [[8248,   86],\n",
              "        [ 360,  792]],\n",
              "\n",
              "       [[3446,  623],\n",
              "        [ 246, 5171]],\n",
              "\n",
              "       [[7915,   43],\n",
              "        [ 167, 1361]],\n",
              "\n",
              "       [[4201,  351],\n",
              "        [ 248, 4686]],\n",
              "\n",
              "       [[9301,   16],\n",
              "        [ 107,   62]],\n",
              "\n",
              "       [[9342,   14],\n",
              "        [ 106,   24]],\n",
              "\n",
              "       [[9414,    0],\n",
              "        [  72,    0]],\n",
              "\n",
              "       [[6793,  191],\n",
              "        [ 388, 2114]]])"
            ]
          },
          "metadata": {},
          "execution_count": 373
        }
      ]
    },
    {
      "cell_type": "markdown",
      "source": [
        "### Hamming distance of Test Data"
      ],
      "metadata": {
        "id": "mspv6dGiwVdB"
      }
    },
    {
      "cell_type": "code",
      "source": [
        "trained_model_df = SimpleMLP(vocab_size=VOCAB_SIZE,\n",
        "                       embedding_dim=EMBED_DIM,\n",
        "                       hidden_dim1=HIDDEN_DIM1,\n",
        "                       hidden_dim2=HIDDEN_DIM2,\n",
        "                       drop_prob1=DROP_PROB1,\n",
        "                       drop_prob2=DROP_PROB2,\n",
        "                       num_outputs=NUM_OUTPUTS)\n",
        "\n",
        "checkpoint = torch.load(path)\n",
        "trained_model_df.load_state_dict(checkpoint)"
      ],
      "metadata": {
        "colab": {
          "base_uri": "https://localhost:8080/"
        },
        "id": "XgLQyp8bgsJq",
        "outputId": "119194e4-dea9-46cf-8071-ae6383dd5c75"
      },
      "execution_count": 374,
      "outputs": [
        {
          "output_type": "execute_result",
          "data": {
            "text/plain": [
              "<All keys matched successfully>"
            ]
          },
          "metadata": {},
          "execution_count": 374
        }
      ]
    },
    {
      "cell_type": "code",
      "source": [
        "# Get the prediction and accuracy\n",
        "predictions_test, labels_test, hamming_distance_test = get_acc_pred(test_loader, trained_model_df, device)"
      ],
      "metadata": {
        "id": "IlyX4bCbg9--"
      },
      "execution_count": 376,
      "outputs": []
    },
    {
      "cell_type": "code",
      "source": [
        "# Print Test Accuracy\n",
        "print('Test Hamming distance', hamming_distance_test)"
      ],
      "metadata": {
        "colab": {
          "base_uri": "https://localhost:8080/"
        },
        "id": "Kw35Q5GqhDSd",
        "outputId": "c79ebc79-e0da-43a5-ed0e-4879ccffb750"
      },
      "execution_count": 377,
      "outputs": [
        {
          "output_type": "stream",
          "name": "stdout",
          "text": [
            "Test Hamming distance tensor(0.0420)\n"
          ]
        }
      ]
    },
    {
      "cell_type": "code",
      "source": [
        "test_hamming_distance = HammingDistance(task=\"multilabel\", num_labels=10).to(device)\n",
        "test_hamming_distance.update(labels_test, predictions_test)"
      ],
      "metadata": {
        "id": "6sJc3LGWwYzH"
      },
      "execution_count": 378,
      "outputs": []
    },
    {
      "cell_type": "code",
      "source": [
        "test_hamming_distance.compute()"
      ],
      "metadata": {
        "colab": {
          "base_uri": "https://localhost:8080/"
        },
        "id": "hHaQ8x2D4ypt",
        "outputId": "25c4de0c-9066-41af-da6b-f38c33388bea"
      },
      "execution_count": 379,
      "outputs": [
        {
          "output_type": "execute_result",
          "data": {
            "text/plain": [
              "tensor(0.0420)"
            ]
          },
          "metadata": {},
          "execution_count": 379
        }
      ]
    },
    {
      "cell_type": "markdown",
      "source": [
        "### Inference"
      ],
      "metadata": {
        "id": "b3P3xXT2jkMB"
      }
    },
    {
      "cell_type": "code",
      "source": [
        "sample_X = X_test[0:5]\n",
        "sample_X"
      ],
      "metadata": {
        "colab": {
          "base_uri": "https://localhost:8080/"
        },
        "id": "4PIwBqZ7jjw6",
        "outputId": "dee2f9ee-7037-45a7-ac7c-e645d4d36dd0"
      },
      "execution_count": 380,
      "outputs": [
        {
          "output_type": "execute_result",
          "data": {
            "text/plain": [
              "6082     open fancybox pageload situation open fancy bo...\n",
              "18123    create work array image android struggle work ...\n",
              "16377    hide image filter table work web page large ta...\n",
              "27029    javascript namespace issue value function m su...\n",
              "6433     unescape javascript escape c function c handle...\n",
              "Name: cleaned_text, dtype: object"
            ]
          },
          "metadata": {},
          "execution_count": 380
        }
      ]
    },
    {
      "cell_type": "markdown",
      "source": [
        "#### Step 1: Preprocessing"
      ],
      "metadata": {
        "id": "ocQe9E7Cj2VD"
      }
    },
    {
      "cell_type": "code",
      "source": [
        "device = 'cpu'\n",
        "\n",
        "# Convert the list of texts into a list of lists; each inner list contains the vocabulary indices for a text\n",
        "list_of_list_of_indices = [tokenizer(text, df_vocab) for text in sample_X]\n",
        "\n",
        "# Compute the offsets for each text in the concatenated tensor\n",
        "offsets = [0] + [len(i) for i in list_of_list_of_indices]\n",
        "offsets = torch.tensor(offsets[:-1]).cumsum(dim=0)\n",
        "\n",
        "# Concatenate all text indices into a single tensor\n",
        "indices = torch.cat([torch.tensor(i, dtype=torch.int64) for i in list_of_list_of_indices])"
      ],
      "metadata": {
        "id": "-JC1BUF8jw2N"
      },
      "execution_count": 381,
      "outputs": []
    },
    {
      "cell_type": "markdown",
      "source": [
        "#### Step 2: Get Predictions"
      ],
      "metadata": {
        "id": "dmkkx5lfkd7L"
      }
    },
    {
      "cell_type": "code",
      "source": [
        "# move model to appropriate device\n",
        "trained_model_df.to(device)\n",
        "\n",
        "# put model in evaluation mode\n",
        "trained_model_df.eval()\n",
        "\n",
        "# get outputs (logits) from model\n",
        "outputs = trained_model_df((indices, offsets))"
      ],
      "metadata": {
        "id": "aPFp_BTKkcYt"
      },
      "execution_count": 382,
      "outputs": []
    },
    {
      "cell_type": "markdown",
      "source": [
        "Step 3: Post Processing"
      ],
      "metadata": {
        "id": "OpgjdYwnklmr"
      }
    },
    {
      "cell_type": "code",
      "source": [
        "# get predicted labels\n",
        "predictions = outputs > 0.5\n",
        "\n",
        "# mapping for class labels\n",
        "mapping = {0: 'c#', 1: 'java', 2: 'php', 3: 'javascript', 4: 'android', 5: 'jquery', 6: 'c++', 7: 'python', 8: 'iphone', 9: 'asp.net'}\n",
        "\n",
        "predicted_label_names = []\n",
        "for sample_pred in predictions:\n",
        "    labels = [mapping[i] for i, val in enumerate(sample_pred) if val == 1]\n",
        "    predicted_label_names.append(labels)\n",
        "\n",
        "print(predicted_label_names)"
      ],
      "metadata": {
        "colab": {
          "base_uri": "https://localhost:8080/"
        },
        "id": "LcjU_LmKksNh",
        "outputId": "203d6d92-1f2e-419f-e4d7-caa3784d55c6"
      },
      "execution_count": 383,
      "outputs": [
        {
          "output_type": "stream",
          "name": "stdout",
          "text": [
            "[['javascript', 'asp.net'], ['java', 'android'], ['javascript', 'jquery'], ['javascript', 'jquery'], ['javascript']]\n"
          ]
        }
      ]
    }
  ]
}