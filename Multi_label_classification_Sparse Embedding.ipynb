{
  "nbformat": 4,
  "nbformat_minor": 0,
  "metadata": {
    "colab": {
      "provenance": [],
      "toc_visible": true,
      "gpuType": "T4"
    },
    "kernelspec": {
      "name": "python3",
      "display_name": "Python 3"
    },
    "language_info": {
      "name": "python"
    },
    "accelerator": "GPU"
  },
  "cells": [
    {
      "cell_type": "markdown",
      "source": [
        "## Why are we not using collate function?\n",
        "\n",
        "Sparse embeddings typically operate on variable length data structures where it is not needed to be in the same shape where as dense embeddings require same shape tensors where input has a fixed shape, often we do some preprocessing on this such as offsets or padding so that embedding layer gets same shape input when batch processing. This makes it a requirement for collate function to be there in dense embeddings and it is not required in sparse embeddings."
      ],
      "metadata": {
        "id": "2l3UPUgvCX1I"
      }
    },
    {
      "cell_type": "code",
      "source": [
        "!pip install torchinfo"
      ],
      "metadata": {
        "id": "F3BRMCpXZGVK",
        "colab": {
          "base_uri": "https://localhost:8080/"
        },
        "outputId": "064c9b28-82ed-48ad-dce7-9319f09f2a85"
      },
      "execution_count": 34,
      "outputs": [
        {
          "output_type": "stream",
          "name": "stdout",
          "text": [
            "Requirement already satisfied: torchinfo in /usr/local/lib/python3.10/dist-packages (1.8.0)\n"
          ]
        }
      ]
    },
    {
      "cell_type": "code",
      "source": [
        "!pip install torchmetrics"
      ],
      "metadata": {
        "id": "po6lY_C8RVH2",
        "colab": {
          "base_uri": "https://localhost:8080/"
        },
        "outputId": "c9030720-92c7-4d5a-c6d8-7d5e98e707d2"
      },
      "execution_count": 35,
      "outputs": [
        {
          "output_type": "stream",
          "name": "stdout",
          "text": [
            "Requirement already satisfied: torchmetrics in /usr/local/lib/python3.10/dist-packages (1.3.1)\n",
            "Requirement already satisfied: numpy>1.20.0 in /usr/local/lib/python3.10/dist-packages (from torchmetrics) (1.25.2)\n",
            "Requirement already satisfied: packaging>17.1 in /usr/local/lib/python3.10/dist-packages (from torchmetrics) (23.2)\n",
            "Requirement already satisfied: torch>=1.10.0 in /usr/local/lib/python3.10/dist-packages (from torchmetrics) (2.1.0+cu121)\n",
            "Requirement already satisfied: lightning-utilities>=0.8.0 in /usr/local/lib/python3.10/dist-packages (from torchmetrics) (0.10.1)\n",
            "Requirement already satisfied: setuptools in /usr/local/lib/python3.10/dist-packages (from lightning-utilities>=0.8.0->torchmetrics) (67.7.2)\n",
            "Requirement already satisfied: typing-extensions in /usr/local/lib/python3.10/dist-packages (from lightning-utilities>=0.8.0->torchmetrics) (4.10.0)\n",
            "Requirement already satisfied: filelock in /usr/local/lib/python3.10/dist-packages (from torch>=1.10.0->torchmetrics) (3.13.1)\n",
            "Requirement already satisfied: sympy in /usr/local/lib/python3.10/dist-packages (from torch>=1.10.0->torchmetrics) (1.12)\n",
            "Requirement already satisfied: networkx in /usr/local/lib/python3.10/dist-packages (from torch>=1.10.0->torchmetrics) (3.2.1)\n",
            "Requirement already satisfied: jinja2 in /usr/local/lib/python3.10/dist-packages (from torch>=1.10.0->torchmetrics) (3.1.3)\n",
            "Requirement already satisfied: fsspec in /usr/local/lib/python3.10/dist-packages (from torch>=1.10.0->torchmetrics) (2023.6.0)\n",
            "Requirement already satisfied: triton==2.1.0 in /usr/local/lib/python3.10/dist-packages (from torch>=1.10.0->torchmetrics) (2.1.0)\n",
            "Requirement already satisfied: MarkupSafe>=2.0 in /usr/local/lib/python3.10/dist-packages (from jinja2->torch>=1.10.0->torchmetrics) (2.1.5)\n",
            "Requirement already satisfied: mpmath>=0.19 in /usr/local/lib/python3.10/dist-packages (from sympy->torch>=1.10.0->torchmetrics) (1.3.0)\n"
          ]
        }
      ]
    },
    {
      "cell_type": "code",
      "execution_count": 36,
      "metadata": {
        "id": "c88Rf1DUBV8V"
      },
      "outputs": [],
      "source": [
        "# Importing generic Libraries\n",
        "import numpy as np\n",
        "import pandas as pd\n",
        "import sys\n",
        "\n",
        "# Printing: Import the pprint function from the pprint module for formatted output of text\n",
        "from pprint import pprint"
      ]
    },
    {
      "cell_type": "code",
      "source": [
        "# Import homework related libraries\n",
        "## Dataload\n",
        "from pathlib import Path\n",
        "import joblib\n",
        "\n",
        "## data processing libaries\n",
        "from ast import literal_eval#to convert list elements to integer\n",
        "\n",
        "## sklearn libraries\n",
        "### preprocessing\n",
        "from sklearn.preprocessing import MultiLabelBinarizer\n",
        "### split\n",
        "from sklearn.model_selection import train_test_split\n",
        "from sklearn.feature_extraction.text import TfidfVectorizer\n",
        "\n",
        "# Importing PyTorch library for tensor computations and neural network modules\n",
        "import torch\n",
        "import torch.nn as nn\n",
        "import torch.nn.functional as F\n",
        "\n",
        "import torch.optim as optim\n",
        "from torch.optim import AdamW\n",
        "\n",
        "# For working with textual data vocabularies and for displaying model summaries\n",
        "from torchtext.vocab import vocab\n",
        "from torchinfo import summary\n",
        "\n",
        "# to create vocab\n",
        "from collections import Counter\n",
        "\n",
        "# For creating lightweight attribute classes and for partial function application\n",
        "from functools import partial\n",
        "\n",
        "# for the random number fixing\n",
        "import random\n",
        "\n",
        "# Import HammingDistance from torchmetrics\n",
        "# HammingDistance is useful for evaluating multi-label classification problems.\n",
        "from torchmetrics import HammingDistance\n",
        "\n",
        "#for clipping\n",
        "from torch.nn.utils import clip_grad_value_\n",
        "\n",
        "# For plotting and visualization\n",
        "import matplotlib.pyplot as plt\n",
        "import seaborn as sns\n",
        "\n",
        "# For filesystem path handling, generating and displaying confusion matrices, and date-time manipulations\n",
        "from pathlib import Path\n",
        "from sklearn.metrics import multilabel_confusion_matrix\n",
        "from datetime import datetime\n"
      ],
      "metadata": {
        "id": "Iyqd6-M-CIm7"
      },
      "execution_count": 37,
      "outputs": []
    },
    {
      "cell_type": "markdown",
      "source": [
        "## Data Load"
      ],
      "metadata": {
        "id": "cWQxb_dYBmjz"
      }
    },
    {
      "cell_type": "code",
      "source": [
        "if 'google.colab' in str(get_ipython()):\n",
        "  from google.colab import drive\n",
        "  drive.mount('/content/drive',force_remount=True)\n",
        "\n",
        "  basepath = '/content/drive/MyDrive/NLP/Data_Folder'\n",
        "  sys.path.append(basepath)\n",
        "else:\n",
        "  basepath = 'C:/Users/billa/Documents/UTD/Sem 5/NLP/Data_Folder'\n",
        "  sys.path.append(basepath)"
      ],
      "metadata": {
        "colab": {
          "base_uri": "https://localhost:8080/"
        },
        "id": "mviRuM6qBiqT",
        "outputId": "79457ca5-ef19-45cc-a24d-08c122f2adf0"
      },
      "execution_count": 38,
      "outputs": [
        {
          "output_type": "stream",
          "name": "stdout",
          "text": [
            "Mounted at /content/drive\n"
          ]
        }
      ]
    },
    {
      "cell_type": "code",
      "source": [
        "sys.path"
      ],
      "metadata": {
        "colab": {
          "base_uri": "https://localhost:8080/"
        },
        "id": "W-lYn37jX5a5",
        "outputId": "7bdea9fe-5a59-49ec-88c0-92b42dd93485"
      },
      "execution_count": 39,
      "outputs": [
        {
          "output_type": "execute_result",
          "data": {
            "text/plain": [
              "['/content',\n",
              " '/env/python',\n",
              " '/usr/lib/python310.zip',\n",
              " '/usr/lib/python3.10',\n",
              " '/usr/lib/python3.10/lib-dynload',\n",
              " '',\n",
              " '/usr/local/lib/python3.10/dist-packages',\n",
              " '/usr/lib/python3/dist-packages',\n",
              " '/usr/local/lib/python3.10/dist-packages/IPython/extensions',\n",
              " '/root/.ipython',\n",
              " '/content/drive/MyDrive/NLP/Data_Folder',\n",
              " '/content/drive/MyDrive/NLP/Data_Folder']"
            ]
          },
          "metadata": {},
          "execution_count": 39
        }
      ]
    },
    {
      "cell_type": "code",
      "source": [
        "base_folder = Path(basepath)\n",
        "data_folder = base_folder/'datasets/Multilabel'\n",
        "model_folder = base_folder /'Models/Multilabel'"
      ],
      "metadata": {
        "id": "yZ52cI8xHNst"
      },
      "execution_count": 40,
      "outputs": []
    },
    {
      "cell_type": "code",
      "source": [
        "multilabel_file = data_folder/ 'df_multilabel_hw_cleaned.joblib'\n",
        "df = joblib.load(multilabel_file)"
      ],
      "metadata": {
        "id": "nWsu69SPZvWx"
      },
      "execution_count": 41,
      "outputs": []
    },
    {
      "cell_type": "code",
      "source": [
        "df.dropna(inplace=True)"
      ],
      "metadata": {
        "id": "s38zKyJhYBhj"
      },
      "execution_count": 42,
      "outputs": []
    },
    {
      "cell_type": "markdown",
      "source": [
        "### Y_var datatype"
      ],
      "metadata": {
        "id": "zIOD0obgcqmy"
      }
    },
    {
      "cell_type": "code",
      "source": [
        "df.head()"
      ],
      "metadata": {
        "colab": {
          "base_uri": "https://localhost:8080/",
          "height": 206
        },
        "id": "BtG2C7ziasOk",
        "outputId": "04e70c88-4526-4825-c524-7a37ca38ffae"
      },
      "execution_count": 43,
      "outputs": [
        {
          "output_type": "execute_result",
          "data": {
            "text/plain": [
              "                                        cleaned_text               Tags  \\\n",
              "0  asp query stre dropdown webpage follow control...         c# asp.net   \n",
              "1  run javascript code server java code want run ...    java javascript   \n",
              "2  linq sql throw exception row find change hi li...         c# asp.net   \n",
              "3  run python script php server run nginx web ser...         php python   \n",
              "4  advice write function m try write function res...  javascript jquery   \n",
              "\n",
              "  Tag_Number  \n",
              "0     [0, 9]  \n",
              "1     [1, 3]  \n",
              "2     [0, 9]  \n",
              "3     [2, 7]  \n",
              "4     [3, 5]  "
            ],
            "text/html": [
              "\n",
              "  <div id=\"df-bab33b01-7a65-4a53-abb6-302691afa783\" class=\"colab-df-container\">\n",
              "    <div>\n",
              "<style scoped>\n",
              "    .dataframe tbody tr th:only-of-type {\n",
              "        vertical-align: middle;\n",
              "    }\n",
              "\n",
              "    .dataframe tbody tr th {\n",
              "        vertical-align: top;\n",
              "    }\n",
              "\n",
              "    .dataframe thead th {\n",
              "        text-align: right;\n",
              "    }\n",
              "</style>\n",
              "<table border=\"1\" class=\"dataframe\">\n",
              "  <thead>\n",
              "    <tr style=\"text-align: right;\">\n",
              "      <th></th>\n",
              "      <th>cleaned_text</th>\n",
              "      <th>Tags</th>\n",
              "      <th>Tag_Number</th>\n",
              "    </tr>\n",
              "  </thead>\n",
              "  <tbody>\n",
              "    <tr>\n",
              "      <th>0</th>\n",
              "      <td>asp query stre dropdown webpage follow control...</td>\n",
              "      <td>c# asp.net</td>\n",
              "      <td>[0, 9]</td>\n",
              "    </tr>\n",
              "    <tr>\n",
              "      <th>1</th>\n",
              "      <td>run javascript code server java code want run ...</td>\n",
              "      <td>java javascript</td>\n",
              "      <td>[1, 3]</td>\n",
              "    </tr>\n",
              "    <tr>\n",
              "      <th>2</th>\n",
              "      <td>linq sql throw exception row find change hi li...</td>\n",
              "      <td>c# asp.net</td>\n",
              "      <td>[0, 9]</td>\n",
              "    </tr>\n",
              "    <tr>\n",
              "      <th>3</th>\n",
              "      <td>run python script php server run nginx web ser...</td>\n",
              "      <td>php python</td>\n",
              "      <td>[2, 7]</td>\n",
              "    </tr>\n",
              "    <tr>\n",
              "      <th>4</th>\n",
              "      <td>advice write function m try write function res...</td>\n",
              "      <td>javascript jquery</td>\n",
              "      <td>[3, 5]</td>\n",
              "    </tr>\n",
              "  </tbody>\n",
              "</table>\n",
              "</div>\n",
              "    <div class=\"colab-df-buttons\">\n",
              "\n",
              "  <div class=\"colab-df-container\">\n",
              "    <button class=\"colab-df-convert\" onclick=\"convertToInteractive('df-bab33b01-7a65-4a53-abb6-302691afa783')\"\n",
              "            title=\"Convert this dataframe to an interactive table.\"\n",
              "            style=\"display:none;\">\n",
              "\n",
              "  <svg xmlns=\"http://www.w3.org/2000/svg\" height=\"24px\" viewBox=\"0 -960 960 960\">\n",
              "    <path d=\"M120-120v-720h720v720H120Zm60-500h600v-160H180v160Zm220 220h160v-160H400v160Zm0 220h160v-160H400v160ZM180-400h160v-160H180v160Zm440 0h160v-160H620v160ZM180-180h160v-160H180v160Zm440 0h160v-160H620v160Z\"/>\n",
              "  </svg>\n",
              "    </button>\n",
              "\n",
              "  <style>\n",
              "    .colab-df-container {\n",
              "      display:flex;\n",
              "      gap: 12px;\n",
              "    }\n",
              "\n",
              "    .colab-df-convert {\n",
              "      background-color: #E8F0FE;\n",
              "      border: none;\n",
              "      border-radius: 50%;\n",
              "      cursor: pointer;\n",
              "      display: none;\n",
              "      fill: #1967D2;\n",
              "      height: 32px;\n",
              "      padding: 0 0 0 0;\n",
              "      width: 32px;\n",
              "    }\n",
              "\n",
              "    .colab-df-convert:hover {\n",
              "      background-color: #E2EBFA;\n",
              "      box-shadow: 0px 1px 2px rgba(60, 64, 67, 0.3), 0px 1px 3px 1px rgba(60, 64, 67, 0.15);\n",
              "      fill: #174EA6;\n",
              "    }\n",
              "\n",
              "    .colab-df-buttons div {\n",
              "      margin-bottom: 4px;\n",
              "    }\n",
              "\n",
              "    [theme=dark] .colab-df-convert {\n",
              "      background-color: #3B4455;\n",
              "      fill: #D2E3FC;\n",
              "    }\n",
              "\n",
              "    [theme=dark] .colab-df-convert:hover {\n",
              "      background-color: #434B5C;\n",
              "      box-shadow: 0px 1px 3px 1px rgba(0, 0, 0, 0.15);\n",
              "      filter: drop-shadow(0px 1px 2px rgba(0, 0, 0, 0.3));\n",
              "      fill: #FFFFFF;\n",
              "    }\n",
              "  </style>\n",
              "\n",
              "    <script>\n",
              "      const buttonEl =\n",
              "        document.querySelector('#df-bab33b01-7a65-4a53-abb6-302691afa783 button.colab-df-convert');\n",
              "      buttonEl.style.display =\n",
              "        google.colab.kernel.accessAllowed ? 'block' : 'none';\n",
              "\n",
              "      async function convertToInteractive(key) {\n",
              "        const element = document.querySelector('#df-bab33b01-7a65-4a53-abb6-302691afa783');\n",
              "        const dataTable =\n",
              "          await google.colab.kernel.invokeFunction('convertToInteractive',\n",
              "                                                    [key], {});\n",
              "        if (!dataTable) return;\n",
              "\n",
              "        const docLinkHtml = 'Like what you see? Visit the ' +\n",
              "          '<a target=\"_blank\" href=https://colab.research.google.com/notebooks/data_table.ipynb>data table notebook</a>'\n",
              "          + ' to learn more about interactive tables.';\n",
              "        element.innerHTML = '';\n",
              "        dataTable['output_type'] = 'display_data';\n",
              "        await google.colab.output.renderOutput(dataTable, element);\n",
              "        const docLink = document.createElement('div');\n",
              "        docLink.innerHTML = docLinkHtml;\n",
              "        element.appendChild(docLink);\n",
              "      }\n",
              "    </script>\n",
              "  </div>\n",
              "\n",
              "\n",
              "<div id=\"df-489bd240-7866-40c3-ac5a-6de72d6ef1a0\">\n",
              "  <button class=\"colab-df-quickchart\" onclick=\"quickchart('df-489bd240-7866-40c3-ac5a-6de72d6ef1a0')\"\n",
              "            title=\"Suggest charts\"\n",
              "            style=\"display:none;\">\n",
              "\n",
              "<svg xmlns=\"http://www.w3.org/2000/svg\" height=\"24px\"viewBox=\"0 0 24 24\"\n",
              "     width=\"24px\">\n",
              "    <g>\n",
              "        <path d=\"M19 3H5c-1.1 0-2 .9-2 2v14c0 1.1.9 2 2 2h14c1.1 0 2-.9 2-2V5c0-1.1-.9-2-2-2zM9 17H7v-7h2v7zm4 0h-2V7h2v10zm4 0h-2v-4h2v4z\"/>\n",
              "    </g>\n",
              "</svg>\n",
              "  </button>\n",
              "\n",
              "<style>\n",
              "  .colab-df-quickchart {\n",
              "      --bg-color: #E8F0FE;\n",
              "      --fill-color: #1967D2;\n",
              "      --hover-bg-color: #E2EBFA;\n",
              "      --hover-fill-color: #174EA6;\n",
              "      --disabled-fill-color: #AAA;\n",
              "      --disabled-bg-color: #DDD;\n",
              "  }\n",
              "\n",
              "  [theme=dark] .colab-df-quickchart {\n",
              "      --bg-color: #3B4455;\n",
              "      --fill-color: #D2E3FC;\n",
              "      --hover-bg-color: #434B5C;\n",
              "      --hover-fill-color: #FFFFFF;\n",
              "      --disabled-bg-color: #3B4455;\n",
              "      --disabled-fill-color: #666;\n",
              "  }\n",
              "\n",
              "  .colab-df-quickchart {\n",
              "    background-color: var(--bg-color);\n",
              "    border: none;\n",
              "    border-radius: 50%;\n",
              "    cursor: pointer;\n",
              "    display: none;\n",
              "    fill: var(--fill-color);\n",
              "    height: 32px;\n",
              "    padding: 0;\n",
              "    width: 32px;\n",
              "  }\n",
              "\n",
              "  .colab-df-quickchart:hover {\n",
              "    background-color: var(--hover-bg-color);\n",
              "    box-shadow: 0 1px 2px rgba(60, 64, 67, 0.3), 0 1px 3px 1px rgba(60, 64, 67, 0.15);\n",
              "    fill: var(--button-hover-fill-color);\n",
              "  }\n",
              "\n",
              "  .colab-df-quickchart-complete:disabled,\n",
              "  .colab-df-quickchart-complete:disabled:hover {\n",
              "    background-color: var(--disabled-bg-color);\n",
              "    fill: var(--disabled-fill-color);\n",
              "    box-shadow: none;\n",
              "  }\n",
              "\n",
              "  .colab-df-spinner {\n",
              "    border: 2px solid var(--fill-color);\n",
              "    border-color: transparent;\n",
              "    border-bottom-color: var(--fill-color);\n",
              "    animation:\n",
              "      spin 1s steps(1) infinite;\n",
              "  }\n",
              "\n",
              "  @keyframes spin {\n",
              "    0% {\n",
              "      border-color: transparent;\n",
              "      border-bottom-color: var(--fill-color);\n",
              "      border-left-color: var(--fill-color);\n",
              "    }\n",
              "    20% {\n",
              "      border-color: transparent;\n",
              "      border-left-color: var(--fill-color);\n",
              "      border-top-color: var(--fill-color);\n",
              "    }\n",
              "    30% {\n",
              "      border-color: transparent;\n",
              "      border-left-color: var(--fill-color);\n",
              "      border-top-color: var(--fill-color);\n",
              "      border-right-color: var(--fill-color);\n",
              "    }\n",
              "    40% {\n",
              "      border-color: transparent;\n",
              "      border-right-color: var(--fill-color);\n",
              "      border-top-color: var(--fill-color);\n",
              "    }\n",
              "    60% {\n",
              "      border-color: transparent;\n",
              "      border-right-color: var(--fill-color);\n",
              "    }\n",
              "    80% {\n",
              "      border-color: transparent;\n",
              "      border-right-color: var(--fill-color);\n",
              "      border-bottom-color: var(--fill-color);\n",
              "    }\n",
              "    90% {\n",
              "      border-color: transparent;\n",
              "      border-bottom-color: var(--fill-color);\n",
              "    }\n",
              "  }\n",
              "</style>\n",
              "\n",
              "  <script>\n",
              "    async function quickchart(key) {\n",
              "      const quickchartButtonEl =\n",
              "        document.querySelector('#' + key + ' button');\n",
              "      quickchartButtonEl.disabled = true;  // To prevent multiple clicks.\n",
              "      quickchartButtonEl.classList.add('colab-df-spinner');\n",
              "      try {\n",
              "        const charts = await google.colab.kernel.invokeFunction(\n",
              "            'suggestCharts', [key], {});\n",
              "      } catch (error) {\n",
              "        console.error('Error during call to suggestCharts:', error);\n",
              "      }\n",
              "      quickchartButtonEl.classList.remove('colab-df-spinner');\n",
              "      quickchartButtonEl.classList.add('colab-df-quickchart-complete');\n",
              "    }\n",
              "    (() => {\n",
              "      let quickchartButtonEl =\n",
              "        document.querySelector('#df-489bd240-7866-40c3-ac5a-6de72d6ef1a0 button');\n",
              "      quickchartButtonEl.style.display =\n",
              "        google.colab.kernel.accessAllowed ? 'block' : 'none';\n",
              "    })();\n",
              "  </script>\n",
              "</div>\n",
              "\n",
              "    </div>\n",
              "  </div>\n"
            ],
            "application/vnd.google.colaboratory.intrinsic+json": {
              "type": "dataframe",
              "variable_name": "df",
              "summary": "{\n  \"name\": \"df\",\n  \"rows\": 47427,\n  \"fields\": [\n    {\n      \"column\": \"cleaned_text\",\n      \"properties\": {\n        \"dtype\": \"string\",\n        \"num_unique_values\": 36481,\n        \"samples\": [\n          \"fadein invisible list item jquery unordered list lis invisible display begin want specific li visible js function try $ list li nth child(1)\\\").fadein work ul visible begin code > li      display   < ul class=\\\"hide id=\\\"my list >      < li>1</li >      < li>2</li >      < li>3</li > < /ul >   try answer question feel free stab\",\n          \"deploy project server create website excel file mail d information mail d fetch excel file excel file send mail automatically mail d design subject cc bcc content create project export excel file fetch mail d ms access database send email automatically design deploy project ftp.i know create help regard padmapriya s  \",\n          \"custom keypad button functional app finish scoreboard app   user longclick score currently dialog box appear show edittext field ok cancel button   user click edittext field keypad appear number user type new score click edittext field show new value dialog box user click ok save enter value textview show current score problem feel cumbersome   like happen   user longclick score keypad appear user enter new score user click ok keypad disappear value save textview update current score   order accomplish think thing   create new class extend view new android understand option replace edittext dialog new xml file design like keypad   option 2   figure probably easy design xml layout call   user longclick file inflate dialog ok cancel   far good   know code button action thought figure setup onclick listener button layout   figure button go perform exact function   basically text button case 0 9 append textview keypad   user click ok save textview current score textview help point right direction accomplish screenshot textview number   xml code < xml version=\\\"1.0 encoding=\\\"utf-8 > < gridlayout xmlns apk res android android layout_width=\\\"wrap_content android layout_height=\\\"wrap_content android layout_gravity=\\\"fill android columncount=\\\"3 >   < textview      android id=\\\"@+id textview1      android layout_columnspan=\\\"3      android layout_gravity=\\\"fill      android gravity=\\\"right|center_vertical      android textsize=\\\"24sp >   < button android text=\\\"1 >   < button android text=\\\"2 >   < button android text=\\\"3 > < button android text=\\\"4 > < button android text=\\\"5 > < button android text=\\\"6 > < button android text=\\\"7 > < button android text=\\\"8 > < button android text=\\\"9 >   < button      android layout_columnspan=\\\"3      android layout_gravity=\\\"fill      android gravity=\\\"center      android text=\\\"0 >   \"\n        ],\n        \"semantic_type\": \"\",\n        \"description\": \"\"\n      }\n    },\n    {\n      \"column\": \"Tags\",\n      \"properties\": {\n        \"dtype\": \"category\",\n        \"num_unique_values\": 176,\n        \"samples\": [\n          \"javascript asp.net\",\n          \"c# asp.net jquery\",\n          \"c# java python\"\n        ],\n        \"semantic_type\": \"\",\n        \"description\": \"\"\n      }\n    },\n    {\n      \"column\": \"Tag_Number\",\n      \"properties\": {\n        \"dtype\": \"category\",\n        \"num_unique_values\": 176,\n        \"samples\": [\n          \"[3, 9]\",\n          \"[0, 9, 5]\",\n          \"[0, 1, 7]\"\n        ],\n        \"semantic_type\": \"\",\n        \"description\": \"\"\n      }\n    }\n  ]\n}"
            }
          },
          "metadata": {},
          "execution_count": 43
        }
      ]
    },
    {
      "cell_type": "code",
      "source": [
        "X = df['cleaned_text']\n",
        "y = df['Tag_Number'].apply(literal_eval)\n",
        "\n",
        "mlb = MultiLabelBinarizer()\n",
        "y = mlb.fit_transform(y)\n",
        "\n",
        "print(type(y) , y.shape, y[:6,:])\n",
        "print(type(X) , X.shape, X.head(6))"
      ],
      "metadata": {
        "id": "THLhrfhAfAAH",
        "colab": {
          "base_uri": "https://localhost:8080/"
        },
        "outputId": "720a6968-315f-422c-9da4-1372f614ac9f"
      },
      "execution_count": 44,
      "outputs": [
        {
          "output_type": "stream",
          "name": "stdout",
          "text": [
            "<class 'numpy.ndarray'> (47427, 10) [[1 0 0 0 0 0 0 0 0 1]\n",
            " [0 1 0 1 0 0 0 0 0 0]\n",
            " [1 0 0 0 0 0 0 0 0 1]\n",
            " [0 0 1 0 0 0 0 1 0 0]\n",
            " [0 0 0 1 0 1 0 0 0 0]\n",
            " [0 0 0 1 0 1 0 0 0 0]]\n",
            "<class 'pandas.core.series.Series'> (47427,) 0    asp query stre dropdown webpage follow control...\n",
            "1    run javascript code server java code want run ...\n",
            "2    linq sql throw exception row find change hi li...\n",
            "3    run python script php server run nginx web ser...\n",
            "4    advice write function m try write function res...\n",
            "5    jquery auto resize function cause jump browser...\n",
            "Name: cleaned_text, dtype: object\n"
          ]
        }
      ]
    },
    {
      "cell_type": "code",
      "source": [
        "# train_val_test split = 60%_20%_20%\n",
        "X_train, X_temp, y_train, y_temp = train_test_split(X, y, test_size=0.4, random_state=42, shuffle = True)\n",
        "X_valid, X_test, y_valid, y_test = train_test_split(X_temp, y_temp, test_size=0.5, random_state=42, shuffle = True)\n",
        "\n",
        "# Print the shapes of the resulting sets\n",
        "print(\"Training set shapes - X_train: {}, y_train: {}\".format(X_train.shape, y_train.shape))\n",
        "print(\"Validation set shapes - X_valid: {}, y_valid: {}\".format(X_valid.shape, y_valid.shape))\n",
        "print(\"Test set shapes - X_test: {}, y_test: {}\".format(X_test.shape, y_test.shape))"
      ],
      "metadata": {
        "id": "lnuu7IgqezJ4",
        "colab": {
          "base_uri": "https://localhost:8080/"
        },
        "outputId": "a68a8ae0-ee2a-4627-f43e-7f54eca567c1"
      },
      "execution_count": 45,
      "outputs": [
        {
          "output_type": "stream",
          "name": "stdout",
          "text": [
            "Training set shapes - X_train: (28456,), y_train: (28456, 10)\n",
            "Validation set shapes - X_valid: (9485,), y_valid: (9485, 10)\n",
            "Test set shapes - X_test: (9486,), y_test: (9486, 10)\n"
          ]
        }
      ]
    },
    {
      "cell_type": "code",
      "source": [
        "type(X_train)"
      ],
      "metadata": {
        "id": "7pI07AzmVBYO",
        "outputId": "f24af862-8da8-4e41-a086-5e4c96551b28",
        "colab": {
          "base_uri": "https://localhost:8080/",
          "height": 205
        }
      },
      "execution_count": 46,
      "outputs": [
        {
          "output_type": "execute_result",
          "data": {
            "text/plain": [
              "pandas.core.series.Series"
            ],
            "text/html": [
              "<div style=\"max-width:800px; border: 1px solid var(--colab-border-color);\"><style>\n",
              "      pre.function-repr-contents {\n",
              "        overflow-x: auto;\n",
              "        padding: 8px 12px;\n",
              "        max-height: 500px;\n",
              "      }\n",
              "\n",
              "      pre.function-repr-contents.function-repr-contents-collapsed {\n",
              "        cursor: pointer;\n",
              "        max-height: 100px;\n",
              "      }\n",
              "    </style>\n",
              "    <pre style=\"white-space: initial; background:\n",
              "         var(--colab-secondary-surface-color); padding: 8px 12px;\n",
              "         border-bottom: 1px solid var(--colab-border-color);\"><b>pandas.core.series.Series</b><br/>def __init__(data=None, index=None, dtype: Dtype | None=None, name=None, copy: bool=False, fastpath: bool=False) -&gt; None</pre><pre class=\"function-repr-contents function-repr-contents-collapsed\" style=\"\"><a class=\"filepath\" style=\"display:none\" href=\"#\">/usr/local/lib/python3.10/dist-packages/pandas/core/series.py</a>One-dimensional ndarray with axis labels (including time series).\n",
              "\n",
              "Labels need not be unique but must be a hashable type. The object\n",
              "supports both integer- and label-based indexing and provides a host of\n",
              "methods for performing operations involving the index. Statistical\n",
              "methods from ndarray have been overridden to automatically exclude\n",
              "missing data (currently represented as NaN).\n",
              "\n",
              "Operations between Series (+, -, /, \\*, \\*\\*) align values based on their\n",
              "associated index values-- they need not be the same length. The result\n",
              "index will be the sorted union of the two indexes.\n",
              "\n",
              "Parameters\n",
              "----------\n",
              "data : array-like, Iterable, dict, or scalar value\n",
              "    Contains data stored in Series. If data is a dict, argument order is\n",
              "    maintained.\n",
              "index : array-like or Index (1d)\n",
              "    Values must be hashable and have the same length as `data`.\n",
              "    Non-unique index values are allowed. Will default to\n",
              "    RangeIndex (0, 1, 2, ..., n) if not provided. If data is dict-like\n",
              "    and index is None, then the keys in the data are used as the index. If the\n",
              "    index is not None, the resulting Series is reindexed with the index values.\n",
              "dtype : str, numpy.dtype, or ExtensionDtype, optional\n",
              "    Data type for the output Series. If not specified, this will be\n",
              "    inferred from `data`.\n",
              "    See the :ref:`user guide &lt;basics.dtypes&gt;` for more usages.\n",
              "name : str, optional\n",
              "    The name to give to the Series.\n",
              "copy : bool, default False\n",
              "    Copy input data. Only affects Series or 1d ndarray input. See examples.\n",
              "\n",
              "Notes\n",
              "-----\n",
              "Please reference the :ref:`User Guide &lt;basics.series&gt;` for more information.\n",
              "\n",
              "Examples\n",
              "--------\n",
              "Constructing Series from a dictionary with an Index specified\n",
              "\n",
              "&gt;&gt;&gt; d = {&#x27;a&#x27;: 1, &#x27;b&#x27;: 2, &#x27;c&#x27;: 3}\n",
              "&gt;&gt;&gt; ser = pd.Series(data=d, index=[&#x27;a&#x27;, &#x27;b&#x27;, &#x27;c&#x27;])\n",
              "&gt;&gt;&gt; ser\n",
              "a   1\n",
              "b   2\n",
              "c   3\n",
              "dtype: int64\n",
              "\n",
              "The keys of the dictionary match with the Index values, hence the Index\n",
              "values have no effect.\n",
              "\n",
              "&gt;&gt;&gt; d = {&#x27;a&#x27;: 1, &#x27;b&#x27;: 2, &#x27;c&#x27;: 3}\n",
              "&gt;&gt;&gt; ser = pd.Series(data=d, index=[&#x27;x&#x27;, &#x27;y&#x27;, &#x27;z&#x27;])\n",
              "&gt;&gt;&gt; ser\n",
              "x   NaN\n",
              "y   NaN\n",
              "z   NaN\n",
              "dtype: float64\n",
              "\n",
              "Note that the Index is first build with the keys from the dictionary.\n",
              "After this the Series is reindexed with the given Index values, hence we\n",
              "get all NaN as a result.\n",
              "\n",
              "Constructing Series from a list with `copy=False`.\n",
              "\n",
              "&gt;&gt;&gt; r = [1, 2]\n",
              "&gt;&gt;&gt; ser = pd.Series(r, copy=False)\n",
              "&gt;&gt;&gt; ser.iloc[0] = 999\n",
              "&gt;&gt;&gt; r\n",
              "[1, 2]\n",
              "&gt;&gt;&gt; ser\n",
              "0    999\n",
              "1      2\n",
              "dtype: int64\n",
              "\n",
              "Due to input data type the Series has a `copy` of\n",
              "the original data even though `copy=False`, so\n",
              "the data is unchanged.\n",
              "\n",
              "Constructing Series from a 1d ndarray with `copy=False`.\n",
              "\n",
              "&gt;&gt;&gt; r = np.array([1, 2])\n",
              "&gt;&gt;&gt; ser = pd.Series(r, copy=False)\n",
              "&gt;&gt;&gt; ser.iloc[0] = 999\n",
              "&gt;&gt;&gt; r\n",
              "array([999,   2])\n",
              "&gt;&gt;&gt; ser\n",
              "0    999\n",
              "1      2\n",
              "dtype: int64\n",
              "\n",
              "Due to input data type the Series has a `view` on\n",
              "the original data, so\n",
              "the data is changed as well.</pre>\n",
              "      <script>\n",
              "      if (google.colab.kernel.accessAllowed && google.colab.files && google.colab.files.view) {\n",
              "        for (const element of document.querySelectorAll('.filepath')) {\n",
              "          element.style.display = 'block'\n",
              "          element.onclick = (event) => {\n",
              "            event.preventDefault();\n",
              "            event.stopPropagation();\n",
              "            google.colab.files.view(element.textContent, 216);\n",
              "          };\n",
              "        }\n",
              "      }\n",
              "      for (const element of document.querySelectorAll('.function-repr-contents')) {\n",
              "        element.onclick = (event) => {\n",
              "          event.preventDefault();\n",
              "          event.stopPropagation();\n",
              "          element.classList.toggle('function-repr-contents-collapsed');\n",
              "        };\n",
              "      }\n",
              "      </script>\n",
              "      </div>"
            ]
          },
          "metadata": {},
          "execution_count": 46
        }
      ]
    },
    {
      "cell_type": "markdown",
      "source": [
        "## Part A (Neural Network in PyTorch Using Sparse Embeddings)"
      ],
      "metadata": {
        "id": "Q5MRdtZXZt5G"
      }
    },
    {
      "cell_type": "code",
      "source": [
        "max_features = 5000\n",
        "tfidf_vectorizer = TfidfVectorizer(max_features=max_features)\n",
        "X_train_fit = tfidf_vectorizer.fit_transform(X_train)\n",
        "X_valid_fit = tfidf_vectorizer.transform(X_valid)\n",
        "X_test_fit = tfidf_vectorizer.transform(X_test)"
      ],
      "metadata": {
        "id": "8iC-_rthxtx4"
      },
      "execution_count": 47,
      "outputs": []
    },
    {
      "cell_type": "code",
      "source": [
        "X_train_fit = torch.tensor(X_train_fit.toarray())\n",
        "X_valid_fit = torch.tensor(X_valid_fit.toarray())\n",
        "X_test_fit = torch.tensor(X_test_fit.toarray())"
      ],
      "metadata": {
        "id": "zYNqWIyb_Ia_"
      },
      "execution_count": 48,
      "outputs": []
    },
    {
      "cell_type": "markdown",
      "source": [
        "### create customdataset class"
      ],
      "metadata": {
        "id": "FAbOjv02lGmQ"
      }
    },
    {
      "cell_type": "code",
      "source": [
        "class CustomDataset(torch.utils.data.Dataset):\n",
        "    \"\"\"\n",
        "    Custom Dataset class for loading IMDB reviews and labels.\n",
        "\n",
        "    Attributes:\n",
        "        X (numpy.ndarray): Feature data, an array of texts.\n",
        "        y (list or array-like): Target labels.\n",
        "    \"\"\"\n",
        "\n",
        "    def __init__(self, X, y):\n",
        "        \"\"\"\n",
        "        Initialize the dataset with feature and target data.\n",
        "\n",
        "        Args:\n",
        "            X (list or array-like): The feature data (texts).\n",
        "            y (list or array-like): The target labels.\n",
        "        \"\"\"\n",
        "        # Storing feature data (texts)\n",
        "        self.X = X\n",
        "\n",
        "        # Storing the target labels\n",
        "        self.y =y\n",
        "\n",
        "    def __len__(self):\n",
        "        \"\"\"\n",
        "        Return the number of samples in the dataset.\n",
        "\n",
        "        Returns:\n",
        "            int: The total number of samples.\n",
        "        \"\"\"\n",
        "        return len(self.X)\n",
        "\n",
        "    def __getitem__(self, idx):\n",
        "        \"\"\"\n",
        "        Fetch and return a single sample from the dataset at the given index.\n",
        "\n",
        "        Args:\n",
        "            idx (int): Index of the sample to fetch.\n",
        "\n",
        "        Returns:\n",
        "            tuple: A tuple containing the label and the text for the sample.\n",
        "        \"\"\"\n",
        "        # Retrieve the text and corresponding label from the dataset using the index\n",
        "        texts = self.X[idx]\n",
        "        labels = self.y[idx]\n",
        "\n",
        "        sample = (texts, labels)\n",
        "\n",
        "        return sample"
      ],
      "metadata": {
        "id": "N37JoXm4lGHf"
      },
      "execution_count": 49,
      "outputs": []
    },
    {
      "cell_type": "code",
      "source": [
        "# Create an instance of the CustomDataset class for the training set\n",
        "# This uses the cleaned training data and corresponding labels\n",
        "trainset = CustomDataset(X_train_fit, y_train.astype(float))\n",
        "\n",
        "# Create an instance of the CustomDataset class for the validation set\n",
        "# This uses the cleaned validation data and corresponding labels\n",
        "validset = CustomDataset(X_valid_fit, y_valid.astype(float))\n",
        "\n",
        "# Create an instance of the CustomDataset class for the test set\n",
        "# This uses the cleaned test data and corresponding labels\n",
        "testset = CustomDataset(X_test_fit, y_test.astype(float))"
      ],
      "metadata": {
        "id": "auvlT1vqS_Z4"
      },
      "execution_count": 50,
      "outputs": []
    },
    {
      "cell_type": "code",
      "source": [
        "# check the shape of the tensor\n",
        "trainset"
      ],
      "metadata": {
        "colab": {
          "base_uri": "https://localhost:8080/"
        },
        "id": "tjKBAbnLTNWh",
        "outputId": "f03289c9-3c73-4759-bd70-bc7a83e68185"
      },
      "execution_count": 51,
      "outputs": [
        {
          "output_type": "execute_result",
          "data": {
            "text/plain": [
              "<__main__.CustomDataset at 0x78421b7957b0>"
            ]
          },
          "metadata": {},
          "execution_count": 51
        }
      ]
    },
    {
      "cell_type": "code",
      "source": [
        "trainset[:][1]"
      ],
      "metadata": {
        "colab": {
          "base_uri": "https://localhost:8080/"
        },
        "id": "qSgVEEsUUd_W",
        "outputId": "2e9912fd-9a15-49d9-9e99-7240d3e3fb4b"
      },
      "execution_count": 52,
      "outputs": [
        {
          "output_type": "execute_result",
          "data": {
            "text/plain": [
              "array([[0., 0., 1., ..., 0., 0., 0.],\n",
              "       [1., 0., 0., ..., 0., 0., 1.],\n",
              "       [0., 0., 1., ..., 0., 0., 0.],\n",
              "       ...,\n",
              "       [0., 0., 0., ..., 0., 0., 1.],\n",
              "       [1., 0., 0., ..., 0., 0., 0.],\n",
              "       [0., 0., 0., ..., 0., 0., 1.]])"
            ]
          },
          "metadata": {},
          "execution_count": 52
        }
      ]
    },
    {
      "cell_type": "markdown",
      "source": [
        "### check Data Loaders"
      ],
      "metadata": {
        "id": "eRt77wfv739s"
      }
    },
    {
      "cell_type": "code",
      "source": [
        "batch_size = 2\n",
        "check_loader = torch.utils.data.DataLoader(dataset=trainset,\n",
        "                                           batch_size=batch_size,\n",
        "                                           shuffle=True)"
      ],
      "metadata": {
        "id": "qhJ28RIQ7_-a"
      },
      "execution_count": 53,
      "outputs": []
    },
    {
      "cell_type": "markdown",
      "source": [
        "### Tokenizer"
      ],
      "metadata": {
        "id": "jh7rM1O2OC5y"
      }
    },
    {
      "cell_type": "code",
      "source": [
        "# Creating a function that will be used to get the indices of words from vocab\n",
        "# def tokenizer(x, vocab):\n",
        "#     \"\"\"Converts text to a list of indices using a vocabulary dictionary\"\"\"\n",
        "#     return [vocab[token] for token in x.split()]"
      ],
      "metadata": {
        "id": "8BEbcbFwOakp"
      },
      "execution_count": 54,
      "outputs": []
    },
    {
      "cell_type": "markdown",
      "source": [
        "### Create simpleMLP model as defied in homework."
      ],
      "metadata": {
        "id": "upZWjwP2cfWN"
      }
    },
    {
      "cell_type": "code",
      "source": [
        "class SimpleMLP(nn.Module):\n",
        "    def __init__(self, max_features, hidden_dim1, hidden_dim2, drop_prob1, drop_prob2, num_outputs):\n",
        "        super().__init__()\n",
        "\n",
        "        # Tf-IDF_layer->Linear <hidden_layer>->ReLU->Dropout->Batchnorm ->Linear<hidden_layer>->ReLU->Dropout->BatchNorm->Linear(output)\n",
        "\n",
        "        # TF-idf layer\n",
        "        # self.tfidf_vectorizer = TfidfVectorizer(max_features=max_features)\n",
        "\n",
        "        # First Linear layer\n",
        "        self.linear1 = nn.Linear(max_features, hidden_dim1)\n",
        "        # Batch normalization for first linear layer\n",
        "        self.batchnorm1 = nn.BatchNorm1d(num_features=hidden_dim1)\n",
        "        # Dropout for first linear layer\n",
        "        self.dropout1 = nn.Dropout(p=drop_prob1)\n",
        "\n",
        "        # Second Linear layer\n",
        "        self.linear2 = nn.Linear(hidden_dim1, hidden_dim2)\n",
        "        # Batch normalization for second linear layer\n",
        "        self.batchnorm2 = nn.BatchNorm1d(num_features=hidden_dim2)\n",
        "        # Dropout for second linear layer\n",
        "        self.dropout2 = nn.Dropout(p=drop_prob2)\n",
        "\n",
        "        # Final Linear layer\n",
        "        self.linear3 = nn.Linear(hidden_dim2, num_outputs)\n",
        "\n",
        "    def forward(self, x):\n",
        "\n",
        "        # First linear layer followed by ReLU,Dropout and BatchNorm\n",
        "        x = self.linear1(x)\n",
        "        x = nn.ReLU()(x)\n",
        "        x = self.dropout1(x)\n",
        "        x = self.batchnorm1(x)\n",
        "\n",
        "        # Second linear layer followed by ReLU, Dropout and BatchNorm\n",
        "        x = self.linear2(x)\n",
        "        x = nn.ReLU()(x)\n",
        "        x = self.dropout2(x)\n",
        "        x = self.batchnorm2(x)\n",
        "\n",
        "        # Final linear layer\n",
        "        x = self.linear3(x)\n",
        "\n",
        "        return x"
      ],
      "metadata": {
        "id": "YVn_ZgvHZzn8"
      },
      "execution_count": 55,
      "outputs": []
    },
    {
      "cell_type": "markdown",
      "source": [
        "### Functions to train and evaluate Models"
      ],
      "metadata": {
        "id": "_zaR_VGkcZKN"
      }
    },
    {
      "cell_type": "markdown",
      "source": [
        "#### Step Function"
      ],
      "metadata": {
        "id": "fiyT4UxKJ42I"
      }
    },
    {
      "cell_type": "code",
      "source": [
        "def step(inputs, targets, model, device, loss_function=None, optimizer=None, clip_value = None):\n",
        "    \"\"\"\n",
        "    Performs a forward and backward pass for a given batch of inputs and targets.\n",
        "\n",
        "    Parameters:\n",
        "    - inputs (torch.Tensor): The input data for the model.\n",
        "    - targets (torch.Tensor): The true labels for the input data.\n",
        "    - model (torch.nn.Module): The neural network model.\n",
        "    - device (torch.device): The computing device (CPU or GPU).\n",
        "    - loss_function (torch.nn.Module, optional): The loss function to use.\n",
        "    - optimizer (torch.optim.Optimizer, optional): The optimizer to update model parameters.\n",
        "\n",
        "    Returns:\n",
        "    - loss (float): The computed loss value (only if loss_function is not None).\n",
        "    - outputs (torch.Tensor): The predictions from the model.\n",
        "    - correct (int): The number of correctly classified samples in the batch.\n",
        "    \"\"\"\n",
        "\n",
        "    # Move the model and data to the device\n",
        "    model = model.to(device)\n",
        "    inputs = inputs.to(device).float()\n",
        "    targets = targets.to(device)\n",
        "\n",
        "    # Step 1: Forward pass to get the model's predictions\n",
        "    outputs = model(inputs)\n",
        "\n",
        "    # Step 2a: Compute the loss using the provided loss function\n",
        "    if loss_function:\n",
        "        loss = loss_function(outputs, targets.float())\n",
        "\n",
        "    # Step 2b: Calculate the Hamming distance\n",
        "\n",
        "\n",
        "    # predicted = torch.argmax(outputs.data, 1)\n",
        "    # correct = (predicted == targets).sum().item()\n",
        "    predicted = (outputs > 0.5).float()\n",
        "\n",
        "    # Step 3 and 4: Perform backward pass and update model parameters if an optimizer is provided\n",
        "    if optimizer:\n",
        "        optimizer.zero_grad()\n",
        "        loss.backward()\n",
        "        clip_grad_value_(model.parameters(), clip_value=CLIP_VALUE)\n",
        "        optimizer.step()\n",
        "\n",
        "    # Return relevant metrics\n",
        "    if loss_function:\n",
        "        return loss, outputs, predicted\n",
        "    else:\n",
        "        return None, outputs, predicted"
      ],
      "metadata": {
        "id": "N3cCjttGJ3Ee"
      },
      "execution_count": 56,
      "outputs": []
    },
    {
      "cell_type": "markdown",
      "source": [
        "#### Train_Epoch()"
      ],
      "metadata": {
        "id": "UzhdlNMNKBoa"
      }
    },
    {
      "cell_type": "code",
      "source": [
        "def train_epoch(train_loader, model, device, loss_function, optimizer):\n",
        "    \"\"\"\n",
        "    Trains the model for one epoch using the provided data loader and updates the model parameters.\n",
        "\n",
        "    Parameters:\n",
        "    - train_loader (torch.utils.data.DataLoader): DataLoader object for the training set.\n",
        "    - model (torch.nn.Module): The neural network model to be trained.\n",
        "    - device (torch.device): The computing device (CPU or GPU).\n",
        "    - loss_function (torch.nn.Module): The loss function to use for training.\n",
        "    - optimizer (torch.optim.Optimizer): The optimizer to update model parameters.\n",
        "\n",
        "    Returns:\n",
        "    - train_loss (float): Average training loss for the epoch.\n",
        "    - train_acc (float): Training accuracy for the epoch.\n",
        "    \"\"\"\n",
        "\n",
        "    train_hamming_distance = HammingDistance(task=\"multilabel\", num_labels=10).to(device)\n",
        "    # Set the model to training mode\n",
        "    model.train()\n",
        "\n",
        "    # Initialize variables to track running training loss and correct predictions\n",
        "    running_train_loss = 0.0\n",
        "\n",
        "    # Iterate over all batches in the training data\n",
        "    for inputs, targets in train_loader:\n",
        "        # Perform a forward and backward pass, updating model parameters\n",
        "        loss, _, predict = step(inputs, targets, model, device, loss_function, optimizer)\n",
        "\n",
        "        # Update running loss and correct predictions counter\n",
        "        running_train_loss += loss.item()\n",
        "        train_hamming_distance.update(predict, targets)\n",
        "\n",
        "\n",
        "    # Compute average loss and accuracy for the entire training set\n",
        "    train_loss = running_train_loss / len(train_loader)\n",
        "    hamming_dist = train_hamming_distance.compute()\n",
        "\n",
        "    return train_loss, hamming_dist"
      ],
      "metadata": {
        "id": "eP3MXn2BKATB"
      },
      "execution_count": 57,
      "outputs": []
    },
    {
      "cell_type": "markdown",
      "source": [
        "#### val_epoch()"
      ],
      "metadata": {
        "id": "WEqcZmJpKIxV"
      }
    },
    {
      "cell_type": "code",
      "source": [
        "def val_epoch(valid_loader, model, device, loss_function):\n",
        "    \"\"\"\n",
        "    Validates the model for one epoch using the provided data loader.\n",
        "\n",
        "    Parameters:\n",
        "    - valid_loader (torch.utils.data.DataLoader): DataLoader object for the validation set.\n",
        "    - model (torch.nn.Module): The neural network model to be validated.\n",
        "    - device (torch.device): The computing device (CPU or GPU).\n",
        "    - loss_function (torch.nn.Module): The loss function to evaluate the model.\n",
        "\n",
        "    Returns:\n",
        "    - val_loss (float): Average validation loss for the epoch.\n",
        "    - val_acc (float): Validation accuracy for the epoch.\n",
        "    \"\"\"\n",
        "    val_hamming_distance = HammingDistance(task=\"multilabel\", num_labels=10).to(device)\n",
        "\n",
        "    # Set the model to evaluation mode\n",
        "    model.eval()\n",
        "\n",
        "    # Initialize variables to track running validation loss and correct predictions\n",
        "    running_val_loss = 0.0\n",
        "\n",
        "    # Disable gradient computation\n",
        "    with torch.no_grad():\n",
        "        # Iterate over all batches in the validation data\n",
        "        for inputs, targets in valid_loader:\n",
        "            # Perform a forward pass to get loss and number of correct predictions\n",
        "            loss,_, predict = step(inputs, targets, model, device, loss_function, optimizer=None)\n",
        "\n",
        "            # Update running loss and correct predictions counter\n",
        "            running_val_loss += loss.item()\n",
        "            val_hamming_distance.update(predict, targets)\n",
        "\n",
        "    # Compute average loss and accuracy for the entire validation set\n",
        "    val_loss = running_val_loss / len(valid_loader)\n",
        "    hamming_dist = val_hamming_distance.compute()\n",
        "\n",
        "    return val_loss, hamming_dist"
      ],
      "metadata": {
        "id": "dmKb3U5CKIGh"
      },
      "execution_count": 58,
      "outputs": []
    },
    {
      "cell_type": "markdown",
      "source": [
        "#### train() function"
      ],
      "metadata": {
        "id": "ON8Aqe7CKUpO"
      }
    },
    {
      "cell_type": "code",
      "source": [
        "def train(train_loader, valid_loader, model, optimizer, loss_function, epochs, device, patience):\n",
        "    \"\"\"\n",
        "    Trains and validates the model, and returns history of train and validation metrics.\n",
        "\n",
        "    Parameters:\n",
        "    - train_loader (torch.utils.data.DataLoader): DataLoader for the training set.\n",
        "    - valid_loader (torch.utils.data.DataLoader): DataLoader for the validation set.\n",
        "    - model (torch.nn.Module): Neural network model to train.\n",
        "    - optimizer (torch.optim.Optimizer): Optimizer algorithm.\n",
        "    - loss_function (torch.nn.Module): Loss function to evaluate the model.\n",
        "    - epochs (int): Number of epochs to train the model.\n",
        "    - device (torch.device): The computing device (CPU or GPU).\n",
        "\n",
        "    Returns:\n",
        "    - train_loss_history (list): History of training loss for each epoch.\n",
        "    - train_acc_history (list): History of training accuracy for each epoch.\n",
        "    - valid_loss_history (list): History of validation loss for each epoch.\n",
        "    - valid_acc_history (list): History of validation accuracy for each epoch.\n",
        "    \"\"\"\n",
        "\n",
        "    # Initialize lists to store metrics for each epoch\n",
        "    train_loss_history = []\n",
        "    valid_loss_history = []\n",
        "    train_hamm_history = []\n",
        "    valid_hamm_history = []\n",
        "\n",
        "    # Initialize variables for early stopping\n",
        "    best_valid_loss = float('inf')\n",
        "    current_patience = 0\n",
        "\n",
        "    # Loop over the number of specified epochs\n",
        "    for epoch in range(epochs):\n",
        "        # Train model on training data and capture metrics\n",
        "        train_loss, train_hamm = train_epoch(train_loader, model, device, loss_function, optimizer)\n",
        "\n",
        "        # Validate model on validation data and capture metrics\n",
        "        valid_loss, valid_hamm = val_epoch(valid_loader, model, device, loss_function)\n",
        "\n",
        "        # Store metrics for this epoch\n",
        "        train_loss_history.append(train_loss)\n",
        "        train_hamm_history.append(train_hamm)\n",
        "        valid_loss_history.append(valid_loss)\n",
        "        valid_hamm_history.append(valid_hamm)\n",
        "\n",
        "        # Output epoch-level summary\n",
        "        print(f\"Epoch {epoch+1}/{epochs}\")\n",
        "        print(f\"Train Loss: {train_loss:.4f} | Train hamming distance: {train_hamm}\")\n",
        "        print(f\"Valid Loss: {valid_loss:.4f} | Valid hamming distance: {valid_hamm}\")\n",
        "        print()\n",
        "\n",
        "        if valid_loss < best_valid_loss:\n",
        "            best_valid_loss = valid_loss\n",
        "            current_patience = 0  # Reset patience counter since validation loss improved\n",
        "        else:\n",
        "            current_patience += 1  # Increment patience counter\n",
        "\n",
        "        # Check for early stopping\n",
        "        if current_patience >= patience:\n",
        "            print(f'Early stopping after {epoch + 1} epochs.')\n",
        "            break\n",
        "\n",
        "    return train_loss_history, train_hamm_history, valid_loss_history, valid_hamm_history"
      ],
      "metadata": {
        "id": "6o90ZEvQKNQq"
      },
      "execution_count": 59,
      "outputs": []
    },
    {
      "cell_type": "markdown",
      "source": [
        "### Train"
      ],
      "metadata": {
        "id": "TC4mc0MDL0vM"
      }
    },
    {
      "cell_type": "markdown",
      "source": [
        "#### Hyperparameters"
      ],
      "metadata": {
        "id": "Zx1AYY75L59C"
      }
    },
    {
      "cell_type": "code",
      "source": [
        "# model Parameters\n",
        "\n",
        "MAX_FEATURES=5000\n",
        "HIDDEN_DIM1=200\n",
        "HIDDEN_DIM2=100\n",
        "DROP_PROB1=0.5\n",
        "DROP_PROB2=0.5\n",
        "NUM_OUTPUTS=10\n",
        "\n",
        "# training\n",
        "EPOCHS=5\n",
        "BATCH_SIZE=128\n",
        "LEARNING_RATE=0.001\n",
        "WEIGHT_DECAY=0.000\n",
        "CLIP_TYPE = 'Value'\n",
        "CLIP_VALUE = 10\n",
        "PATIENCE = 5"
      ],
      "metadata": {
        "id": "b-IO_YwPKaB2"
      },
      "execution_count": 60,
      "outputs": []
    },
    {
      "cell_type": "markdown",
      "source": [
        "#### Training Configuration"
      ],
      "metadata": {
        "id": "qRgODPoSPzy4"
      }
    },
    {
      "cell_type": "code",
      "source": [
        "# Fixing the seed value for reproducibility across runs\n",
        "SEED = 2345\n",
        "random.seed(SEED)                     # Set seed for Python's 'random' module\n",
        "np.random.seed(SEED)                  # Set seed for NumPy's random number generation\n",
        "torch.manual_seed(SEED)               # Set seed for PyTorch's CPU operations\n",
        "torch.cuda.manual_seed(SEED)          # Set seed for PyTorch's CUDA (GPU) operations\n",
        "torch.backends.cudnn.deterministic = True  # Ensure deterministic behavior in CuDNN\n",
        "\n",
        "# Data Loaders for training, validation, and test sets\n",
        "# These loaders handle batching, shuffling, and data processing using the custom collate function\n",
        "train_loader = torch.utils.data.DataLoader(trainset, batch_size = BATCH_SIZE, shuffle=True, num_workers=2)\n",
        "valid_loader = torch.utils.data.DataLoader(validset, batch_size=BATCH_SIZE, shuffle=False, num_workers=2)\n",
        "test_loader = torch.utils.data.DataLoader(testset, batch_size=BATCH_SIZE, shuffle=False, num_workers=2)\n",
        "\n",
        "# Define the loss function for the model, using cross-entropy loss\n",
        "loss_function = nn.BCEWithLogitsLoss()\n",
        "\n",
        "# Define the model with specified hyperparameters\n",
        "model_df = SimpleMLP(max_features = MAX_FEATURES ,\n",
        "                       hidden_dim1=HIDDEN_DIM1,\n",
        "                       hidden_dim2=HIDDEN_DIM2,\n",
        "                       drop_prob1=DROP_PROB1,\n",
        "                       drop_prob2=DROP_PROB2,\n",
        "                       num_outputs=NUM_OUTPUTS)\n",
        "\n",
        "# Initialize the optimizer for training, using AdamW optimizer with specified learning rate\n",
        "optimizer = torch.optim.AdamW(model_df.parameters(), lr=LEARNING_RATE,  weight_decay = WEIGHT_DECAY)\n",
        "\n",
        "# Define the device for model training (use CUDA if available, else CPU)\n",
        "device = torch.device('cuda:0' if torch.cuda.is_available() else 'cpu')"
      ],
      "metadata": {
        "id": "d-tT53akPypY"
      },
      "execution_count": 61,
      "outputs": []
    },
    {
      "cell_type": "markdown",
      "source": [
        "#### Sanity Check"
      ],
      "metadata": {
        "id": "7aG1BlGmXKzW"
      }
    },
    {
      "cell_type": "code",
      "source": [
        "for inputs_, targets in train_loader:\n",
        "    # Move inputs and targets to the CPU.\n",
        "    inputs_ = inputs_.to(device).float()\n",
        "    targets = targets.to(device)\n",
        "    model_df = model_df.to(device)\n",
        "\n",
        "    model_df.eval()\n",
        "    # Forward pass\n",
        "    with torch.no_grad():  # Ensure no gradients are calculated since this is evaluation.\n",
        "        output = model_df(inputs_)\n",
        "        loss = loss_function(output, targets)\n",
        "        print(f'Actual loss: {loss.item()}')\n",
        "    break\n",
        "\n",
        "print(f'Expected Theoretical loss: {np.log(2)}')"
      ],
      "metadata": {
        "id": "FdNH2EWXW-4l",
        "colab": {
          "base_uri": "https://localhost:8080/"
        },
        "outputId": "b82eac65-a7f0-4cc7-8c6b-4af5bfad7d4d"
      },
      "execution_count": 62,
      "outputs": [
        {
          "output_type": "stream",
          "name": "stdout",
          "text": [
            "Actual loss: 0.6772316132381093\n",
            "Expected Theoretical loss: 0.6931471805599453\n"
          ]
        }
      ]
    },
    {
      "cell_type": "markdown",
      "source": [
        "#### Training"
      ],
      "metadata": {
        "id": "lv9DUHECc8GR"
      }
    },
    {
      "cell_type": "code",
      "source": [
        "# Call the train function to train the model\n",
        "train_losses, train_hamm, valid_losses, valid_hamm = train(\n",
        "    train_loader, valid_loader, model_df, optimizer, loss_function, EPOCHS, device, PATIENCE)\n",
        "\n"
      ],
      "metadata": {
        "id": "wDGNQFRUJwWV",
        "colab": {
          "base_uri": "https://localhost:8080/"
        },
        "outputId": "1748011b-36af-45f6-af50-fb31b1ef05a8"
      },
      "execution_count": 63,
      "outputs": [
        {
          "output_type": "stream",
          "name": "stdout",
          "text": [
            "Epoch 1/5\n",
            "Train Loss: 0.3455 | Train hamming distance: 0.08903217315673828\n",
            "Valid Loss: 0.1431 | Valid hamming distance: 0.05051136016845703\n",
            "\n",
            "Epoch 2/5\n",
            "Train Loss: 0.1357 | Train hamming distance: 0.049560725688934326\n",
            "Valid Loss: 0.1169 | Valid hamming distance: 0.043489694595336914\n",
            "\n",
            "Epoch 3/5\n",
            "Train Loss: 0.1081 | Train hamming distance: 0.04064518213272095\n",
            "Valid Loss: 0.1104 | Valid hamming distance: 0.04094886779785156\n",
            "\n",
            "Epoch 4/5\n",
            "Train Loss: 0.0926 | Train hamming distance: 0.03512793779373169\n",
            "Valid Loss: 0.1087 | Valid hamming distance: 0.04007381200790405\n",
            "\n",
            "Epoch 5/5\n",
            "Train Loss: 0.0829 | Train hamming distance: 0.03119903802871704\n",
            "Valid Loss: 0.1069 | Valid hamming distance: 0.03840804100036621\n",
            "\n"
          ]
        }
      ]
    },
    {
      "cell_type": "code",
      "source": [
        "# # Iterate over each tensor in the list and move them to CPU\n",
        "# train_acc = [acc.cpu() for acc in train_acc]\n",
        "# valid_acc = [acc.cpu() for acc in valid_acc]"
      ],
      "metadata": {
        "id": "4D9aVm7KuzFR"
      },
      "execution_count": 64,
      "outputs": []
    },
    {
      "cell_type": "markdown",
      "source": [
        "### Plot losses and metrics"
      ],
      "metadata": {
        "id": "rXmEjJ4pv8U8"
      }
    },
    {
      "cell_type": "code",
      "source": [
        "def plot_history(train_losses, train_metrics, val_losses=None, val_metrics=None):\n",
        "    \"\"\"\n",
        "    Plot training and validation loss and metrics over epochs.\n",
        "\n",
        "    Args:\n",
        "        train_losses (list): List of training losses for each epoch.\n",
        "        train_metrics (list): List of training metrics (e.g., accuracy) for each epoch.\n",
        "        val_losses (list, optional): List of validation losses for each epoch.\n",
        "        val_metrics (list, optional): List of validation metrics for each epoch.\n",
        "\n",
        "    Returns:\n",
        "        None\n",
        "    \"\"\"\n",
        "    # Determine the number of epochs based on the length of train_losses\n",
        "    epochs = range(1, len(train_losses) + 1)\n",
        "\n",
        "    # Plotting training and validation losses\n",
        "    plt.figure()\n",
        "    plt.plot(epochs, train_losses, label=\"Train\")  # Plot training losses\n",
        "    if val_losses:  # Check if validation losses are provided\n",
        "        plt.plot(epochs, val_losses, label=\"Validation\")  # Plot validation losses\n",
        "    plt.xlabel(\"Epochs\")\n",
        "    plt.ylabel(\"Loss\")\n",
        "    plt.legend()\n",
        "    plt.show()\n",
        "\n",
        "    # Plotting training and validation metrics\n",
        "    if train_metrics[0] is not None:  # Check if training metrics are available\n",
        "        plt.figure()\n",
        "        plt.plot(epochs, train_metrics, label=\"Train\")  # Plot training metrics\n",
        "        if val_metrics:  # Check if validation metrics are provided\n",
        "            plt.plot(epochs, val_metrics, label=\"Validation\")  # Plot validation metrics\n",
        "        plt.xlabel(\"Epochs\")\n",
        "        plt.ylabel(\"Metric\")\n",
        "        plt.legend()\n",
        "        plt.show()"
      ],
      "metadata": {
        "id": "fRMO98S_p2fB"
      },
      "execution_count": 65,
      "outputs": []
    },
    {
      "cell_type": "code",
      "source": [
        "plot_history(train_losses, train_hamm, valid_losses, valid_hamm)"
      ],
      "metadata": {
        "id": "Jt74nlfowKHR",
        "colab": {
          "base_uri": "https://localhost:8080/",
          "height": 881
        },
        "outputId": "b233d025-fc64-4fc6-98e6-ccd7492ce7f2"
      },
      "execution_count": 66,
      "outputs": [
        {
          "output_type": "display_data",
          "data": {
            "text/plain": [
              "<Figure size 640x480 with 1 Axes>"
            ],
            "image/png": "[encoded data removed]"
          },
          "metadata": {}
        },
        {
          "output_type": "display_data",
          "data": {
            "text/plain": [
              "<Figure size 640x480 with 1 Axes>"
            ],
            "image/png": "[encoded data removed]"
          },
          "metadata": {}
        }
      ]
    },
    {
      "cell_type": "markdown",
      "source": [
        "### Model checkpointing"
      ],
      "metadata": {
        "id": "HKQrOhtcvmSa"
      }
    },
    {
      "cell_type": "code",
      "source": [
        "# Get the current timestamp in the format \"YYYY-MM-DD_HH-MM-SS\"\n",
        "timestamp = datetime.now().strftime(\"%Y-%m-%d_%H-%M-%S\")\n",
        "\n",
        "# Define a suffix for the file name\n",
        "suffix = 'hw4_b'\n",
        "\n",
        "# Combine the timestamp and suffix to create the file path\n",
        "path = model_folder / f'{timestamp}_{suffix}.pt'\n",
        "path"
      ],
      "metadata": {
        "id": "P6ZbErdhvcoI",
        "colab": {
          "base_uri": "https://localhost:8080/"
        },
        "outputId": "1d2a70a1-332f-4c4a-88ea-e288cf4e2341"
      },
      "execution_count": 67,
      "outputs": [
        {
          "output_type": "execute_result",
          "data": {
            "text/plain": [
              "PosixPath('/content/drive/MyDrive/NLP/Data_Folder/Models/Multilabel/2024-03-04_05-50-48_hw4_b.pt')"
            ]
          },
          "metadata": {},
          "execution_count": 67
        }
      ]
    },
    {
      "cell_type": "code",
      "source": [
        "# Save the model's state dictionary to the specified file path\n",
        "torch.save(model_df.state_dict(), path)\n"
      ],
      "metadata": {
        "id": "juxVtCCZvrjo"
      },
      "execution_count": 68,
      "outputs": []
    },
    {
      "cell_type": "markdown",
      "source": [
        "### Confusion Matrix\n",
        "\n",
        "For detailed understanding of the performance of the model"
      ],
      "metadata": {
        "id": "N0dZx0pwwCWP"
      }
    },
    {
      "cell_type": "code",
      "source": [
        "def get_acc_pred(data_loader, model, device):\n",
        "    \"\"\"\n",
        "    Function to get predictions and accuracy for a given data using a trained model\n",
        "    Input: data iterator, model, device\n",
        "    Output: predictions and accuracy for the given dataset\n",
        "    \"\"\"\n",
        "    train_hamming_distance = HammingDistance(task = \"multilabel\", num_labels = 10).to(device)\n",
        "    # Create empty tensors to store predictions and actual labels\n",
        "    predictions = torch.Tensor().to(device)\n",
        "    y = torch.Tensor().to(device)\n",
        "    model = model.to(device)\n",
        "\n",
        "   # Set model to evaluation mode\n",
        "    model.eval()\n",
        "\n",
        "\n",
        "    running_correct = 0\n",
        "    # Iterate over batches from data iterator\n",
        "    with torch.no_grad():\n",
        "        for inputs, targets in data_loader:\n",
        "            # Process the batch to get the loss, outputs, and correct predictions\n",
        "            inputs = inputs.to(device)\n",
        "            targets = targets.to(device)\n",
        "            _, outputs,_ = step(inputs, targets, model,\n",
        "                              device, loss_function=None, optimizer=None)\n",
        "\n",
        "            # Choose the label with maximum probability\n",
        "            # Choose the label with maximum probability\n",
        "            y_pred = (outputs > 0).float()\n",
        "\n",
        "            # Add the predicted labels and actual labels to their respective tensors\n",
        "            predictions = torch.cat((predictions, y_pred))\n",
        "            train_hamming_distance.update(y_pred, targets)\n",
        "            y = torch.cat((y, targets.to(device)))\n",
        "\n",
        "    # Calculate hamming distance by comparing the predicted and actual labels\n",
        "    hamming_distance = train_hamming_distance.compute()\n",
        "\n",
        "    # Return tuple containing predictions and accuracy\n",
        "    return predictions, y, hamming_distance"
      ],
      "metadata": {
        "id": "ZapLQdANvuMU"
      },
      "execution_count": 73,
      "outputs": []
    },
    {
      "cell_type": "code",
      "source": [
        "# Get the prediction and accuracy\n",
        "predictions_train, y_train, hamming_distance_train = get_acc_pred(train_loader, model_df,device)\n",
        "predictions_valid, y_valid, hamming_distance_valid = get_acc_pred(valid_loader, model_df,device)\n",
        "predictions_test, y_test, hamming_distance_test= get_acc_pred(test_loader, model_df, device)"
      ],
      "metadata": {
        "id": "G7Y_4_XCwJp-"
      },
      "execution_count": 74,
      "outputs": []
    },
    {
      "cell_type": "code",
      "source": [
        "# Print Hamming distance\n",
        "print('train hamming distance', hamming_distance_train)\n",
        "print('Valid hamming distance', hamming_distance_valid)\n",
        "print('test hamming distance', hamming_distance_test)"
      ],
      "metadata": {
        "id": "atefPMWywNZ3",
        "colab": {
          "base_uri": "https://localhost:8080/"
        },
        "outputId": "fbe48262-f7f8-4f80-efda-361b14d4c9b2"
      },
      "execution_count": 75,
      "outputs": [
        {
          "output_type": "stream",
          "name": "stdout",
          "text": [
            "train hamming distance tensor(0.0159)\n",
            "Valid hamming distance tensor(0.0374)\n",
            "test hamming distance tensor(0.0396)\n"
          ]
        }
      ]
    },
    {
      "cell_type": "code",
      "source": [
        "multilabel_confusion_matrix(y_true=y_train.cpu(), y_pred=predictions_train.cpu())"
      ],
      "metadata": {
        "id": "EUngDDRmwP1g",
        "colab": {
          "base_uri": "https://localhost:8080/"
        },
        "outputId": "a6ac237b-414e-414c-9cca-7744024a37e7"
      },
      "execution_count": 76,
      "outputs": [
        {
          "output_type": "execute_result",
          "data": {
            "text/plain": [
              "array([[[21916,   326],\n",
              "        [  614,  5600]],\n",
              "\n",
              "       [[23344,   110],\n",
              "        [  226,  4776]],\n",
              "\n",
              "       [[24954,    85],\n",
              "        [  395,  3022]],\n",
              "\n",
              "       [[11359,   617],\n",
              "        [  377, 16103]],\n",
              "\n",
              "       [[23818,    41],\n",
              "        [  125,  4472]],\n",
              "\n",
              "       [[13178,   202],\n",
              "        [  213, 14863]],\n",
              "\n",
              "       [[28008,    23],\n",
              "        [  379,    46]],\n",
              "\n",
              "       [[28124,     0],\n",
              "        [  174,   158]],\n",
              "\n",
              "       [[28273,     1],\n",
              "        [  135,    47]],\n",
              "\n",
              "       [[20733,   230],\n",
              "        [  257,  7236]]])"
            ]
          },
          "metadata": {},
          "execution_count": 76
        }
      ]
    },
    {
      "cell_type": "code",
      "source": [
        "multilabel_confusion_matrix(y_true=y_valid.cpu(), y_pred=predictions_valid.cpu())"
      ],
      "metadata": {
        "id": "KPU2t6mVwSQg",
        "colab": {
          "base_uri": "https://localhost:8080/"
        },
        "outputId": "1c0d261c-00ea-4fe0-8ecf-6ff77ab309db"
      },
      "execution_count": 77,
      "outputs": [
        {
          "output_type": "execute_result",
          "data": {
            "text/plain": [
              "array([[[7121,  250],\n",
              "        [ 380, 1734]],\n",
              "\n",
              "       [[7789,   77],\n",
              "        [ 151, 1468]],\n",
              "\n",
              "       [[8250,   72],\n",
              "        [ 337,  826]],\n",
              "\n",
              "       [[3517,  508],\n",
              "        [ 281, 5179]],\n",
              "\n",
              "       [[7960,   43],\n",
              "        [ 137, 1345]],\n",
              "\n",
              "       [[4155,  302],\n",
              "        [ 209, 4819]],\n",
              "\n",
              "       [[9312,    8],\n",
              "        [ 148,   17]],\n",
              "\n",
              "       [[9358,    2],\n",
              "        [  81,   44]],\n",
              "\n",
              "       [[9423,    1],\n",
              "        [  56,    5]],\n",
              "\n",
              "       [[6791,  223],\n",
              "        [ 281, 2190]]])"
            ]
          },
          "metadata": {},
          "execution_count": 77
        }
      ]
    },
    {
      "cell_type": "code",
      "source": [
        "multilabel_confusion_matrix(y_true=y_test.cpu(), y_pred=predictions_test.cpu())"
      ],
      "metadata": {
        "id": "BeULE4tQ4fm-",
        "colab": {
          "base_uri": "https://localhost:8080/"
        },
        "outputId": "0201b1a6-abee-4604-e1b8-24cadd7971d1"
      },
      "execution_count": 78,
      "outputs": [
        {
          "output_type": "execute_result",
          "data": {
            "text/plain": [
              "array([[[7085,  278],\n",
              "        [ 418, 1705]],\n",
              "\n",
              "       [[7726,   74],\n",
              "        [ 186, 1500]],\n",
              "\n",
              "       [[8237,   97],\n",
              "        [ 344,  808]],\n",
              "\n",
              "       [[3548,  521],\n",
              "        [ 259, 5158]],\n",
              "\n",
              "       [[7909,   49],\n",
              "        [ 153, 1375]],\n",
              "\n",
              "       [[4227,  325],\n",
              "        [ 238, 4696]],\n",
              "\n",
              "       [[9309,    8],\n",
              "        [ 159,   10]],\n",
              "\n",
              "       [[9354,    2],\n",
              "        [  82,   48]],\n",
              "\n",
              "       [[9414,    0],\n",
              "        [  60,   12]],\n",
              "\n",
              "       [[6774,  210],\n",
              "        [ 298, 2204]]])"
            ]
          },
          "metadata": {},
          "execution_count": 78
        }
      ]
    },
    {
      "cell_type": "markdown",
      "source": [
        "### Hamming distance of Test Data"
      ],
      "metadata": {
        "id": "mspv6dGiwVdB"
      }
    },
    {
      "cell_type": "code",
      "source": [
        "trained_model_df = SimpleMLP(max_features = MAX_FEATURES ,\n",
        "                       hidden_dim1=HIDDEN_DIM1,\n",
        "                       hidden_dim2=HIDDEN_DIM2,\n",
        "                       drop_prob1=DROP_PROB1,\n",
        "                       drop_prob2=DROP_PROB2,\n",
        "                       num_outputs=NUM_OUTPUTS)\n",
        "\n",
        "checkpoint = torch.load(path)\n",
        "trained_model_df.load_state_dict(checkpoint)"
      ],
      "metadata": {
        "id": "6sJc3LGWwYzH",
        "colab": {
          "base_uri": "https://localhost:8080/"
        },
        "outputId": "fe44889e-2409-47a0-81e8-1fb16c7ff8f6"
      },
      "execution_count": 80,
      "outputs": [
        {
          "output_type": "execute_result",
          "data": {
            "text/plain": [
              "<All keys matched successfully>"
            ]
          },
          "metadata": {},
          "execution_count": 80
        }
      ]
    },
    {
      "cell_type": "code",
      "source": [
        "# Get the prediction and accuracy\n",
        "predictions_test, labels_test, hamming_distance_test = get_acc_pred(test_loader, trained_model_df, device)"
      ],
      "metadata": {
        "id": "hHaQ8x2D4ypt"
      },
      "execution_count": 81,
      "outputs": []
    },
    {
      "cell_type": "code",
      "source": [
        "# Print Test Accuracy\n",
        "print('Test Hamming distance', hamming_distance_test)"
      ],
      "metadata": {
        "id": "FWknq_aE0aU0",
        "colab": {
          "base_uri": "https://localhost:8080/"
        },
        "outputId": "bf0079f2-1468-4958-ad45-3d250341cf0a"
      },
      "execution_count": 82,
      "outputs": [
        {
          "output_type": "stream",
          "name": "stdout",
          "text": [
            "Test Hamming distance tensor(0.0396)\n"
          ]
        }
      ]
    },
    {
      "cell_type": "code",
      "source": [
        "test_hamming_distance = HammingDistance(task=\"multilabel\", num_labels=10).to(device)\n",
        "test_hamming_distance.update(labels_test, predictions_test)"
      ],
      "metadata": {
        "id": "5I8l5mWV0bz4"
      },
      "execution_count": 83,
      "outputs": []
    },
    {
      "cell_type": "code",
      "source": [
        "test_hamming_distance.compute()"
      ],
      "metadata": {
        "id": "eb1ZFxQO0ejw",
        "colab": {
          "base_uri": "https://localhost:8080/"
        },
        "outputId": "dc9d442d-a301-474a-890c-b39a1ee56f1a"
      },
      "execution_count": 84,
      "outputs": [
        {
          "output_type": "execute_result",
          "data": {
            "text/plain": [
              "tensor(0.0396)"
            ]
          },
          "metadata": {},
          "execution_count": 84
        }
      ]
    },
    {
      "cell_type": "code",
      "source": [
        "sample_X = X_test[0:5]\n",
        "sample_X"
      ],
      "metadata": {
        "id": "k0rOjmMO0fGk",
        "colab": {
          "base_uri": "https://localhost:8080/"
        },
        "outputId": "61d1522a-542e-4eb6-9a45-7866bf8b43f8"
      },
      "execution_count": 85,
      "outputs": [
        {
          "output_type": "execute_result",
          "data": {
            "text/plain": [
              "6082     open fancybox pageload situation open fancy bo...\n",
              "18123    create work array image android struggle work ...\n",
              "16377    hide image filter table work web page large ta...\n",
              "27029    javascript namespace issue value function m su...\n",
              "6433     unescape javascript escape c function c handle...\n",
              "Name: cleaned_text, dtype: object"
            ]
          },
          "metadata": {},
          "execution_count": 85
        }
      ]
    },
    {
      "cell_type": "code",
      "source": [
        "X_sample = tfidf_vectorizer.transform(sample_X)\n",
        "X_sample = torch.Tensor(X_sample.toarray())\n",
        "X_sample =X_sample.to(device)"
      ],
      "metadata": {
        "id": "y3zhaV7a0hdo"
      },
      "execution_count": 88,
      "outputs": []
    },
    {
      "cell_type": "code",
      "source": [
        "model_df.to(device)\n",
        "model_df.eval()\n",
        "# get outputs (logits) from model\n",
        "outputs = model_df(X_sample)"
      ],
      "metadata": {
        "id": "RyvpILmg0i3U"
      },
      "execution_count": 89,
      "outputs": []
    },
    {
      "cell_type": "code",
      "source": [
        "# get predicted labels\n",
        "predictions = outputs > 0.5\n",
        "\n",
        "# mapping for class labels\n",
        "mapping = {0: 'c#', 1: 'java', 2: 'php', 3: 'javascript', 4: 'android', 5: 'jquery', 6: 'c++', 7: 'python', 8: 'iphone', 9: 'asp.net'}\n",
        "\n",
        "predicted_label_names = []\n",
        "for sample_pred in predictions:\n",
        "    labels = [mapping[i] for i, val in enumerate(sample_pred) if val == 1]\n",
        "    predicted_label_names.append(labels)\n",
        "\n",
        "print(predicted_label_names)"
      ],
      "metadata": {
        "id": "99duakl90nxH",
        "colab": {
          "base_uri": "https://localhost:8080/"
        },
        "outputId": "def98f78-5bb8-4d13-dd9f-65984158c507"
      },
      "execution_count": 90,
      "outputs": [
        {
          "output_type": "stream",
          "name": "stdout",
          "text": [
            "[['asp.net'], ['java', 'android'], ['javascript', 'jquery'], ['javascript', 'jquery'], ['javascript']]\n"
          ]
        }
      ]
    }
  ]
}